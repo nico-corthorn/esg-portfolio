{
 "cells": [
  {
   "cell_type": "code",
   "execution_count": 1,
   "id": "c9d8ce05",
   "metadata": {},
   "outputs": [],
   "source": [
    "import os\n",
    "import json\n",
    "import pandas as pd\n",
    "import numpy as np\n",
    "import datetime as dt\n",
    "import matplotlib.pyplot as plt\n",
    "import seaborn as sns"
   ]
  },
  {
   "cell_type": "code",
   "execution_count": 2,
   "id": "9af6c351",
   "metadata": {},
   "outputs": [],
   "source": [
    "from sklearn.model_selection import train_test_split\n",
    "from sklearn.feature_extraction.text import TfidfTransformer\n",
    "from sklearn.preprocessing import StandardScaler\n",
    "from imblearn.over_sampling import ADASYN\n",
    "from sklearn import metrics\n",
    "from sklearn.metrics import precision_recall_curve\n",
    "from sklearn.model_selection import cross_validate\n",
    "from sklearn.model_selection import GridSearchCV\n",
    "from sklearn.dummy import DummyClassifier\n",
    "from sklearn.linear_model import LogisticRegression\n",
    "from sklearn.svm import SVC\n",
    "from sklearn.neighbors import KNeighborsClassifier\n",
    "from sklearn.ensemble import RandomForestClassifier\n",
    "#from catboost import CatBoostClassifier, Pool, cv\n",
    "import statsmodels.api as sm"
   ]
  },
  {
   "cell_type": "code",
   "execution_count": 3,
   "id": "47e8155d",
   "metadata": {},
   "outputs": [],
   "source": [
    "os.chdir('..')\n",
    "os.chdir('..')\n",
    "os.chdir('..')"
   ]
  },
  {
   "cell_type": "code",
   "execution_count": 4,
   "id": "8ae2f870",
   "metadata": {},
   "outputs": [
    {
     "data": {
      "text/plain": [
       "'D:\\\\coding\\\\springboard\\\\capstone\\\\springboard-capstone-project\\\\app'"
      ]
     },
     "execution_count": 4,
     "metadata": {},
     "output_type": "execute_result"
    }
   ],
   "source": [
    "pwd"
   ]
  },
  {
   "cell_type": "markdown",
   "id": "748f354e",
   "metadata": {},
   "source": [
    "### Data wrangling for supervised models"
   ]
  },
  {
   "cell_type": "code",
   "execution_count": 1,
   "id": "95122511",
   "metadata": {},
   "outputs": [
    {
     "ename": "NameError",
     "evalue": "name 'pd' is not defined",
     "output_type": "error",
     "traceback": [
      "\u001b[1;31m---------------------------------------------------------------------------\u001b[0m",
      "\u001b[1;31mNameError\u001b[0m                                 Traceback (most recent call last)",
      "\u001b[1;32m<ipython-input-1-ce88cea8eace>\u001b[0m in \u001b[0;36m<module>\u001b[1;34m\u001b[0m\n\u001b[1;32m----> 1\u001b[1;33m \u001b[0mnyt\u001b[0m \u001b[1;33m=\u001b[0m \u001b[0mpd\u001b[0m\u001b[1;33m.\u001b[0m\u001b[0mread_csv\u001b[0m\u001b[1;33m(\u001b[0m\u001b[1;34m'data/nyt/data_clean.csv'\u001b[0m\u001b[1;33m)\u001b[0m\u001b[1;33m.\u001b[0m\u001b[0mreset_index\u001b[0m\u001b[1;33m(\u001b[0m\u001b[1;33m)\u001b[0m\u001b[1;33m\u001b[0m\u001b[1;33m\u001b[0m\u001b[0m\n\u001b[0m\u001b[0;32m      2\u001b[0m \u001b[0mnyt_label\u001b[0m \u001b[1;33m=\u001b[0m \u001b[0mpd\u001b[0m\u001b[1;33m.\u001b[0m\u001b[0mread_csv\u001b[0m\u001b[1;33m(\u001b[0m\u001b[1;34m'data/nyt/nyt_group1_labelled.csv'\u001b[0m\u001b[1;33m)\u001b[0m\u001b[1;33m\u001b[0m\u001b[1;33m\u001b[0m\u001b[0m\n",
      "\u001b[1;31mNameError\u001b[0m: name 'pd' is not defined"
     ]
    }
   ],
   "source": [
    "nyt = pd.read_csv('data/nyt/data_clean.csv').reset_index()\n",
    "nyt_label = pd.read_csv('data/nyt/nyt_group1_labelled.csv')"
   ]
  },
  {
   "cell_type": "code",
   "execution_count": null,
   "id": "e37ad112",
   "metadata": {},
   "outputs": [],
   "source": [
    "nyt['headline'] = nyt.headline.str.replace(\"â\\x80\\x99\",\"'\").str.replace(\"â\\x80\\x98\", \"'\")\n",
    "nyt['snippet'] = nyt.snippet.str.replace(\"â\\x80\\x99\",\"'\").str.replace(\"â\\x80\\x98\", \"'\")\n",
    "nyt['text'] = nyt.headline.fillna('') + '. ' + nyt.snippet.fillna('')"
   ]
  },
  {
   "cell_type": "code",
   "execution_count": 6,
   "id": "67a2d706",
   "metadata": {},
   "outputs": [],
   "source": [
    "with open(\"data/nyt/word_index.json\",) as f:\n",
    "    word_index = json.load(f)\n",
    "word_index_r = {v: k for k, v in word_index.items()}"
   ]
  },
  {
   "cell_type": "code",
   "execution_count": 7,
   "id": "54b6a3f3",
   "metadata": {},
   "outputs": [
    {
     "data": {
      "text/html": [
       "<div>\n",
       "<style scoped>\n",
       "    .dataframe tbody tr th:only-of-type {\n",
       "        vertical-align: middle;\n",
       "    }\n",
       "\n",
       "    .dataframe tbody tr th {\n",
       "        vertical-align: top;\n",
       "    }\n",
       "\n",
       "    .dataframe thead th {\n",
       "        text-align: right;\n",
       "    }\n",
       "</style>\n",
       "<table border=\"1\" class=\"dataframe\">\n",
       "  <thead>\n",
       "    <tr style=\"text-align: right;\">\n",
       "      <th></th>\n",
       "      <th>index</th>\n",
       "      <th>web_url</th>\n",
       "      <th>pub_date</th>\n",
       "      <th>organizations</th>\n",
       "      <th>subjects</th>\n",
       "      <th>headline</th>\n",
       "      <th>snippet</th>\n",
       "      <th>text</th>\n",
       "      <th>text_clean</th>\n",
       "    </tr>\n",
       "  </thead>\n",
       "  <tbody>\n",
       "    <tr>\n",
       "      <th>0</th>\n",
       "      <td>0</td>\n",
       "      <td>https://www.nytimes.com/2001/07/12/business/ad...</td>\n",
       "      <td>2001-07-12T05:00:00+0000</td>\n",
       "      <td>Young &amp;</td>\n",
       "      <td>TELEVISION AND RADIO PROGRAMMING | Stocks and ...</td>\n",
       "      <td>Addenda: Whitehall Parts Ways With Young &amp; Rub...</td>\n",
       "      <td>The Whitehall-Robins Healthcare division of th...</td>\n",
       "      <td>Addenda: Whitehall Parts Ways With Young &amp; Rub...</td>\n",
       "      <td>addenda whitehall part way young rubicam white...</td>\n",
       "    </tr>\n",
       "    <tr>\n",
       "      <th>1</th>\n",
       "      <td>1</td>\n",
       "      <td>https://www.nytimes.com/2001/07/15/business/a-...</td>\n",
       "      <td>2001-07-15T05:00:00+0000</td>\n",
       "      <td>Portland State University,Nike Incorporated,Fo...</td>\n",
       "      <td>NaN</td>\n",
       "      <td>A Famous $35 Emblem Put to Charitable Use</td>\n",
       "      <td>In 1971, Philip H. Knight asked Carolyn Davids...</td>\n",
       "      <td>A Famous $35 Emblem Put to Charitable Use In 1...</td>\n",
       "      <td>famous emblem put charitable use philip h knig...</td>\n",
       "    </tr>\n",
       "  </tbody>\n",
       "</table>\n",
       "</div>"
      ],
      "text/plain": [
       "   index                                            web_url  \\\n",
       "0      0  https://www.nytimes.com/2001/07/12/business/ad...   \n",
       "1      1  https://www.nytimes.com/2001/07/15/business/a-...   \n",
       "\n",
       "                   pub_date  \\\n",
       "0  2001-07-12T05:00:00+0000   \n",
       "1  2001-07-15T05:00:00+0000   \n",
       "\n",
       "                                       organizations  \\\n",
       "0                                            Young &   \n",
       "1  Portland State University,Nike Incorporated,Fo...   \n",
       "\n",
       "                                            subjects  \\\n",
       "0  TELEVISION AND RADIO PROGRAMMING | Stocks and ...   \n",
       "1                                                NaN   \n",
       "\n",
       "                                            headline  \\\n",
       "0  Addenda: Whitehall Parts Ways With Young & Rub...   \n",
       "1          A Famous $35 Emblem Put to Charitable Use   \n",
       "\n",
       "                                             snippet  \\\n",
       "0  The Whitehall-Robins Healthcare division of th...   \n",
       "1  In 1971, Philip H. Knight asked Carolyn Davids...   \n",
       "\n",
       "                                                text  \\\n",
       "0  Addenda: Whitehall Parts Ways With Young & Rub...   \n",
       "1  A Famous $35 Emblem Put to Charitable Use In 1...   \n",
       "\n",
       "                                          text_clean  \n",
       "0  addenda whitehall part way young rubicam white...  \n",
       "1  famous emblem put charitable use philip h knig...  "
      ]
     },
     "execution_count": 7,
     "metadata": {},
     "output_type": "execute_result"
    }
   ],
   "source": [
    "nyt.head(2)"
   ]
  },
  {
   "cell_type": "code",
   "execution_count": 8,
   "id": "33edb477",
   "metadata": {},
   "outputs": [
    {
     "data": {
      "text/html": [
       "<div>\n",
       "<style scoped>\n",
       "    .dataframe tbody tr th:only-of-type {\n",
       "        vertical-align: middle;\n",
       "    }\n",
       "\n",
       "    .dataframe tbody tr th {\n",
       "        vertical-align: top;\n",
       "    }\n",
       "\n",
       "    .dataframe thead th {\n",
       "        text-align: right;\n",
       "    }\n",
       "</style>\n",
       "<table border=\"1\" class=\"dataframe\">\n",
       "  <thead>\n",
       "    <tr style=\"text-align: right;\">\n",
       "      <th></th>\n",
       "      <th>web_url</th>\n",
       "      <th>label</th>\n",
       "    </tr>\n",
       "  </thead>\n",
       "  <tbody>\n",
       "    <tr>\n",
       "      <th>0</th>\n",
       "      <td>https://www.nytimes.com/2001/07/29/business/le...</td>\n",
       "      <td>S</td>\n",
       "    </tr>\n",
       "    <tr>\n",
       "      <th>1</th>\n",
       "      <td>https://www.nytimes.com/2001/08/16/business/me...</td>\n",
       "      <td>O</td>\n",
       "    </tr>\n",
       "    <tr>\n",
       "      <th>2</th>\n",
       "      <td>https://www.nytimes.com/2001/08/31/business/gr...</td>\n",
       "      <td>O</td>\n",
       "    </tr>\n",
       "    <tr>\n",
       "      <th>3</th>\n",
       "      <td>https://www.nytimes.com/2001/09/17/business/fe...</td>\n",
       "      <td>O</td>\n",
       "    </tr>\n",
       "    <tr>\n",
       "      <th>4</th>\n",
       "      <td>https://www.nytimes.com/2001/10/07/business/ne...</td>\n",
       "      <td>O</td>\n",
       "    </tr>\n",
       "  </tbody>\n",
       "</table>\n",
       "</div>"
      ],
      "text/plain": [
       "                                             web_url label\n",
       "0  https://www.nytimes.com/2001/07/29/business/le...     S\n",
       "1  https://www.nytimes.com/2001/08/16/business/me...     O\n",
       "2  https://www.nytimes.com/2001/08/31/business/gr...     O\n",
       "3  https://www.nytimes.com/2001/09/17/business/fe...     O\n",
       "4  https://www.nytimes.com/2001/10/07/business/ne...     O"
      ]
     },
     "execution_count": 8,
     "metadata": {},
     "output_type": "execute_result"
    }
   ],
   "source": [
    "nyt_label.head()"
   ]
  },
  {
   "cell_type": "code",
   "execution_count": 9,
   "id": "aa362baa",
   "metadata": {},
   "outputs": [
    {
     "data": {
      "text/html": [
       "<div>\n",
       "<style scoped>\n",
       "    .dataframe tbody tr th:only-of-type {\n",
       "        vertical-align: middle;\n",
       "    }\n",
       "\n",
       "    .dataframe tbody tr th {\n",
       "        vertical-align: top;\n",
       "    }\n",
       "\n",
       "    .dataframe thead th {\n",
       "        text-align: right;\n",
       "    }\n",
       "</style>\n",
       "<table border=\"1\" class=\"dataframe\">\n",
       "  <thead>\n",
       "    <tr style=\"text-align: right;\">\n",
       "      <th></th>\n",
       "      <th>0</th>\n",
       "      <th>1</th>\n",
       "      <th>2</th>\n",
       "      <th>3</th>\n",
       "      <th>4</th>\n",
       "      <th>5</th>\n",
       "      <th>6</th>\n",
       "      <th>7</th>\n",
       "      <th>8</th>\n",
       "      <th>9</th>\n",
       "      <th>...</th>\n",
       "      <th>20</th>\n",
       "      <th>21</th>\n",
       "      <th>22</th>\n",
       "      <th>23</th>\n",
       "      <th>24</th>\n",
       "      <th>25</th>\n",
       "      <th>26</th>\n",
       "      <th>27</th>\n",
       "      <th>28</th>\n",
       "      <th>29</th>\n",
       "    </tr>\n",
       "  </thead>\n",
       "  <tbody>\n",
       "    <tr>\n",
       "      <th>0</th>\n",
       "      <td>1</td>\n",
       "      <td>1</td>\n",
       "      <td>144</td>\n",
       "      <td>102</td>\n",
       "      <td>566</td>\n",
       "      <td>1</td>\n",
       "      <td>1</td>\n",
       "      <td>1</td>\n",
       "      <td>684</td>\n",
       "      <td>65</td>\n",
       "      <td>...</td>\n",
       "      <td>67</td>\n",
       "      <td>349</td>\n",
       "      <td>566</td>\n",
       "      <td>1</td>\n",
       "      <td>314</td>\n",
       "      <td>144</td>\n",
       "      <td>566</td>\n",
       "      <td>1</td>\n",
       "      <td>0</td>\n",
       "      <td>0</td>\n",
       "    </tr>\n",
       "    <tr>\n",
       "      <th>1</th>\n",
       "      <td>2782</td>\n",
       "      <td>1</td>\n",
       "      <td>185</td>\n",
       "      <td>1</td>\n",
       "      <td>33</td>\n",
       "      <td>1</td>\n",
       "      <td>1259</td>\n",
       "      <td>1</td>\n",
       "      <td>348</td>\n",
       "      <td>1</td>\n",
       "      <td>...</td>\n",
       "      <td>0</td>\n",
       "      <td>0</td>\n",
       "      <td>0</td>\n",
       "      <td>0</td>\n",
       "      <td>0</td>\n",
       "      <td>0</td>\n",
       "      <td>0</td>\n",
       "      <td>0</td>\n",
       "      <td>0</td>\n",
       "      <td>0</td>\n",
       "    </tr>\n",
       "    <tr>\n",
       "      <th>2</th>\n",
       "      <td>1</td>\n",
       "      <td>1</td>\n",
       "      <td>4</td>\n",
       "      <td>67</td>\n",
       "      <td>1084</td>\n",
       "      <td>1</td>\n",
       "      <td>1</td>\n",
       "      <td>1</td>\n",
       "      <td>1</td>\n",
       "      <td>255</td>\n",
       "      <td>...</td>\n",
       "      <td>0</td>\n",
       "      <td>0</td>\n",
       "      <td>0</td>\n",
       "      <td>0</td>\n",
       "      <td>0</td>\n",
       "      <td>0</td>\n",
       "      <td>0</td>\n",
       "      <td>0</td>\n",
       "      <td>0</td>\n",
       "      <td>0</td>\n",
       "    </tr>\n",
       "    <tr>\n",
       "      <th>3</th>\n",
       "      <td>1</td>\n",
       "      <td>1887</td>\n",
       "      <td>2064</td>\n",
       "      <td>147</td>\n",
       "      <td>1789</td>\n",
       "      <td>4</td>\n",
       "      <td>173</td>\n",
       "      <td>1</td>\n",
       "      <td>1887</td>\n",
       "      <td>2064</td>\n",
       "      <td>...</td>\n",
       "      <td>0</td>\n",
       "      <td>0</td>\n",
       "      <td>0</td>\n",
       "      <td>0</td>\n",
       "      <td>0</td>\n",
       "      <td>0</td>\n",
       "      <td>0</td>\n",
       "      <td>0</td>\n",
       "      <td>0</td>\n",
       "      <td>0</td>\n",
       "    </tr>\n",
       "    <tr>\n",
       "      <th>4</th>\n",
       "      <td>1</td>\n",
       "      <td>687</td>\n",
       "      <td>578</td>\n",
       "      <td>651</td>\n",
       "      <td>217</td>\n",
       "      <td>1</td>\n",
       "      <td>1</td>\n",
       "      <td>92</td>\n",
       "      <td>32</td>\n",
       "      <td>1</td>\n",
       "      <td>...</td>\n",
       "      <td>2117</td>\n",
       "      <td>1107</td>\n",
       "      <td>687</td>\n",
       "      <td>376</td>\n",
       "      <td>117</td>\n",
       "      <td>2</td>\n",
       "      <td>1</td>\n",
       "      <td>0</td>\n",
       "      <td>0</td>\n",
       "      <td>0</td>\n",
       "    </tr>\n",
       "  </tbody>\n",
       "</table>\n",
       "<p>5 rows × 30 columns</p>\n",
       "</div>"
      ],
      "text/plain": [
       "      0     1     2    3     4  5     6   7     8     9  ...    20    21   22  \\\n",
       "0     1     1   144  102   566  1     1   1   684    65  ...    67   349  566   \n",
       "1  2782     1   185    1    33  1  1259   1   348     1  ...     0     0    0   \n",
       "2     1     1     4   67  1084  1     1   1     1   255  ...     0     0    0   \n",
       "3     1  1887  2064  147  1789  4   173   1  1887  2064  ...     0     0    0   \n",
       "4     1   687   578  651   217  1     1  92    32     1  ...  2117  1107  687   \n",
       "\n",
       "    23   24   25   26  27  28  29  \n",
       "0    1  314  144  566   1   0   0  \n",
       "1    0    0    0    0   0   0   0  \n",
       "2    0    0    0    0   0   0   0  \n",
       "3    0    0    0    0   0   0   0  \n",
       "4  376  117    2    1   0   0   0  \n",
       "\n",
       "[5 rows x 30 columns]"
      ]
     },
     "execution_count": 9,
     "metadata": {},
     "output_type": "execute_result"
    }
   ],
   "source": [
    "nyt_enc.iloc[:5]"
   ]
  },
  {
   "cell_type": "code",
   "execution_count": 10,
   "id": "fa23bbdf",
   "metadata": {},
   "outputs": [
    {
     "data": {
      "text/plain": [
       "(80119, 9)"
      ]
     },
     "execution_count": 10,
     "metadata": {},
     "output_type": "execute_result"
    }
   ],
   "source": [
    "nyt.shape"
   ]
  },
  {
   "cell_type": "code",
   "execution_count": 11,
   "id": "528d7bf1",
   "metadata": {},
   "outputs": [
    {
     "data": {
      "text/plain": [
       "(80119, 30)"
      ]
     },
     "execution_count": 11,
     "metadata": {},
     "output_type": "execute_result"
    }
   ],
   "source": [
    "nyt_enc.shape"
   ]
  },
  {
   "cell_type": "code",
   "execution_count": 12,
   "id": "5e3b96d8",
   "metadata": {},
   "outputs": [
    {
     "data": {
      "text/plain": [
       "('<UNK>', 'say')"
      ]
     },
     "execution_count": 12,
     "metadata": {},
     "output_type": "execute_result"
    }
   ],
   "source": [
    "word_index_r[1], word_index_r[2]"
   ]
  },
  {
   "cell_type": "code",
   "execution_count": 13,
   "id": "b5c88cc8",
   "metadata": {},
   "outputs": [],
   "source": [
    "nyt_melt = nyt_enc.iloc[:, 1:].reset_index().melt(id_vars='index')\n",
    "nyt_melt['count'] = 1\n",
    "nyt_bow = nyt_melt.pivot_table(index='index', columns='value', values='count', aggfunc=sum).fillna(0)"
   ]
  },
  {
   "cell_type": "code",
   "execution_count": 14,
   "id": "d727fc69",
   "metadata": {},
   "outputs": [
    {
     "data": {
      "text/html": [
       "<div>\n",
       "<style scoped>\n",
       "    .dataframe tbody tr th:only-of-type {\n",
       "        vertical-align: middle;\n",
       "    }\n",
       "\n",
       "    .dataframe tbody tr th {\n",
       "        vertical-align: top;\n",
       "    }\n",
       "\n",
       "    .dataframe thead th {\n",
       "        text-align: right;\n",
       "    }\n",
       "</style>\n",
       "<table border=\"1\" class=\"dataframe\">\n",
       "  <thead>\n",
       "    <tr style=\"text-align: right;\">\n",
       "      <th>value</th>\n",
       "      <th>0</th>\n",
       "      <th>1</th>\n",
       "      <th>2</th>\n",
       "      <th>3</th>\n",
       "      <th>4</th>\n",
       "      <th>5</th>\n",
       "      <th>6</th>\n",
       "      <th>7</th>\n",
       "      <th>8</th>\n",
       "      <th>9</th>\n",
       "      <th>...</th>\n",
       "      <th>2990</th>\n",
       "      <th>2991</th>\n",
       "      <th>2992</th>\n",
       "      <th>2993</th>\n",
       "      <th>2994</th>\n",
       "      <th>2995</th>\n",
       "      <th>2996</th>\n",
       "      <th>2997</th>\n",
       "      <th>2998</th>\n",
       "      <th>2999</th>\n",
       "    </tr>\n",
       "    <tr>\n",
       "      <th>index</th>\n",
       "      <th></th>\n",
       "      <th></th>\n",
       "      <th></th>\n",
       "      <th></th>\n",
       "      <th></th>\n",
       "      <th></th>\n",
       "      <th></th>\n",
       "      <th></th>\n",
       "      <th></th>\n",
       "      <th></th>\n",
       "      <th></th>\n",
       "      <th></th>\n",
       "      <th></th>\n",
       "      <th></th>\n",
       "      <th></th>\n",
       "      <th></th>\n",
       "      <th></th>\n",
       "      <th></th>\n",
       "      <th></th>\n",
       "      <th></th>\n",
       "      <th></th>\n",
       "    </tr>\n",
       "  </thead>\n",
       "  <tbody>\n",
       "    <tr>\n",
       "      <th>0</th>\n",
       "      <td>2.0</td>\n",
       "      <td>8.0</td>\n",
       "      <td>1.0</td>\n",
       "      <td>0.0</td>\n",
       "      <td>1.0</td>\n",
       "      <td>0.0</td>\n",
       "      <td>0.0</td>\n",
       "      <td>0.0</td>\n",
       "      <td>0.0</td>\n",
       "      <td>0.0</td>\n",
       "      <td>...</td>\n",
       "      <td>0.0</td>\n",
       "      <td>0.0</td>\n",
       "      <td>0.0</td>\n",
       "      <td>0.0</td>\n",
       "      <td>0.0</td>\n",
       "      <td>0.0</td>\n",
       "      <td>0.0</td>\n",
       "      <td>0.0</td>\n",
       "      <td>0.0</td>\n",
       "      <td>0.0</td>\n",
       "    </tr>\n",
       "    <tr>\n",
       "      <th>1</th>\n",
       "      <td>12.0</td>\n",
       "      <td>7.0</td>\n",
       "      <td>0.0</td>\n",
       "      <td>1.0</td>\n",
       "      <td>0.0</td>\n",
       "      <td>0.0</td>\n",
       "      <td>0.0</td>\n",
       "      <td>0.0</td>\n",
       "      <td>0.0</td>\n",
       "      <td>0.0</td>\n",
       "      <td>...</td>\n",
       "      <td>0.0</td>\n",
       "      <td>0.0</td>\n",
       "      <td>0.0</td>\n",
       "      <td>0.0</td>\n",
       "      <td>0.0</td>\n",
       "      <td>0.0</td>\n",
       "      <td>0.0</td>\n",
       "      <td>0.0</td>\n",
       "      <td>0.0</td>\n",
       "      <td>0.0</td>\n",
       "    </tr>\n",
       "    <tr>\n",
       "      <th>2</th>\n",
       "      <td>10.0</td>\n",
       "      <td>7.0</td>\n",
       "      <td>0.0</td>\n",
       "      <td>0.0</td>\n",
       "      <td>2.0</td>\n",
       "      <td>0.0</td>\n",
       "      <td>0.0</td>\n",
       "      <td>0.0</td>\n",
       "      <td>0.0</td>\n",
       "      <td>0.0</td>\n",
       "      <td>...</td>\n",
       "      <td>0.0</td>\n",
       "      <td>0.0</td>\n",
       "      <td>0.0</td>\n",
       "      <td>0.0</td>\n",
       "      <td>0.0</td>\n",
       "      <td>0.0</td>\n",
       "      <td>0.0</td>\n",
       "      <td>0.0</td>\n",
       "      <td>0.0</td>\n",
       "      <td>0.0</td>\n",
       "    </tr>\n",
       "    <tr>\n",
       "      <th>3</th>\n",
       "      <td>16.0</td>\n",
       "      <td>2.0</td>\n",
       "      <td>0.0</td>\n",
       "      <td>0.0</td>\n",
       "      <td>2.0</td>\n",
       "      <td>0.0</td>\n",
       "      <td>0.0</td>\n",
       "      <td>0.0</td>\n",
       "      <td>0.0</td>\n",
       "      <td>0.0</td>\n",
       "      <td>...</td>\n",
       "      <td>0.0</td>\n",
       "      <td>0.0</td>\n",
       "      <td>0.0</td>\n",
       "      <td>0.0</td>\n",
       "      <td>0.0</td>\n",
       "      <td>0.0</td>\n",
       "      <td>0.0</td>\n",
       "      <td>0.0</td>\n",
       "      <td>0.0</td>\n",
       "      <td>0.0</td>\n",
       "    </tr>\n",
       "    <tr>\n",
       "      <th>4</th>\n",
       "      <td>3.0</td>\n",
       "      <td>6.0</td>\n",
       "      <td>2.0</td>\n",
       "      <td>0.0</td>\n",
       "      <td>0.0</td>\n",
       "      <td>0.0</td>\n",
       "      <td>0.0</td>\n",
       "      <td>0.0</td>\n",
       "      <td>0.0</td>\n",
       "      <td>1.0</td>\n",
       "      <td>...</td>\n",
       "      <td>0.0</td>\n",
       "      <td>0.0</td>\n",
       "      <td>0.0</td>\n",
       "      <td>0.0</td>\n",
       "      <td>0.0</td>\n",
       "      <td>0.0</td>\n",
       "      <td>0.0</td>\n",
       "      <td>0.0</td>\n",
       "      <td>0.0</td>\n",
       "      <td>0.0</td>\n",
       "    </tr>\n",
       "    <tr>\n",
       "      <th>...</th>\n",
       "      <td>...</td>\n",
       "      <td>...</td>\n",
       "      <td>...</td>\n",
       "      <td>...</td>\n",
       "      <td>...</td>\n",
       "      <td>...</td>\n",
       "      <td>...</td>\n",
       "      <td>...</td>\n",
       "      <td>...</td>\n",
       "      <td>...</td>\n",
       "      <td>...</td>\n",
       "      <td>...</td>\n",
       "      <td>...</td>\n",
       "      <td>...</td>\n",
       "      <td>...</td>\n",
       "      <td>...</td>\n",
       "      <td>...</td>\n",
       "      <td>...</td>\n",
       "      <td>...</td>\n",
       "      <td>...</td>\n",
       "      <td>...</td>\n",
       "    </tr>\n",
       "    <tr>\n",
       "      <th>80114</th>\n",
       "      <td>17.0</td>\n",
       "      <td>2.0</td>\n",
       "      <td>0.0</td>\n",
       "      <td>0.0</td>\n",
       "      <td>0.0</td>\n",
       "      <td>0.0</td>\n",
       "      <td>1.0</td>\n",
       "      <td>0.0</td>\n",
       "      <td>0.0</td>\n",
       "      <td>0.0</td>\n",
       "      <td>...</td>\n",
       "      <td>0.0</td>\n",
       "      <td>0.0</td>\n",
       "      <td>0.0</td>\n",
       "      <td>0.0</td>\n",
       "      <td>0.0</td>\n",
       "      <td>0.0</td>\n",
       "      <td>0.0</td>\n",
       "      <td>0.0</td>\n",
       "      <td>0.0</td>\n",
       "      <td>0.0</td>\n",
       "    </tr>\n",
       "    <tr>\n",
       "      <th>80115</th>\n",
       "      <td>7.0</td>\n",
       "      <td>7.0</td>\n",
       "      <td>0.0</td>\n",
       "      <td>0.0</td>\n",
       "      <td>1.0</td>\n",
       "      <td>0.0</td>\n",
       "      <td>0.0</td>\n",
       "      <td>0.0</td>\n",
       "      <td>0.0</td>\n",
       "      <td>0.0</td>\n",
       "      <td>...</td>\n",
       "      <td>0.0</td>\n",
       "      <td>0.0</td>\n",
       "      <td>0.0</td>\n",
       "      <td>0.0</td>\n",
       "      <td>0.0</td>\n",
       "      <td>0.0</td>\n",
       "      <td>0.0</td>\n",
       "      <td>0.0</td>\n",
       "      <td>1.0</td>\n",
       "      <td>0.0</td>\n",
       "    </tr>\n",
       "    <tr>\n",
       "      <th>80116</th>\n",
       "      <td>3.0</td>\n",
       "      <td>4.0</td>\n",
       "      <td>2.0</td>\n",
       "      <td>0.0</td>\n",
       "      <td>1.0</td>\n",
       "      <td>0.0</td>\n",
       "      <td>0.0</td>\n",
       "      <td>0.0</td>\n",
       "      <td>0.0</td>\n",
       "      <td>0.0</td>\n",
       "      <td>...</td>\n",
       "      <td>0.0</td>\n",
       "      <td>0.0</td>\n",
       "      <td>0.0</td>\n",
       "      <td>0.0</td>\n",
       "      <td>0.0</td>\n",
       "      <td>0.0</td>\n",
       "      <td>0.0</td>\n",
       "      <td>0.0</td>\n",
       "      <td>0.0</td>\n",
       "      <td>0.0</td>\n",
       "    </tr>\n",
       "    <tr>\n",
       "      <th>80117</th>\n",
       "      <td>5.0</td>\n",
       "      <td>2.0</td>\n",
       "      <td>0.0</td>\n",
       "      <td>2.0</td>\n",
       "      <td>0.0</td>\n",
       "      <td>0.0</td>\n",
       "      <td>0.0</td>\n",
       "      <td>0.0</td>\n",
       "      <td>0.0</td>\n",
       "      <td>0.0</td>\n",
       "      <td>...</td>\n",
       "      <td>0.0</td>\n",
       "      <td>0.0</td>\n",
       "      <td>0.0</td>\n",
       "      <td>0.0</td>\n",
       "      <td>0.0</td>\n",
       "      <td>0.0</td>\n",
       "      <td>0.0</td>\n",
       "      <td>0.0</td>\n",
       "      <td>0.0</td>\n",
       "      <td>0.0</td>\n",
       "    </tr>\n",
       "    <tr>\n",
       "      <th>80118</th>\n",
       "      <td>1.0</td>\n",
       "      <td>6.0</td>\n",
       "      <td>0.0</td>\n",
       "      <td>0.0</td>\n",
       "      <td>0.0</td>\n",
       "      <td>0.0</td>\n",
       "      <td>0.0</td>\n",
       "      <td>0.0</td>\n",
       "      <td>0.0</td>\n",
       "      <td>1.0</td>\n",
       "      <td>...</td>\n",
       "      <td>0.0</td>\n",
       "      <td>0.0</td>\n",
       "      <td>0.0</td>\n",
       "      <td>0.0</td>\n",
       "      <td>0.0</td>\n",
       "      <td>0.0</td>\n",
       "      <td>0.0</td>\n",
       "      <td>0.0</td>\n",
       "      <td>0.0</td>\n",
       "      <td>0.0</td>\n",
       "    </tr>\n",
       "  </tbody>\n",
       "</table>\n",
       "<p>80119 rows × 2999 columns</p>\n",
       "</div>"
      ],
      "text/plain": [
       "value  0     1     2     3     4     5     6     7     8     9     ...  2990  \\\n",
       "index                                                              ...         \n",
       "0       2.0   8.0   1.0   0.0   1.0   0.0   0.0   0.0   0.0   0.0  ...   0.0   \n",
       "1      12.0   7.0   0.0   1.0   0.0   0.0   0.0   0.0   0.0   0.0  ...   0.0   \n",
       "2      10.0   7.0   0.0   0.0   2.0   0.0   0.0   0.0   0.0   0.0  ...   0.0   \n",
       "3      16.0   2.0   0.0   0.0   2.0   0.0   0.0   0.0   0.0   0.0  ...   0.0   \n",
       "4       3.0   6.0   2.0   0.0   0.0   0.0   0.0   0.0   0.0   1.0  ...   0.0   \n",
       "...     ...   ...   ...   ...   ...   ...   ...   ...   ...   ...  ...   ...   \n",
       "80114  17.0   2.0   0.0   0.0   0.0   0.0   1.0   0.0   0.0   0.0  ...   0.0   \n",
       "80115   7.0   7.0   0.0   0.0   1.0   0.0   0.0   0.0   0.0   0.0  ...   0.0   \n",
       "80116   3.0   4.0   2.0   0.0   1.0   0.0   0.0   0.0   0.0   0.0  ...   0.0   \n",
       "80117   5.0   2.0   0.0   2.0   0.0   0.0   0.0   0.0   0.0   0.0  ...   0.0   \n",
       "80118   1.0   6.0   0.0   0.0   0.0   0.0   0.0   0.0   0.0   1.0  ...   0.0   \n",
       "\n",
       "value  2991  2992  2993  2994  2995  2996  2997  2998  2999  \n",
       "index                                                        \n",
       "0       0.0   0.0   0.0   0.0   0.0   0.0   0.0   0.0   0.0  \n",
       "1       0.0   0.0   0.0   0.0   0.0   0.0   0.0   0.0   0.0  \n",
       "2       0.0   0.0   0.0   0.0   0.0   0.0   0.0   0.0   0.0  \n",
       "3       0.0   0.0   0.0   0.0   0.0   0.0   0.0   0.0   0.0  \n",
       "4       0.0   0.0   0.0   0.0   0.0   0.0   0.0   0.0   0.0  \n",
       "...     ...   ...   ...   ...   ...   ...   ...   ...   ...  \n",
       "80114   0.0   0.0   0.0   0.0   0.0   0.0   0.0   0.0   0.0  \n",
       "80115   0.0   0.0   0.0   0.0   0.0   0.0   0.0   1.0   0.0  \n",
       "80116   0.0   0.0   0.0   0.0   0.0   0.0   0.0   0.0   0.0  \n",
       "80117   0.0   0.0   0.0   0.0   0.0   0.0   0.0   0.0   0.0  \n",
       "80118   0.0   0.0   0.0   0.0   0.0   0.0   0.0   0.0   0.0  \n",
       "\n",
       "[80119 rows x 2999 columns]"
      ]
     },
     "execution_count": 14,
     "metadata": {},
     "output_type": "execute_result"
    }
   ],
   "source": [
    "nyt_bow"
   ]
  },
  {
   "cell_type": "code",
   "execution_count": 15,
   "id": "e52b8841",
   "metadata": {},
   "outputs": [
    {
     "data": {
      "image/png": "[encoded data removed]",
      "text/plain": [
       "<Figure size 640x480 with 1 Axes>"
      ]
     },
     "metadata": {},
     "output_type": "display_data"
    }
   ],
   "source": [
    "df_plot_mean = (nyt_bow > 0).mean(axis=0)\n",
    "df_plot_mean.plot()\n",
    "plt.yscale('log')\n",
    "plt.show()"
   ]
  },
  {
   "cell_type": "code",
   "execution_count": 16,
   "id": "9013045a",
   "metadata": {},
   "outputs": [
    {
     "data": {
      "image/png": "[encoded data removed]",
      "text/plain": [
       "<Figure size 640x480 with 1 Axes>"
      ]
     },
     "metadata": {},
     "output_type": "display_data"
    }
   ],
   "source": [
    "df_plot_sum = nyt_bow.iloc[:, 1:].sum(axis=0)\n",
    "df_plot_sum.plot()\n",
    "plt.yscale('log')\n",
    "plt.show();"
   ]
  },
  {
   "cell_type": "code",
   "execution_count": 17,
   "id": "e8123abe",
   "metadata": {},
   "outputs": [
    {
     "data": {
      "text/plain": [
       "0        NaN\n",
       "1      <UNK>\n",
       "2        say\n",
       "3    company\n",
       "4        new\n",
       "Name: value, dtype: object"
      ]
     },
     "execution_count": 17,
     "metadata": {},
     "output_type": "execute_result"
    }
   ],
   "source": [
    "pd.Series(df_plot_mean[df_plot_mean >= 0.1].index.map(word_index_r))"
   ]
  },
  {
   "cell_type": "code",
   "execution_count": 18,
   "id": "2b88f1ba",
   "metadata": {},
   "outputs": [
    {
     "data": {
      "text/plain": [
       "(80119, 9)"
      ]
     },
     "execution_count": 18,
     "metadata": {},
     "output_type": "execute_result"
    }
   ],
   "source": [
    "nyt.shape"
   ]
  },
  {
   "cell_type": "code",
   "execution_count": 19,
   "id": "93af794c",
   "metadata": {},
   "outputs": [],
   "source": [
    "nyt = nyt.merge(nyt_label, how='inner', left_on='web_url', right_on='web_url')"
   ]
  },
  {
   "cell_type": "code",
   "execution_count": 20,
   "id": "0070da6c",
   "metadata": {},
   "outputs": [
    {
     "data": {
      "text/plain": [
       "(1005, 10)"
      ]
     },
     "execution_count": 20,
     "metadata": {},
     "output_type": "execute_result"
    }
   ],
   "source": [
    "nyt.shape"
   ]
  },
  {
   "cell_type": "code",
   "execution_count": 21,
   "id": "6e7c3ec4",
   "metadata": {},
   "outputs": [
    {
     "data": {
      "text/plain": [
       "O      538\n",
       "G      217\n",
       "S      171\n",
       "SG      35\n",
       "E       27\n",
       "ES      12\n",
       "EG       3\n",
       "ESG      2\n",
       "Name: label, dtype: int64"
      ]
     },
     "execution_count": 21,
     "metadata": {},
     "output_type": "execute_result"
    }
   ],
   "source": [
    "nyt.label.value_counts()"
   ]
  },
  {
   "cell_type": "code",
   "execution_count": 22,
   "id": "09694425",
   "metadata": {},
   "outputs": [
    {
     "data": {
      "text/html": [
       "<div>\n",
       "<style scoped>\n",
       "    .dataframe tbody tr th:only-of-type {\n",
       "        vertical-align: middle;\n",
       "    }\n",
       "\n",
       "    .dataframe tbody tr th {\n",
       "        vertical-align: top;\n",
       "    }\n",
       "\n",
       "    .dataframe thead th {\n",
       "        text-align: right;\n",
       "    }\n",
       "</style>\n",
       "<table border=\"1\" class=\"dataframe\">\n",
       "  <thead>\n",
       "    <tr style=\"text-align: right;\">\n",
       "      <th></th>\n",
       "      <th>0</th>\n",
       "      <th>1</th>\n",
       "      <th>2</th>\n",
       "      <th>3</th>\n",
       "      <th>4</th>\n",
       "      <th>5</th>\n",
       "      <th>6</th>\n",
       "      <th>7</th>\n",
       "      <th>8</th>\n",
       "      <th>9</th>\n",
       "      <th>...</th>\n",
       "      <th>20</th>\n",
       "      <th>21</th>\n",
       "      <th>22</th>\n",
       "      <th>23</th>\n",
       "      <th>24</th>\n",
       "      <th>25</th>\n",
       "      <th>26</th>\n",
       "      <th>27</th>\n",
       "      <th>28</th>\n",
       "      <th>29</th>\n",
       "    </tr>\n",
       "  </thead>\n",
       "  <tbody>\n",
       "    <tr>\n",
       "      <th>0</th>\n",
       "      <td>1</td>\n",
       "      <td>1</td>\n",
       "      <td>144</td>\n",
       "      <td>102</td>\n",
       "      <td>566</td>\n",
       "      <td>1</td>\n",
       "      <td>1</td>\n",
       "      <td>1</td>\n",
       "      <td>684</td>\n",
       "      <td>65</td>\n",
       "      <td>...</td>\n",
       "      <td>67</td>\n",
       "      <td>349</td>\n",
       "      <td>566</td>\n",
       "      <td>1</td>\n",
       "      <td>314</td>\n",
       "      <td>144</td>\n",
       "      <td>566</td>\n",
       "      <td>1</td>\n",
       "      <td>0</td>\n",
       "      <td>0</td>\n",
       "    </tr>\n",
       "    <tr>\n",
       "      <th>1</th>\n",
       "      <td>2782</td>\n",
       "      <td>1</td>\n",
       "      <td>185</td>\n",
       "      <td>1</td>\n",
       "      <td>33</td>\n",
       "      <td>1</td>\n",
       "      <td>1259</td>\n",
       "      <td>1</td>\n",
       "      <td>348</td>\n",
       "      <td>1</td>\n",
       "      <td>...</td>\n",
       "      <td>0</td>\n",
       "      <td>0</td>\n",
       "      <td>0</td>\n",
       "      <td>0</td>\n",
       "      <td>0</td>\n",
       "      <td>0</td>\n",
       "      <td>0</td>\n",
       "      <td>0</td>\n",
       "      <td>0</td>\n",
       "      <td>0</td>\n",
       "    </tr>\n",
       "    <tr>\n",
       "      <th>2</th>\n",
       "      <td>1</td>\n",
       "      <td>1</td>\n",
       "      <td>4</td>\n",
       "      <td>67</td>\n",
       "      <td>1084</td>\n",
       "      <td>1</td>\n",
       "      <td>1</td>\n",
       "      <td>1</td>\n",
       "      <td>1</td>\n",
       "      <td>255</td>\n",
       "      <td>...</td>\n",
       "      <td>0</td>\n",
       "      <td>0</td>\n",
       "      <td>0</td>\n",
       "      <td>0</td>\n",
       "      <td>0</td>\n",
       "      <td>0</td>\n",
       "      <td>0</td>\n",
       "      <td>0</td>\n",
       "      <td>0</td>\n",
       "      <td>0</td>\n",
       "    </tr>\n",
       "    <tr>\n",
       "      <th>3</th>\n",
       "      <td>1</td>\n",
       "      <td>1887</td>\n",
       "      <td>2064</td>\n",
       "      <td>147</td>\n",
       "      <td>1789</td>\n",
       "      <td>4</td>\n",
       "      <td>173</td>\n",
       "      <td>1</td>\n",
       "      <td>1887</td>\n",
       "      <td>2064</td>\n",
       "      <td>...</td>\n",
       "      <td>0</td>\n",
       "      <td>0</td>\n",
       "      <td>0</td>\n",
       "      <td>0</td>\n",
       "      <td>0</td>\n",
       "      <td>0</td>\n",
       "      <td>0</td>\n",
       "      <td>0</td>\n",
       "      <td>0</td>\n",
       "      <td>0</td>\n",
       "    </tr>\n",
       "    <tr>\n",
       "      <th>4</th>\n",
       "      <td>1</td>\n",
       "      <td>687</td>\n",
       "      <td>578</td>\n",
       "      <td>651</td>\n",
       "      <td>217</td>\n",
       "      <td>1</td>\n",
       "      <td>1</td>\n",
       "      <td>92</td>\n",
       "      <td>32</td>\n",
       "      <td>1</td>\n",
       "      <td>...</td>\n",
       "      <td>2117</td>\n",
       "      <td>1107</td>\n",
       "      <td>687</td>\n",
       "      <td>376</td>\n",
       "      <td>117</td>\n",
       "      <td>2</td>\n",
       "      <td>1</td>\n",
       "      <td>0</td>\n",
       "      <td>0</td>\n",
       "      <td>0</td>\n",
       "    </tr>\n",
       "  </tbody>\n",
       "</table>\n",
       "<p>5 rows × 30 columns</p>\n",
       "</div>"
      ],
      "text/plain": [
       "      0     1     2    3     4  5     6   7     8     9  ...    20    21   22  \\\n",
       "0     1     1   144  102   566  1     1   1   684    65  ...    67   349  566   \n",
       "1  2782     1   185    1    33  1  1259   1   348     1  ...     0     0    0   \n",
       "2     1     1     4   67  1084  1     1   1     1   255  ...     0     0    0   \n",
       "3     1  1887  2064  147  1789  4   173   1  1887  2064  ...     0     0    0   \n",
       "4     1   687   578  651   217  1     1  92    32     1  ...  2117  1107  687   \n",
       "\n",
       "    23   24   25   26  27  28  29  \n",
       "0    1  314  144  566   1   0   0  \n",
       "1    0    0    0    0   0   0   0  \n",
       "2    0    0    0    0   0   0   0  \n",
       "3    0    0    0    0   0   0   0  \n",
       "4  376  117    2    1   0   0   0  \n",
       "\n",
       "[5 rows x 30 columns]"
      ]
     },
     "execution_count": 22,
     "metadata": {},
     "output_type": "execute_result"
    }
   ],
   "source": [
    "nyt_enc.head()"
   ]
  },
  {
   "cell_type": "code",
   "execution_count": 23,
   "id": "1877ce69",
   "metadata": {},
   "outputs": [],
   "source": [
    "Xy = nyt_bow.merge(nyt[['index', 'label']], how='inner', left_index=True, right_on='index').drop(columns=['index'])"
   ]
  },
  {
   "cell_type": "code",
   "execution_count": 24,
   "id": "becc382e",
   "metadata": {},
   "outputs": [
    {
     "data": {
      "text/html": [
       "<div>\n",
       "<style scoped>\n",
       "    .dataframe tbody tr th:only-of-type {\n",
       "        vertical-align: middle;\n",
       "    }\n",
       "\n",
       "    .dataframe tbody tr th {\n",
       "        vertical-align: top;\n",
       "    }\n",
       "\n",
       "    .dataframe thead th {\n",
       "        text-align: right;\n",
       "    }\n",
       "</style>\n",
       "<table border=\"1\" class=\"dataframe\">\n",
       "  <thead>\n",
       "    <tr style=\"text-align: right;\">\n",
       "      <th></th>\n",
       "      <th>0</th>\n",
       "      <th>1</th>\n",
       "      <th>2</th>\n",
       "      <th>3</th>\n",
       "      <th>4</th>\n",
       "      <th>5</th>\n",
       "      <th>6</th>\n",
       "      <th>7</th>\n",
       "      <th>8</th>\n",
       "      <th>9</th>\n",
       "      <th>...</th>\n",
       "      <th>2991</th>\n",
       "      <th>2992</th>\n",
       "      <th>2993</th>\n",
       "      <th>2994</th>\n",
       "      <th>2995</th>\n",
       "      <th>2996</th>\n",
       "      <th>2997</th>\n",
       "      <th>2998</th>\n",
       "      <th>2999</th>\n",
       "      <th>label</th>\n",
       "    </tr>\n",
       "  </thead>\n",
       "  <tbody>\n",
       "    <tr>\n",
       "      <th>0</th>\n",
       "      <td>12.0</td>\n",
       "      <td>9.0</td>\n",
       "      <td>0.0</td>\n",
       "      <td>0.0</td>\n",
       "      <td>0.0</td>\n",
       "      <td>0.0</td>\n",
       "      <td>0.0</td>\n",
       "      <td>0.0</td>\n",
       "      <td>0.0</td>\n",
       "      <td>0.0</td>\n",
       "      <td>...</td>\n",
       "      <td>0.0</td>\n",
       "      <td>0.0</td>\n",
       "      <td>0.0</td>\n",
       "      <td>0.0</td>\n",
       "      <td>0.0</td>\n",
       "      <td>0.0</td>\n",
       "      <td>0.0</td>\n",
       "      <td>0.0</td>\n",
       "      <td>0.0</td>\n",
       "      <td>S</td>\n",
       "    </tr>\n",
       "    <tr>\n",
       "      <th>1</th>\n",
       "      <td>10.0</td>\n",
       "      <td>6.0</td>\n",
       "      <td>0.0</td>\n",
       "      <td>0.0</td>\n",
       "      <td>0.0</td>\n",
       "      <td>0.0</td>\n",
       "      <td>0.0</td>\n",
       "      <td>0.0</td>\n",
       "      <td>0.0</td>\n",
       "      <td>0.0</td>\n",
       "      <td>...</td>\n",
       "      <td>0.0</td>\n",
       "      <td>0.0</td>\n",
       "      <td>0.0</td>\n",
       "      <td>0.0</td>\n",
       "      <td>0.0</td>\n",
       "      <td>0.0</td>\n",
       "      <td>0.0</td>\n",
       "      <td>0.0</td>\n",
       "      <td>0.0</td>\n",
       "      <td>O</td>\n",
       "    </tr>\n",
       "    <tr>\n",
       "      <th>2</th>\n",
       "      <td>7.0</td>\n",
       "      <td>3.0</td>\n",
       "      <td>2.0</td>\n",
       "      <td>0.0</td>\n",
       "      <td>0.0</td>\n",
       "      <td>0.0</td>\n",
       "      <td>0.0</td>\n",
       "      <td>0.0</td>\n",
       "      <td>0.0</td>\n",
       "      <td>0.0</td>\n",
       "      <td>...</td>\n",
       "      <td>0.0</td>\n",
       "      <td>0.0</td>\n",
       "      <td>0.0</td>\n",
       "      <td>0.0</td>\n",
       "      <td>0.0</td>\n",
       "      <td>0.0</td>\n",
       "      <td>0.0</td>\n",
       "      <td>0.0</td>\n",
       "      <td>0.0</td>\n",
       "      <td>O</td>\n",
       "    </tr>\n",
       "    <tr>\n",
       "      <th>3</th>\n",
       "      <td>3.0</td>\n",
       "      <td>2.0</td>\n",
       "      <td>1.0</td>\n",
       "      <td>0.0</td>\n",
       "      <td>0.0</td>\n",
       "      <td>0.0</td>\n",
       "      <td>0.0</td>\n",
       "      <td>0.0</td>\n",
       "      <td>0.0</td>\n",
       "      <td>0.0</td>\n",
       "      <td>...</td>\n",
       "      <td>0.0</td>\n",
       "      <td>0.0</td>\n",
       "      <td>0.0</td>\n",
       "      <td>0.0</td>\n",
       "      <td>0.0</td>\n",
       "      <td>0.0</td>\n",
       "      <td>0.0</td>\n",
       "      <td>0.0</td>\n",
       "      <td>0.0</td>\n",
       "      <td>O</td>\n",
       "    </tr>\n",
       "    <tr>\n",
       "      <th>4</th>\n",
       "      <td>0.0</td>\n",
       "      <td>3.0</td>\n",
       "      <td>2.0</td>\n",
       "      <td>0.0</td>\n",
       "      <td>2.0</td>\n",
       "      <td>0.0</td>\n",
       "      <td>1.0</td>\n",
       "      <td>0.0</td>\n",
       "      <td>0.0</td>\n",
       "      <td>0.0</td>\n",
       "      <td>...</td>\n",
       "      <td>0.0</td>\n",
       "      <td>0.0</td>\n",
       "      <td>0.0</td>\n",
       "      <td>0.0</td>\n",
       "      <td>0.0</td>\n",
       "      <td>0.0</td>\n",
       "      <td>0.0</td>\n",
       "      <td>0.0</td>\n",
       "      <td>0.0</td>\n",
       "      <td>O</td>\n",
       "    </tr>\n",
       "  </tbody>\n",
       "</table>\n",
       "<p>5 rows × 3000 columns</p>\n",
       "</div>"
      ],
      "text/plain": [
       "      0    1    2    3    4    5    6    7    8    9  ...  2991  2992  2993  \\\n",
       "0  12.0  9.0  0.0  0.0  0.0  0.0  0.0  0.0  0.0  0.0  ...   0.0   0.0   0.0   \n",
       "1  10.0  6.0  0.0  0.0  0.0  0.0  0.0  0.0  0.0  0.0  ...   0.0   0.0   0.0   \n",
       "2   7.0  3.0  2.0  0.0  0.0  0.0  0.0  0.0  0.0  0.0  ...   0.0   0.0   0.0   \n",
       "3   3.0  2.0  1.0  0.0  0.0  0.0  0.0  0.0  0.0  0.0  ...   0.0   0.0   0.0   \n",
       "4   0.0  3.0  2.0  0.0  2.0  0.0  1.0  0.0  0.0  0.0  ...   0.0   0.0   0.0   \n",
       "\n",
       "   2994  2995  2996  2997  2998  2999  label  \n",
       "0   0.0   0.0   0.0   0.0   0.0   0.0      S  \n",
       "1   0.0   0.0   0.0   0.0   0.0   0.0      O  \n",
       "2   0.0   0.0   0.0   0.0   0.0   0.0      O  \n",
       "3   0.0   0.0   0.0   0.0   0.0   0.0      O  \n",
       "4   0.0   0.0   0.0   0.0   0.0   0.0      O  \n",
       "\n",
       "[5 rows x 3000 columns]"
      ]
     },
     "execution_count": 24,
     "metadata": {},
     "output_type": "execute_result"
    }
   ],
   "source": [
    "Xy.head()"
   ]
  },
  {
   "cell_type": "code",
   "execution_count": 25,
   "id": "582128e2",
   "metadata": {},
   "outputs": [],
   "source": [
    "X = Xy.iloc[:, :-1]\n",
    "y = Xy.iloc[:, -1]"
   ]
  },
  {
   "cell_type": "code",
   "execution_count": 26,
   "id": "a2d1c076",
   "metadata": {},
   "outputs": [
    {
     "data": {
      "text/html": [
       "<div>\n",
       "<style scoped>\n",
       "    .dataframe tbody tr th:only-of-type {\n",
       "        vertical-align: middle;\n",
       "    }\n",
       "\n",
       "    .dataframe tbody tr th {\n",
       "        vertical-align: top;\n",
       "    }\n",
       "\n",
       "    .dataframe thead th {\n",
       "        text-align: right;\n",
       "    }\n",
       "</style>\n",
       "<table border=\"1\" class=\"dataframe\">\n",
       "  <thead>\n",
       "    <tr style=\"text-align: right;\">\n",
       "      <th></th>\n",
       "      <th>0</th>\n",
       "      <th>1</th>\n",
       "      <th>2</th>\n",
       "      <th>3</th>\n",
       "      <th>4</th>\n",
       "      <th>5</th>\n",
       "      <th>6</th>\n",
       "      <th>7</th>\n",
       "      <th>8</th>\n",
       "      <th>9</th>\n",
       "      <th>...</th>\n",
       "      <th>2990</th>\n",
       "      <th>2991</th>\n",
       "      <th>2992</th>\n",
       "      <th>2993</th>\n",
       "      <th>2994</th>\n",
       "      <th>2995</th>\n",
       "      <th>2996</th>\n",
       "      <th>2997</th>\n",
       "      <th>2998</th>\n",
       "      <th>2999</th>\n",
       "    </tr>\n",
       "  </thead>\n",
       "  <tbody>\n",
       "    <tr>\n",
       "      <th>0</th>\n",
       "      <td>12.0</td>\n",
       "      <td>9.0</td>\n",
       "      <td>0.0</td>\n",
       "      <td>0.0</td>\n",
       "      <td>0.0</td>\n",
       "      <td>0.0</td>\n",
       "      <td>0.0</td>\n",
       "      <td>0.0</td>\n",
       "      <td>0.0</td>\n",
       "      <td>0.0</td>\n",
       "      <td>...</td>\n",
       "      <td>0.0</td>\n",
       "      <td>0.0</td>\n",
       "      <td>0.0</td>\n",
       "      <td>0.0</td>\n",
       "      <td>0.0</td>\n",
       "      <td>0.0</td>\n",
       "      <td>0.0</td>\n",
       "      <td>0.0</td>\n",
       "      <td>0.0</td>\n",
       "      <td>0.0</td>\n",
       "    </tr>\n",
       "    <tr>\n",
       "      <th>1</th>\n",
       "      <td>10.0</td>\n",
       "      <td>6.0</td>\n",
       "      <td>0.0</td>\n",
       "      <td>0.0</td>\n",
       "      <td>0.0</td>\n",
       "      <td>0.0</td>\n",
       "      <td>0.0</td>\n",
       "      <td>0.0</td>\n",
       "      <td>0.0</td>\n",
       "      <td>0.0</td>\n",
       "      <td>...</td>\n",
       "      <td>0.0</td>\n",
       "      <td>0.0</td>\n",
       "      <td>0.0</td>\n",
       "      <td>0.0</td>\n",
       "      <td>0.0</td>\n",
       "      <td>0.0</td>\n",
       "      <td>0.0</td>\n",
       "      <td>0.0</td>\n",
       "      <td>0.0</td>\n",
       "      <td>0.0</td>\n",
       "    </tr>\n",
       "    <tr>\n",
       "      <th>2</th>\n",
       "      <td>7.0</td>\n",
       "      <td>3.0</td>\n",
       "      <td>2.0</td>\n",
       "      <td>0.0</td>\n",
       "      <td>0.0</td>\n",
       "      <td>0.0</td>\n",
       "      <td>0.0</td>\n",
       "      <td>0.0</td>\n",
       "      <td>0.0</td>\n",
       "      <td>0.0</td>\n",
       "      <td>...</td>\n",
       "      <td>0.0</td>\n",
       "      <td>0.0</td>\n",
       "      <td>0.0</td>\n",
       "      <td>0.0</td>\n",
       "      <td>0.0</td>\n",
       "      <td>0.0</td>\n",
       "      <td>0.0</td>\n",
       "      <td>0.0</td>\n",
       "      <td>0.0</td>\n",
       "      <td>0.0</td>\n",
       "    </tr>\n",
       "    <tr>\n",
       "      <th>3</th>\n",
       "      <td>3.0</td>\n",
       "      <td>2.0</td>\n",
       "      <td>1.0</td>\n",
       "      <td>0.0</td>\n",
       "      <td>0.0</td>\n",
       "      <td>0.0</td>\n",
       "      <td>0.0</td>\n",
       "      <td>0.0</td>\n",
       "      <td>0.0</td>\n",
       "      <td>0.0</td>\n",
       "      <td>...</td>\n",
       "      <td>0.0</td>\n",
       "      <td>0.0</td>\n",
       "      <td>0.0</td>\n",
       "      <td>0.0</td>\n",
       "      <td>0.0</td>\n",
       "      <td>0.0</td>\n",
       "      <td>0.0</td>\n",
       "      <td>0.0</td>\n",
       "      <td>0.0</td>\n",
       "      <td>0.0</td>\n",
       "    </tr>\n",
       "    <tr>\n",
       "      <th>4</th>\n",
       "      <td>0.0</td>\n",
       "      <td>3.0</td>\n",
       "      <td>2.0</td>\n",
       "      <td>0.0</td>\n",
       "      <td>2.0</td>\n",
       "      <td>0.0</td>\n",
       "      <td>1.0</td>\n",
       "      <td>0.0</td>\n",
       "      <td>0.0</td>\n",
       "      <td>0.0</td>\n",
       "      <td>...</td>\n",
       "      <td>0.0</td>\n",
       "      <td>0.0</td>\n",
       "      <td>0.0</td>\n",
       "      <td>0.0</td>\n",
       "      <td>0.0</td>\n",
       "      <td>0.0</td>\n",
       "      <td>0.0</td>\n",
       "      <td>0.0</td>\n",
       "      <td>0.0</td>\n",
       "      <td>0.0</td>\n",
       "    </tr>\n",
       "  </tbody>\n",
       "</table>\n",
       "<p>5 rows × 2999 columns</p>\n",
       "</div>"
      ],
      "text/plain": [
       "   0     1     2     3     4     5     6     7     8     9     ...  2990  \\\n",
       "0  12.0   9.0   0.0   0.0   0.0   0.0   0.0   0.0   0.0   0.0  ...   0.0   \n",
       "1  10.0   6.0   0.0   0.0   0.0   0.0   0.0   0.0   0.0   0.0  ...   0.0   \n",
       "2   7.0   3.0   2.0   0.0   0.0   0.0   0.0   0.0   0.0   0.0  ...   0.0   \n",
       "3   3.0   2.0   1.0   0.0   0.0   0.0   0.0   0.0   0.0   0.0  ...   0.0   \n",
       "4   0.0   3.0   2.0   0.0   2.0   0.0   1.0   0.0   0.0   0.0  ...   0.0   \n",
       "\n",
       "   2991  2992  2993  2994  2995  2996  2997  2998  2999  \n",
       "0   0.0   0.0   0.0   0.0   0.0   0.0   0.0   0.0   0.0  \n",
       "1   0.0   0.0   0.0   0.0   0.0   0.0   0.0   0.0   0.0  \n",
       "2   0.0   0.0   0.0   0.0   0.0   0.0   0.0   0.0   0.0  \n",
       "3   0.0   0.0   0.0   0.0   0.0   0.0   0.0   0.0   0.0  \n",
       "4   0.0   0.0   0.0   0.0   0.0   0.0   0.0   0.0   0.0  \n",
       "\n",
       "[5 rows x 2999 columns]"
      ]
     },
     "execution_count": 26,
     "metadata": {},
     "output_type": "execute_result"
    }
   ],
   "source": [
    "X.head()"
   ]
  },
  {
   "cell_type": "code",
   "execution_count": 27,
   "id": "098efde6",
   "metadata": {},
   "outputs": [],
   "source": [
    "Y = pd.DataFrame(y)\n",
    "Y['E'] = Y['label'].map(lambda x: 1 if 'E' in x else 0)\n",
    "Y['S'] = Y['label'].map(lambda x: 1 if 'S' in x else 0)\n",
    "Y['G'] = Y['label'].map(lambda x: 1 if 'G' in x else 0)\n",
    "Y['O'] = Y['label'].map(lambda x: 1 if 'O' in x else 0)"
   ]
  },
  {
   "cell_type": "code",
   "execution_count": 28,
   "id": "20c09c84",
   "metadata": {},
   "outputs": [
    {
     "data": {
      "text/html": [
       "<div>\n",
       "<style scoped>\n",
       "    .dataframe tbody tr th:only-of-type {\n",
       "        vertical-align: middle;\n",
       "    }\n",
       "\n",
       "    .dataframe tbody tr th {\n",
       "        vertical-align: top;\n",
       "    }\n",
       "\n",
       "    .dataframe thead th {\n",
       "        text-align: right;\n",
       "    }\n",
       "</style>\n",
       "<table border=\"1\" class=\"dataframe\">\n",
       "  <thead>\n",
       "    <tr style=\"text-align: right;\">\n",
       "      <th></th>\n",
       "      <th>label</th>\n",
       "      <th>E</th>\n",
       "      <th>S</th>\n",
       "      <th>G</th>\n",
       "      <th>O</th>\n",
       "    </tr>\n",
       "  </thead>\n",
       "  <tbody>\n",
       "    <tr>\n",
       "      <th>0</th>\n",
       "      <td>S</td>\n",
       "      <td>0</td>\n",
       "      <td>1</td>\n",
       "      <td>0</td>\n",
       "      <td>0</td>\n",
       "    </tr>\n",
       "    <tr>\n",
       "      <th>1</th>\n",
       "      <td>O</td>\n",
       "      <td>0</td>\n",
       "      <td>0</td>\n",
       "      <td>0</td>\n",
       "      <td>1</td>\n",
       "    </tr>\n",
       "    <tr>\n",
       "      <th>2</th>\n",
       "      <td>O</td>\n",
       "      <td>0</td>\n",
       "      <td>0</td>\n",
       "      <td>0</td>\n",
       "      <td>1</td>\n",
       "    </tr>\n",
       "    <tr>\n",
       "      <th>3</th>\n",
       "      <td>O</td>\n",
       "      <td>0</td>\n",
       "      <td>0</td>\n",
       "      <td>0</td>\n",
       "      <td>1</td>\n",
       "    </tr>\n",
       "    <tr>\n",
       "      <th>4</th>\n",
       "      <td>O</td>\n",
       "      <td>0</td>\n",
       "      <td>0</td>\n",
       "      <td>0</td>\n",
       "      <td>1</td>\n",
       "    </tr>\n",
       "  </tbody>\n",
       "</table>\n",
       "</div>"
      ],
      "text/plain": [
       "  label  E  S  G  O\n",
       "0     S  0  1  0  0\n",
       "1     O  0  0  0  1\n",
       "2     O  0  0  0  1\n",
       "3     O  0  0  0  1\n",
       "4     O  0  0  0  1"
      ]
     },
     "execution_count": 28,
     "metadata": {},
     "output_type": "execute_result"
    }
   ],
   "source": [
    "Y.head()"
   ]
  },
  {
   "cell_type": "code",
   "execution_count": 29,
   "id": "8e001297",
   "metadata": {},
   "outputs": [],
   "source": [
    "Y.drop(columns='label', inplace=True)"
   ]
  },
  {
   "cell_type": "code",
   "execution_count": 30,
   "id": "5e5de99e",
   "metadata": {},
   "outputs": [],
   "source": [
    "X_train_val, X_test, Y_train_val, Y_test = train_test_split(X, Y, stratify=Y, test_size=0.25)"
   ]
  },
  {
   "cell_type": "code",
   "execution_count": 31,
   "id": "7794188e",
   "metadata": {},
   "outputs": [],
   "source": [
    "X_train, X_val, Y_train, Y_val = train_test_split(X_train_val, Y_train_val, stratify=Y_train_val, test_size=0.25)"
   ]
  },
  {
   "cell_type": "code",
   "execution_count": 32,
   "id": "125a725b",
   "metadata": {},
   "outputs": [
    {
     "data": {
      "text/plain": [
       "(564, 2999)"
      ]
     },
     "execution_count": 32,
     "metadata": {},
     "output_type": "execute_result"
    }
   ],
   "source": [
    "X_train.shape"
   ]
  },
  {
   "cell_type": "code",
   "execution_count": 33,
   "id": "52bb8cff",
   "metadata": {},
   "outputs": [
    {
     "data": {
      "text/plain": [
       "(189, 2999)"
      ]
     },
     "execution_count": 33,
     "metadata": {},
     "output_type": "execute_result"
    }
   ],
   "source": [
    "X_val.shape"
   ]
  },
  {
   "cell_type": "code",
   "execution_count": 34,
   "id": "644d75bb",
   "metadata": {},
   "outputs": [
    {
     "data": {
      "text/plain": [
       "(252, 2999)"
      ]
     },
     "execution_count": 34,
     "metadata": {},
     "output_type": "execute_result"
    }
   ],
   "source": [
    "X_test.shape"
   ]
  },
  {
   "cell_type": "code",
   "execution_count": 35,
   "id": "66a48ed2",
   "metadata": {},
   "outputs": [
    {
     "data": {
      "text/plain": [
       "E    0.044326\n",
       "S    0.219858\n",
       "G    0.255319\n",
       "O    0.535461\n",
       "dtype: float64"
      ]
     },
     "execution_count": 35,
     "metadata": {},
     "output_type": "execute_result"
    }
   ],
   "source": [
    "Y_train.sum()/Y_train.shape[0]"
   ]
  },
  {
   "cell_type": "code",
   "execution_count": 36,
   "id": "1cd8460e",
   "metadata": {},
   "outputs": [
    {
     "data": {
      "text/plain": [
       "E    0.042328\n",
       "S    0.216931\n",
       "G    0.259259\n",
       "O    0.534392\n",
       "dtype: float64"
      ]
     },
     "execution_count": 36,
     "metadata": {},
     "output_type": "execute_result"
    }
   ],
   "source": [
    "Y_val.sum()/Y_val.shape[0]"
   ]
  },
  {
   "cell_type": "code",
   "execution_count": 37,
   "id": "b8cce95d",
   "metadata": {},
   "outputs": [
    {
     "data": {
      "text/plain": [
       "E    0.043651\n",
       "S    0.218254\n",
       "G    0.253968\n",
       "O    0.535714\n",
       "dtype: float64"
      ]
     },
     "execution_count": 37,
     "metadata": {},
     "output_type": "execute_result"
    }
   ],
   "source": [
    "Y_test.sum()/Y_test.shape[0]"
   ]
  },
  {
   "cell_type": "code",
   "execution_count": 38,
   "id": "e2f6ce8e",
   "metadata": {},
   "outputs": [],
   "source": [
    "tfidf = TfidfTransformer()\n",
    "X_train_tfidf = tfidf.fit_transform(X_train)\n",
    "X_val_tfidf = tfidf.transform(X_val)\n",
    "X_train_val_tfidf = tfidf.transform(X_train_val)\n",
    "X_test_tfidf = tfidf.transform(X_test)"
   ]
  },
  {
   "cell_type": "code",
   "execution_count": 127,
   "id": "59026627",
   "metadata": {},
   "outputs": [],
   "source": [
    "def cross_validate_wrapper(model, X, y, scoring):\n",
    "    cv_results = cross_validate(model,\n",
    "                            X,\n",
    "                            y,\n",
    "                            cv=5,\n",
    "                            scoring=scoring,\n",
    "                            n_jobs=-1,\n",
    "                            verbose=0)\n",
    "    \n",
    "    stats = {}\n",
    "    for score_metric in scoring:\n",
    "        score_key = f'test_{score_metric}'\n",
    "        mu = cv_results[score_key].mean()\n",
    "        sigma = cv_results[score_key].std()\n",
    "        stats[score_metric] = (mu, sigma)\n",
    "\n",
    "    stats = pd.DataFrame(stats, index=['mean', 'stdev']).T\n",
    "    \n",
    "    return stats, cv_results"
   ]
  },
  {
   "cell_type": "code",
   "execution_count": 137,
   "id": "2d13a53b",
   "metadata": {},
   "outputs": [],
   "source": [
    "def fit_cv_best(model, param_grid, X_train, y_train, scoring_fit, scorings_assess, verbose=0):\n",
    "    model_gs = GridSearchCV(model,\n",
    "                       param_grid=param_grid,\n",
    "                       scoring=scoring_fit,\n",
    "                       cv=5,\n",
    "                       n_jobs=-1,\n",
    "                       verbose=verbose)\n",
    "\n",
    "    model_gs.fit(X_train, y_train)\n",
    "\n",
    "    model_stats, _ = cross_validate_wrapper(model_gs, X_train, y_train, scorings_assess)\n",
    "\n",
    "    return model_gs, model_stats"
   ]
  },
  {
   "cell_type": "code",
   "execution_count": 175,
   "id": "7517c8ea",
   "metadata": {},
   "outputs": [],
   "source": [
    "def fit_ESG(model, param_grid, X_train, y_train, scoring_fit, scoring_assess):\n",
    "    res = {}\n",
    "    for col in ['E', 'S', 'G']:\n",
    "        print(col)\n",
    "        y_train = Y_train[col]\n",
    "        y_train_val = Y_train_val[col]\n",
    "        y_val = Y_val[col]\n",
    "        y_test = Y_test[col]\n",
    "        model_gs, model_stats = fit_cv_best(model, param_grid, X_train, y_train, scoring_fit, scorings_assess)\n",
    "        res[col] = {'model_gs': model_gs, 'model_stats': model_stats}\n",
    "        \n",
    "    res_E = res['E']['model_stats'].rename(columns={'mean': 'mean_E', 'stdev': 'stdev_E'})\n",
    "    res_S = res['S']['model_stats'].rename(columns={'mean': 'mean_S', 'stdev': 'stdev_S'})\n",
    "    res_G = res['G']['model_stats'].rename(columns={'mean': 'mean_G', 'stdev': 'stdev_G'})\n",
    "    res['stats'] = pd.concat((res_E, res_S, res_G), axis=1)\n",
    "    \n",
    "    return res"
   ]
  },
  {
   "cell_type": "code",
   "execution_count": 163,
   "id": "1f3c65e3",
   "metadata": {},
   "outputs": [],
   "source": [
    "scoring_fit = 'f1'\n",
    "scorings_assess = ['accuracy', 'roc_auc', 'precision', 'recall', 'f1']"
   ]
  },
  {
   "cell_type": "code",
   "execution_count": 199,
   "id": "4f3fafb1",
   "metadata": {},
   "outputs": [
    {
     "name": "stdout",
     "output_type": "stream",
     "text": [
      "E\n",
      "S\n",
      "G\n"
     ]
    }
   ],
   "source": [
    "param_grid = [{'penalty' : ['l1', 'l2'], \n",
    "               'class_weight': ['balanced', None],\n",
    "               'C' : np.logspace(-1, 3, 5), \n",
    "               'solver' : ['liblinear']}]\n",
    "\n",
    "lr = LogisticRegression(random_state=0)\n",
    "\n",
    "res_lr = fit_ESG(lr, param_grid, X_train, y_train, scoring_fit, scorings_assess)"
   ]
  },
  {
   "cell_type": "code",
   "execution_count": 200,
   "id": "bbf4d378",
   "metadata": {},
   "outputs": [
    {
     "data": {
      "text/plain": [
       "({'C': 1000.0,\n",
       "  'class_weight': 'balanced',\n",
       "  'penalty': 'l1',\n",
       "  'solver': 'liblinear'},\n",
       " {'C': 10.0,\n",
       "  'class_weight': 'balanced',\n",
       "  'penalty': 'l1',\n",
       "  'solver': 'liblinear'},\n",
       " {'C': 10.0,\n",
       "  'class_weight': 'balanced',\n",
       "  'penalty': 'l2',\n",
       "  'solver': 'liblinear'})"
      ]
     },
     "execution_count": 200,
     "metadata": {},
     "output_type": "execute_result"
    }
   ],
   "source": [
    "res_lr['E']['model_gs'].best_params_, res_lr['S']['model_gs'].best_params_, res_lr['G']['model_gs'].best_params_"
   ]
  },
  {
   "cell_type": "code",
   "execution_count": 201,
   "id": "d1f8a263",
   "metadata": {},
   "outputs": [
    {
     "data": {
      "text/html": [
       "<div>\n",
       "<style scoped>\n",
       "    .dataframe tbody tr th:only-of-type {\n",
       "        vertical-align: middle;\n",
       "    }\n",
       "\n",
       "    .dataframe tbody tr th {\n",
       "        vertical-align: top;\n",
       "    }\n",
       "\n",
       "    .dataframe thead th {\n",
       "        text-align: right;\n",
       "    }\n",
       "</style>\n",
       "<table border=\"1\" class=\"dataframe\">\n",
       "  <thead>\n",
       "    <tr style=\"text-align: right;\">\n",
       "      <th></th>\n",
       "      <th>mean_E</th>\n",
       "      <th>stdev_E</th>\n",
       "      <th>mean_S</th>\n",
       "      <th>stdev_S</th>\n",
       "      <th>mean_G</th>\n",
       "      <th>stdev_G</th>\n",
       "    </tr>\n",
       "  </thead>\n",
       "  <tbody>\n",
       "    <tr>\n",
       "      <th>accuracy</th>\n",
       "      <td>0.909450</td>\n",
       "      <td>0.044658</td>\n",
       "      <td>0.700474</td>\n",
       "      <td>0.146872</td>\n",
       "      <td>0.792525</td>\n",
       "      <td>0.012486</td>\n",
       "    </tr>\n",
       "    <tr>\n",
       "      <th>roc_auc</th>\n",
       "      <td>0.668060</td>\n",
       "      <td>0.089838</td>\n",
       "      <td>0.636542</td>\n",
       "      <td>0.133888</td>\n",
       "      <td>0.734817</td>\n",
       "      <td>0.047273</td>\n",
       "    </tr>\n",
       "    <tr>\n",
       "      <th>precision</th>\n",
       "      <td>0.044103</td>\n",
       "      <td>0.060643</td>\n",
       "      <td>0.416047</td>\n",
       "      <td>0.113466</td>\n",
       "      <td>0.625990</td>\n",
       "      <td>0.044760</td>\n",
       "    </tr>\n",
       "    <tr>\n",
       "      <th>recall</th>\n",
       "      <td>0.120000</td>\n",
       "      <td>0.160000</td>\n",
       "      <td>0.353667</td>\n",
       "      <td>0.120335</td>\n",
       "      <td>0.478079</td>\n",
       "      <td>0.097284</td>\n",
       "    </tr>\n",
       "    <tr>\n",
       "      <th>f1</th>\n",
       "      <td>0.064444</td>\n",
       "      <td>0.087883</td>\n",
       "      <td>0.351602</td>\n",
       "      <td>0.063474</td>\n",
       "      <td>0.534976</td>\n",
       "      <td>0.064701</td>\n",
       "    </tr>\n",
       "  </tbody>\n",
       "</table>\n",
       "</div>"
      ],
      "text/plain": [
       "             mean_E   stdev_E    mean_S   stdev_S    mean_G   stdev_G\n",
       "accuracy   0.909450  0.044658  0.700474  0.146872  0.792525  0.012486\n",
       "roc_auc    0.668060  0.089838  0.636542  0.133888  0.734817  0.047273\n",
       "precision  0.044103  0.060643  0.416047  0.113466  0.625990  0.044760\n",
       "recall     0.120000  0.160000  0.353667  0.120335  0.478079  0.097284\n",
       "f1         0.064444  0.087883  0.351602  0.063474  0.534976  0.064701"
      ]
     },
     "execution_count": 201,
     "metadata": {},
     "output_type": "execute_result"
    }
   ],
   "source": [
    "res_lr['stats']"
   ]
  },
  {
   "cell_type": "code",
   "execution_count": 207,
   "id": "01feea15",
   "metadata": {},
   "outputs": [
    {
     "name": "stdout",
     "output_type": "stream",
     "text": [
      "E\n",
      "S\n",
      "G\n"
     ]
    }
   ],
   "source": [
    "param_grid = [{'kernel': ['rbf'],\n",
    "               'gamma': [1e-3, 1e-4],\n",
    "               'C': [1, 10],\n",
    "               'class_weight': ['balanced', None]},\n",
    "              {'kernel': ['linear'], \n",
    "               'C': [1, 10],\n",
    "               'class_weight': ['balanced', None]}]\n",
    "\n",
    "svm = SVC(probability=True)\n",
    "\n",
    "res_sv = fit_ESG(svm, param_grid, X_train, y_train, scoring_fit, scorings_assess)"
   ]
  },
  {
   "cell_type": "code",
   "execution_count": 208,
   "id": "fa3eec9c",
   "metadata": {},
   "outputs": [
    {
     "data": {
      "text/plain": [
       "({'C': 10, 'class_weight': 'balanced', 'gamma': 0.0001, 'kernel': 'rbf'},\n",
       " {'C': 10, 'class_weight': 'balanced', 'gamma': 0.001, 'kernel': 'rbf'},\n",
       " {'C': 1, 'class_weight': 'balanced', 'kernel': 'linear'})"
      ]
     },
     "execution_count": 208,
     "metadata": {},
     "output_type": "execute_result"
    }
   ],
   "source": [
    "res_sv['E']['model_gs'].best_params_, res_sv['S']['model_gs'].best_params_, res_sv['G']['model_gs'].best_params_"
   ]
  },
  {
   "cell_type": "code",
   "execution_count": 209,
   "id": "1364b9a9",
   "metadata": {},
   "outputs": [
    {
     "data": {
      "text/html": [
       "<div>\n",
       "<style scoped>\n",
       "    .dataframe tbody tr th:only-of-type {\n",
       "        vertical-align: middle;\n",
       "    }\n",
       "\n",
       "    .dataframe tbody tr th {\n",
       "        vertical-align: top;\n",
       "    }\n",
       "\n",
       "    .dataframe thead th {\n",
       "        text-align: right;\n",
       "    }\n",
       "</style>\n",
       "<table border=\"1\" class=\"dataframe\">\n",
       "  <thead>\n",
       "    <tr style=\"text-align: right;\">\n",
       "      <th></th>\n",
       "      <th>mean_E</th>\n",
       "      <th>stdev_E</th>\n",
       "      <th>mean_S</th>\n",
       "      <th>stdev_S</th>\n",
       "      <th>mean_G</th>\n",
       "      <th>stdev_G</th>\n",
       "    </tr>\n",
       "  </thead>\n",
       "  <tbody>\n",
       "    <tr>\n",
       "      <th>accuracy</th>\n",
       "      <td>0.790755</td>\n",
       "      <td>0.027947</td>\n",
       "      <td>0.641798</td>\n",
       "      <td>0.032471</td>\n",
       "      <td>0.695070</td>\n",
       "      <td>0.105447</td>\n",
       "    </tr>\n",
       "    <tr>\n",
       "      <th>roc_auc</th>\n",
       "      <td>0.601582</td>\n",
       "      <td>0.085819</td>\n",
       "      <td>0.666269</td>\n",
       "      <td>0.026106</td>\n",
       "      <td>0.700748</td>\n",
       "      <td>0.049584</td>\n",
       "    </tr>\n",
       "    <tr>\n",
       "      <th>precision</th>\n",
       "      <td>0.074151</td>\n",
       "      <td>0.022529</td>\n",
       "      <td>0.322961</td>\n",
       "      <td>0.031588</td>\n",
       "      <td>0.478225</td>\n",
       "      <td>0.135081</td>\n",
       "    </tr>\n",
       "    <tr>\n",
       "      <th>recall</th>\n",
       "      <td>0.320000</td>\n",
       "      <td>0.097980</td>\n",
       "      <td>0.572667</td>\n",
       "      <td>0.089154</td>\n",
       "      <td>0.540394</td>\n",
       "      <td>0.142428</td>\n",
       "    </tr>\n",
       "    <tr>\n",
       "      <th>f1</th>\n",
       "      <td>0.120021</td>\n",
       "      <td>0.036088</td>\n",
       "      <td>0.411074</td>\n",
       "      <td>0.044553</td>\n",
       "      <td>0.480389</td>\n",
       "      <td>0.070815</td>\n",
       "    </tr>\n",
       "  </tbody>\n",
       "</table>\n",
       "</div>"
      ],
      "text/plain": [
       "             mean_E   stdev_E    mean_S   stdev_S    mean_G   stdev_G\n",
       "accuracy   0.790755  0.027947  0.641798  0.032471  0.695070  0.105447\n",
       "roc_auc    0.601582  0.085819  0.666269  0.026106  0.700748  0.049584\n",
       "precision  0.074151  0.022529  0.322961  0.031588  0.478225  0.135081\n",
       "recall     0.320000  0.097980  0.572667  0.089154  0.540394  0.142428\n",
       "f1         0.120021  0.036088  0.411074  0.044553  0.480389  0.070815"
      ]
     },
     "execution_count": 209,
     "metadata": {},
     "output_type": "execute_result"
    }
   ],
   "source": [
    "res_sv['stats']"
   ]
  },
  {
   "cell_type": "code",
   "execution_count": 210,
   "id": "3d9e2558",
   "metadata": {},
   "outputs": [
    {
     "name": "stdout",
     "output_type": "stream",
     "text": [
      "E\n",
      "S\n",
      "G\n"
     ]
    }
   ],
   "source": [
    "param_grid = {'n_estimators': np.linspace(10, 50, 5).astype('int'),\n",
    "              'max_depth': np.linspace(20, 100, 9),\n",
    "              'min_samples_leaf': [1, 2, 5],\n",
    "              'class_weight': ['balanced', None]}\n",
    "\n",
    "rf = RandomForestClassifier()\n",
    "\n",
    "res_rf = fit_ESG(rf, param_grid, X_train, y_train, scoring_fit, scorings_assess)"
   ]
  },
  {
   "cell_type": "code",
   "execution_count": 211,
   "id": "2d1108f1",
   "metadata": {},
   "outputs": [
    {
     "data": {
      "text/plain": [
       "({'class_weight': 'balanced',\n",
       "  'max_depth': 100.0,\n",
       "  'min_samples_leaf': 5,\n",
       "  'n_estimators': 10},\n",
       " {'class_weight': 'balanced',\n",
       "  'max_depth': 90.0,\n",
       "  'min_samples_leaf': 5,\n",
       "  'n_estimators': 30},\n",
       " {'class_weight': 'balanced',\n",
       "  'max_depth': 40.0,\n",
       "  'min_samples_leaf': 5,\n",
       "  'n_estimators': 20})"
      ]
     },
     "execution_count": 211,
     "metadata": {},
     "output_type": "execute_result"
    }
   ],
   "source": [
    "res_rf['E']['model_gs'].best_params_, res_rf['S']['model_gs'].best_params_, res_rf['G']['model_gs'].best_params_"
   ]
  },
  {
   "cell_type": "code",
   "execution_count": 212,
   "id": "de9b3844",
   "metadata": {},
   "outputs": [
    {
     "data": {
      "text/html": [
       "<div>\n",
       "<style scoped>\n",
       "    .dataframe tbody tr th:only-of-type {\n",
       "        vertical-align: middle;\n",
       "    }\n",
       "\n",
       "    .dataframe tbody tr th {\n",
       "        vertical-align: top;\n",
       "    }\n",
       "\n",
       "    .dataframe thead th {\n",
       "        text-align: right;\n",
       "    }\n",
       "</style>\n",
       "<table border=\"1\" class=\"dataframe\">\n",
       "  <thead>\n",
       "    <tr style=\"text-align: right;\">\n",
       "      <th></th>\n",
       "      <th>mean_E</th>\n",
       "      <th>stdev_E</th>\n",
       "      <th>mean_S</th>\n",
       "      <th>stdev_S</th>\n",
       "      <th>mean_G</th>\n",
       "      <th>stdev_G</th>\n",
       "    </tr>\n",
       "  </thead>\n",
       "  <tbody>\n",
       "    <tr>\n",
       "      <th>accuracy</th>\n",
       "      <td>0.918331</td>\n",
       "      <td>0.035566</td>\n",
       "      <td>0.657728</td>\n",
       "      <td>0.048583</td>\n",
       "      <td>0.712800</td>\n",
       "      <td>0.022378</td>\n",
       "    </tr>\n",
       "    <tr>\n",
       "      <th>roc_auc</th>\n",
       "      <td>0.541862</td>\n",
       "      <td>0.133331</td>\n",
       "      <td>0.611852</td>\n",
       "      <td>0.044361</td>\n",
       "      <td>0.674865</td>\n",
       "      <td>0.019298</td>\n",
       "    </tr>\n",
       "    <tr>\n",
       "      <th>precision</th>\n",
       "      <td>0.150000</td>\n",
       "      <td>0.200000</td>\n",
       "      <td>0.216730</td>\n",
       "      <td>0.122013</td>\n",
       "      <td>0.436531</td>\n",
       "      <td>0.034030</td>\n",
       "    </tr>\n",
       "    <tr>\n",
       "      <th>recall</th>\n",
       "      <td>0.160000</td>\n",
       "      <td>0.233238</td>\n",
       "      <td>0.282667</td>\n",
       "      <td>0.156722</td>\n",
       "      <td>0.395320</td>\n",
       "      <td>0.052838</td>\n",
       "    </tr>\n",
       "    <tr>\n",
       "      <th>f1</th>\n",
       "      <td>0.127731</td>\n",
       "      <td>0.157876</td>\n",
       "      <td>0.244240</td>\n",
       "      <td>0.135531</td>\n",
       "      <td>0.411581</td>\n",
       "      <td>0.026125</td>\n",
       "    </tr>\n",
       "  </tbody>\n",
       "</table>\n",
       "</div>"
      ],
      "text/plain": [
       "             mean_E   stdev_E    mean_S   stdev_S    mean_G   stdev_G\n",
       "accuracy   0.918331  0.035566  0.657728  0.048583  0.712800  0.022378\n",
       "roc_auc    0.541862  0.133331  0.611852  0.044361  0.674865  0.019298\n",
       "precision  0.150000  0.200000  0.216730  0.122013  0.436531  0.034030\n",
       "recall     0.160000  0.233238  0.282667  0.156722  0.395320  0.052838\n",
       "f1         0.127731  0.157876  0.244240  0.135531  0.411581  0.026125"
      ]
     },
     "execution_count": 212,
     "metadata": {},
     "output_type": "execute_result"
    }
   ],
   "source": [
    "res_rf['stats']"
   ]
  },
  {
   "cell_type": "code",
   "execution_count": 213,
   "id": "b49b0475",
   "metadata": {},
   "outputs": [],
   "source": [
    "def check_performance(y_true, y_pred, y_scores, name):\n",
    "    print(f\"Accuracy: {metrics.accuracy_score(y_true, y_pred)}\")\n",
    "    print(f\"Precision: {metrics.precision_score(y_true, y_pred)}\")\n",
    "    print(f\"Recall: {metrics.recall_score(y_true, y_pred)}\")\n",
    "    print(f\"F1-score: {metrics.f1_score(y_true, y_pred)}\")\n",
    "    print('\\nConfusion Matrix')\n",
    "    print(metrics.confusion_matrix(y_true, y_pred))\n",
    "    \n",
    "    fpr, tpr, thresholds = metrics.roc_curve(y_true, y_scores, pos_label=1)\n",
    "    roc_auc = metrics.auc(fpr, tpr)\n",
    "\n",
    "    fig = plt.figure(figsize=(10,5))\n",
    "    fig.suptitle(name)\n",
    "    \n",
    "    plt.subplot(1, 2, 1)\n",
    "    lw = 2\n",
    "    plt.plot(fpr, tpr, color='darkorange',\n",
    "             lw=lw, label='ROC curve (area = %0.2f)' % roc_auc)\n",
    "    plt.plot([0, 1], [0, 1], color='navy', lw=lw, linestyle='--')\n",
    "    plt.xlim([0.0, 1.0])\n",
    "    plt.ylim([0.0, 1.05])\n",
    "    plt.xlabel('False Positive Rate')\n",
    "    plt.ylabel('True Positive Rate')\n",
    "    plt.title('Receiver operating characteristic')\n",
    "    plt.legend(loc=\"lower right\")\n",
    "\n",
    "    plt.subplot(1, 2, 2)\n",
    "    precision, recall, thresholds = precision_recall_curve(y_true, y_scores)\n",
    "    avg_precision = metrics.average_precision_score(y_true, y_scores)\n",
    "    plt.step(recall, precision, where='post', label=f\"Average precision score {avg_precision:0.2f}\")\n",
    "    plt.ylabel('Precision')\n",
    "    plt.xlabel('Recall')\n",
    "    plt.title(\"Precision-Recall curve\")\n",
    "    plt.legend(loc=\"lower left\")\n",
    "    fig.tight_layout()\n",
    "    plt.show()"
   ]
  },
  {
   "cell_type": "code",
   "execution_count": 302,
   "id": "89039162",
   "metadata": {},
   "outputs": [
    {
     "name": "stdout",
     "output_type": "stream",
     "text": [
      "{'C': 10.0, 'class_weight': 'balanced', 'penalty': 'l1', 'solver': 'liblinear'}\n",
      "Accuracy: 0.783068783068783\n",
      "Precision: 0.0\n",
      "Recall: 0.0\n",
      "F1-score: 0.0\n",
      "\n",
      "Confusion Matrix\n",
      "[[148   0]\n",
      " [ 41   0]]\n"
     ]
    },
    {
     "name": "stderr",
     "output_type": "stream",
     "text": [
      "C:\\ProgramData\\Anaconda3\\envs\\myenv\\lib\\site-packages\\sklearn\\metrics\\_classification.py:1248: UndefinedMetricWarning: Precision is ill-defined and being set to 0.0 due to no predicted samples. Use `zero_division` parameter to control this behavior.\n",
      "  _warn_prf(average, modifier, msg_start, len(result))\n"
     ]
    },
    {
     "data": {
      "image/png": "[encoded data removed]",
      "text/plain": [
       "<Figure size 1000x500 with 2 Axes>"
      ]
     },
     "metadata": {},
     "output_type": "display_data"
    }
   ],
   "source": [
    "col = 'S'\n",
    "name = f'Logistic Regression on {col}'\n",
    "model = res_lr[col]['model_gs']\n",
    "y_val = Y_val[col]\n",
    "y_pred = model.predict(X_val_tfidf.todense())\n",
    "y_true = y_val\n",
    "y_scores = model.predict_proba(X_val_tfidf.todense())[:,1]\n",
    "print(model.best_params_)\n",
    "check_performance(y_true, y_pred, y_scores, name)"
   ]
  },
  {
   "cell_type": "code",
   "execution_count": 304,
   "id": "ef88087a",
   "metadata": {},
   "outputs": [
    {
     "name": "stdout",
     "output_type": "stream",
     "text": [
      "{'C': 10.0, 'class_weight': 'balanced', 'penalty': 'l2', 'solver': 'liblinear'}\n",
      "Accuracy: 0.746031746031746\n",
      "Precision: 0.52\n",
      "Recall: 0.2653061224489796\n",
      "F1-score: 0.35135135135135137\n",
      "\n",
      "Confusion Matrix\n",
      "[[128  12]\n",
      " [ 36  13]]\n"
     ]
    },
    {
     "data": {
      "image/png": "[encoded data removed]",
      "text/plain": [
       "<Figure size 1000x500 with 2 Axes>"
      ]
     },
     "metadata": {},
     "output_type": "display_data"
    }
   ],
   "source": [
    "col = 'G'\n",
    "name = f'Logistic Regression on {col}'\n",
    "model = res_lr[col]['model_gs']\n",
    "y_val = Y_val[col]\n",
    "y_pred = model.predict(X_val_tfidf.todense())\n",
    "y_true = y_val\n",
    "y_scores = model.predict_proba(X_val_tfidf.todense())[:,1]\n",
    "print(model.best_params_)\n",
    "check_performance(y_true, y_pred, y_scores, name)"
   ]
  },
  {
   "cell_type": "code",
   "execution_count": 305,
   "id": "a7bd9bff",
   "metadata": {},
   "outputs": [
    {
     "name": "stdout",
     "output_type": "stream",
     "text": [
      "{'C': 10, 'class_weight': 'balanced', 'gamma': 0.001, 'kernel': 'rbf'}\n",
      "Accuracy: 0.783068783068783\n",
      "Precision: 0.0\n",
      "Recall: 0.0\n",
      "F1-score: 0.0\n",
      "\n",
      "Confusion Matrix\n",
      "[[148   0]\n",
      " [ 41   0]]\n"
     ]
    },
    {
     "name": "stderr",
     "output_type": "stream",
     "text": [
      "C:\\ProgramData\\Anaconda3\\envs\\myenv\\lib\\site-packages\\sklearn\\metrics\\_classification.py:1248: UndefinedMetricWarning: Precision is ill-defined and being set to 0.0 due to no predicted samples. Use `zero_division` parameter to control this behavior.\n",
      "  _warn_prf(average, modifier, msg_start, len(result))\n"
     ]
    },
    {
     "data": {
      "image/png": "[encoded data removed]",
      "text/plain": [
       "<Figure size 1000x500 with 2 Axes>"
      ]
     },
     "metadata": {},
     "output_type": "display_data"
    }
   ],
   "source": [
    "col = 'S'\n",
    "name = f'SVM on {col}'\n",
    "model = res_sv[col]['model_gs']\n",
    "y_val = Y_val[col]\n",
    "y_pred = model.predict(X_val_tfidf.todense())\n",
    "y_true = y_val\n",
    "y_scores = model.predict_proba(X_val_tfidf.todense())[:,1]\n",
    "print(model.best_params_)\n",
    "check_performance(y_true, y_pred, y_scores, name)"
   ]
  },
  {
   "cell_type": "code",
   "execution_count": 306,
   "id": "3133fe8b",
   "metadata": {},
   "outputs": [
    {
     "name": "stdout",
     "output_type": "stream",
     "text": [
      "{'C': 1, 'class_weight': 'balanced', 'kernel': 'linear'}\n",
      "Accuracy: 0.7513227513227513\n",
      "Precision: 1.0\n",
      "Recall: 0.04081632653061224\n",
      "F1-score: 0.07843137254901959\n",
      "\n",
      "Confusion Matrix\n",
      "[[140   0]\n",
      " [ 47   2]]\n"
     ]
    },
    {
     "data": {
      "image/png": "[encoded data removed]",
      "text/plain": [
       "<Figure size 1000x500 with 2 Axes>"
      ]
     },
     "metadata": {},
     "output_type": "display_data"
    }
   ],
   "source": [
    "col = 'G'\n",
    "name = f'SVM on {col}'\n",
    "model = res_sv[col]['model_gs']\n",
    "y_val = Y_val[col]\n",
    "y_pred = model.predict(X_val_tfidf.todense())\n",
    "y_true = y_val\n",
    "y_scores = model.predict_proba(X_val_tfidf.todense())[:,1]\n",
    "print(model.best_params_)\n",
    "check_performance(y_true, y_pred, y_scores, name)"
   ]
  },
  {
   "cell_type": "code",
   "execution_count": 307,
   "id": "bc312488",
   "metadata": {},
   "outputs": [
    {
     "name": "stdout",
     "output_type": "stream",
     "text": [
      "{'class_weight': 'balanced', 'max_depth': 90.0, 'min_samples_leaf': 5, 'n_estimators': 30}\n",
      "Accuracy: 0.783068783068783\n",
      "Precision: 0.0\n",
      "Recall: 0.0\n",
      "F1-score: 0.0\n",
      "\n",
      "Confusion Matrix\n",
      "[[148   0]\n",
      " [ 41   0]]\n"
     ]
    },
    {
     "name": "stderr",
     "output_type": "stream",
     "text": [
      "C:\\ProgramData\\Anaconda3\\envs\\myenv\\lib\\site-packages\\sklearn\\metrics\\_classification.py:1248: UndefinedMetricWarning: Precision is ill-defined and being set to 0.0 due to no predicted samples. Use `zero_division` parameter to control this behavior.\n",
      "  _warn_prf(average, modifier, msg_start, len(result))\n"
     ]
    },
    {
     "data": {
      "image/png": "[encoded data removed]",
      "text/plain": [
       "<Figure size 1000x500 with 2 Axes>"
      ]
     },
     "metadata": {},
     "output_type": "display_data"
    }
   ],
   "source": [
    "col = 'S'\n",
    "name = f'Random Forest on {col}'\n",
    "model = res_rf[col]['model_gs']\n",
    "y_val = Y_val[col]\n",
    "y_pred = model.predict(X_val_tfidf.todense())\n",
    "y_true = y_val\n",
    "y_scores = model.predict_proba(X_val_tfidf.todense())[:,1]\n",
    "print(model.best_params_)\n",
    "check_performance(y_true, y_pred, y_scores, name)"
   ]
  },
  {
   "cell_type": "code",
   "execution_count": 310,
   "id": "b3d317e3",
   "metadata": {},
   "outputs": [
    {
     "name": "stdout",
     "output_type": "stream",
     "text": [
      "{'class_weight': 'balanced', 'max_depth': 40.0, 'min_samples_leaf': 5, 'n_estimators': 20}\n",
      "Accuracy: 0.7354497354497355\n",
      "Precision: 0.0\n",
      "Recall: 0.0\n",
      "F1-score: 0.0\n",
      "\n",
      "Confusion Matrix\n",
      "[[139   1]\n",
      " [ 49   0]]\n"
     ]
    },
    {
     "data": {
      "image/png": "[encoded data removed]",
      "text/plain": [
       "<Figure size 1000x500 with 2 Axes>"
      ]
     },
     "metadata": {},
     "output_type": "display_data"
    }
   ],
   "source": [
    "col = 'G'\n",
    "name = f'Random Forest on {col}'\n",
    "model = res_rf[col]['model_gs']\n",
    "y_val = Y_val[col]\n",
    "y_pred = model.predict(X_val_tfidf)\n",
    "y_true = y_val\n",
    "y_scores = model.predict_proba(X_val_tfidf)[:,1]\n",
    "print(model.best_params_)\n",
    "check_performance(y_true, y_pred, y_scores, name)"
   ]
  },
  {
   "cell_type": "code",
   "execution_count": null,
   "id": "8c05d0ca",
   "metadata": {},
   "outputs": [],
   "source": []
  }
 ],
 "metadata": {
  "kernelspec": {
   "display_name": "Python 3 (ipykernel)",
   "language": "python",
   "name": "python3"
  },
  "language_info": {
   "codemirror_mode": {
    "name": "ipython",
    "version": 3
   },
   "file_extension": ".py",
   "mimetype": "text/x-python",
   "name": "python",
   "nbconvert_exporter": "python",
   "pygments_lexer": "ipython3",
   "version": "3.9.5"
  }
 },
 "nbformat": 4,
 "nbformat_minor": 5
}
