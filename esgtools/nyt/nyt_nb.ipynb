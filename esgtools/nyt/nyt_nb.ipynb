{
 "cells": [
  {
   "cell_type": "markdown",
   "id": "2986639b",
   "metadata": {},
   "source": [
    "## Import"
   ]
  },
  {
   "cell_type": "code",
   "execution_count": 1,
   "id": "0fefee68",
   "metadata": {},
   "outputs": [],
   "source": [
    "# External\n",
    "import os\n",
    "import sys\n",
    "import pandas as pd\n",
    "from datetime import datetime"
   ]
  },
  {
   "cell_type": "code",
   "execution_count": 2,
   "id": "117c90f2",
   "metadata": {},
   "outputs": [
    {
     "data": {
      "text/plain": [
       "('/Users/nace/dev/esg-portfolio/esgtools',\n",
       " '/Users/nace/dev/esg-portfolio/esgtools/nyt')"
      ]
     },
     "execution_count": 2,
     "metadata": {},
     "output_type": "execute_result"
    }
   ],
   "source": [
    "module_path = os.path.abspath(os.path.join('..'))\n",
    "module_path, os.getcwd()"
   ]
  },
  {
   "cell_type": "code",
   "execution_count": 3,
   "id": "01ec04ec",
   "metadata": {},
   "outputs": [
    {
     "name": "stdout",
     "output_type": "stream",
     "text": [
      "Adding /Users/nace/dev/esg-portfolio/esgtools to sys.path\n",
      "\n",
      "Changing directory from:\n",
      "    /Users/nace/dev/esg-portfolio/esgtools/nyt \n",
      "to: \n",
      "    /Users/nace/dev/esg-portfolio/esgtools\n",
      "\n"
     ]
    }
   ],
   "source": [
    "if module_path not in sys.path:\n",
    "    print(f\"Adding {module_path} to sys.path\")\n",
    "    sys.path.append(module_path)\n",
    "if module_path != os.getcwd():\n",
    "    print(f\"\"\"\n",
    "Changing directory from:\n",
    "    {os.getcwd()} \n",
    "to: \n",
    "    {module_path}\n",
    "\"\"\"\n",
    "         )\n",
    "    os.chdir(module_path)"
   ]
  },
  {
   "cell_type": "code",
   "execution_count": 4,
   "id": "e38e6a74",
   "metadata": {},
   "outputs": [],
   "source": [
    "# Internal\n",
    "import nyt\n",
    "from utils import sql_manager"
   ]
  },
  {
   "cell_type": "code",
   "execution_count": 5,
   "id": "56f85913",
   "metadata": {},
   "outputs": [
    {
     "data": {
      "text/plain": [
       "<module 'utils.sql_manager' from '/Users/nace/dev/esg-portfolio/esgtools/utils/sql_manager.py'>"
      ]
     },
     "execution_count": 5,
     "metadata": {},
     "output_type": "execute_result"
    }
   ],
   "source": [
    "import importlib\n",
    "importlib.reload(nyt)\n",
    "importlib.reload(sql_manager)"
   ]
  },
  {
   "cell_type": "markdown",
   "id": "b1ff7f67",
   "metadata": {},
   "source": [
    "## Prototype"
   ]
  },
  {
   "cell_type": "code",
   "execution_count": 6,
   "id": "6b5e57d4",
   "metadata": {},
   "outputs": [],
   "source": [
    "from ast import literal_eval\n",
    "from utils import sql_manager, aws, utils"
   ]
  },
  {
   "cell_type": "code",
   "execution_count": 7,
   "id": "441a20f7",
   "metadata": {},
   "outputs": [],
   "source": [
    "api_key = literal_eval(aws.get_secret(\"prod/NYTApi/key\"))[\"NYT_API_KEY\"]"
   ]
  },
  {
   "cell_type": "code",
   "execution_count": 16,
   "id": "c384d8d9",
   "metadata": {},
   "outputs": [
    {
     "ename": "FileNotFoundError",
     "evalue": "[Errno 2] No such file or directory: 'etl/keys.json'",
     "output_type": "error",
     "traceback": [
      "\u001b[0;31m---------------------------------------------------------------------------\u001b[0m",
      "\u001b[0;31mFileNotFoundError\u001b[0m                         Traceback (most recent call last)",
      "\u001b[1;32m/Users/nace/dev/esg-portfolio/esgtools/nyt/nyt_nb.ipynb Cell 8'\u001b[0m in \u001b[0;36m<module>\u001b[0;34m\u001b[0m\n\u001b[0;32m----> <a href='vscode-notebook-cell:/Users/nace/dev/esg-portfolio/esgtools/nyt/nyt_nb.ipynb#ch0000007?line=0'>1</a>\u001b[0m nyt_manager \u001b[39m=\u001b[39m nyt\u001b[39m.\u001b[39;49mManagerNYTdata(clean_tables\u001b[39m=\u001b[39;49m\u001b[39mFalse\u001b[39;49;00m)\n",
      "File \u001b[0;32m~/dev/esg-portfolio/esgtools/nyt/nyt.py:21\u001b[0m, in \u001b[0;36mManagerNYTdata.__init__\u001b[0;34m(self, clean_tables, api_key)\u001b[0m\n\u001b[1;32m     <a href='file:///Users/nace/dev/esg-portfolio/esgtools/nyt/nyt.py?line=18'>19</a>\u001b[0m \u001b[39mself\u001b[39m\u001b[39m.\u001b[39msql_manager \u001b[39m=\u001b[39m sql_manager\u001b[39m.\u001b[39mManagerSQL()\n\u001b[1;32m     <a href='file:///Users/nace/dev/esg-portfolio/esgtools/nyt/nyt.py?line=19'>20</a>\u001b[0m \u001b[39mif\u001b[39;00m api_key \u001b[39mis\u001b[39;00m \u001b[39mNone\u001b[39;00m:\n\u001b[0;32m---> <a href='file:///Users/nace/dev/esg-portfolio/esgtools/nyt/nyt.py?line=20'>21</a>\u001b[0m     \u001b[39mself\u001b[39m\u001b[39m.\u001b[39mapi_key \u001b[39m=\u001b[39m \u001b[39mself\u001b[39;49m\u001b[39m.\u001b[39;49mget_api_key()\n\u001b[1;32m     <a href='file:///Users/nace/dev/esg-portfolio/esgtools/nyt/nyt.py?line=22'>23</a>\u001b[0m \u001b[39m# Clean\u001b[39;00m\n\u001b[1;32m     <a href='file:///Users/nace/dev/esg-portfolio/esgtools/nyt/nyt.py?line=23'>24</a>\u001b[0m \u001b[39mif\u001b[39;00m clean_tables:\n",
      "File \u001b[0;32m~/dev/esg-portfolio/esgtools/nyt/nyt.py:28\u001b[0m, in \u001b[0;36mManagerNYTdata.get_api_key\u001b[0;34m(self)\u001b[0m\n\u001b[1;32m     <a href='file:///Users/nace/dev/esg-portfolio/esgtools/nyt/nyt.py?line=26'>27</a>\u001b[0m \u001b[39mdef\u001b[39;00m \u001b[39mget_api_key\u001b[39m(\u001b[39mself\u001b[39m):\n\u001b[0;32m---> <a href='file:///Users/nace/dev/esg-portfolio/esgtools/nyt/nyt.py?line=27'>28</a>\u001b[0m     \u001b[39mwith\u001b[39;00m \u001b[39mopen\u001b[39;49m(\u001b[39m'\u001b[39;49m\u001b[39metl/keys.json\u001b[39;49m\u001b[39m'\u001b[39;49m, ) \u001b[39mas\u001b[39;00m f:\n\u001b[1;32m     <a href='file:///Users/nace/dev/esg-portfolio/esgtools/nyt/nyt.py?line=28'>29</a>\u001b[0m         keys \u001b[39m=\u001b[39m json\u001b[39m.\u001b[39mload(f)\n\u001b[1;32m     <a href='file:///Users/nace/dev/esg-portfolio/esgtools/nyt/nyt.py?line=29'>30</a>\u001b[0m         api_key \u001b[39m=\u001b[39m keys[\u001b[39m\"\u001b[39m\u001b[39mnyt\u001b[39m\u001b[39m\"\u001b[39m][\u001b[39m\"\u001b[39m\u001b[39mKey\u001b[39m\u001b[39m\"\u001b[39m]\n",
      "\u001b[0;31mFileNotFoundError\u001b[0m: [Errno 2] No such file or directory: 'etl/keys.json'"
     ]
    }
   ],
   "source": [
    "nyt_manager = nyt.ManagerNYTdata(clean_tables=False)"
   ]
  },
  {
   "cell_type": "code",
   "execution_count": 114,
   "id": "d3ae3f11",
   "metadata": {},
   "outputs": [
    {
     "name": "stdout",
     "output_type": "stream",
     "text": [
      "Downloading NYT 200101\n",
      "No data returned for 200101 (7.62 sec)\n"
     ]
    }
   ],
   "source": [
    "nyt_manager.nyt_upload_one_month_articles(2001, 1, verbose=1)"
   ]
  },
  {
   "cell_type": "code",
   "execution_count": null,
   "id": "2f90346f",
   "metadata": {},
   "outputs": [
    {
     "name": "stdout",
     "output_type": "stream",
     "text": [
      "Downloading NYT 200101\n",
      "No data returned for 200101 (8.59 sec)\n",
      "Downloading NYT 200102\n",
      "No data returned for 200102 (9.58 sec)\n",
      "Downloading NYT 200103\n",
      "No data returned for 200103 (6.17 sec)\n",
      "Downloading NYT 200104\n",
      "No data returned for 200104 (7.91 sec)\n",
      "Downloading NYT 200105\n",
      "No data returned for 200105 (6.85 sec)\n",
      "Downloading NYT 200106\n",
      "No data returned for 200106 (6.88 sec)\n",
      "Downloading NYT 200107\n",
      "Downloaded NYT 200107 (20.60 sec)\n",
      "Uploading NYT 200107\n",
      "Uploaded NYT 200107 (1.29 sec)\n",
      "Downloading NYT 200108\n",
      "Downloaded NYT 200108 (9.82 sec)\n",
      "Uploading NYT 200108\n",
      "Uploaded NYT 200108 (0.42 sec)\n",
      "Downloading NYT 200109\n",
      "Downloaded NYT 200109 (6.64 sec)\n",
      "Uploading NYT 200109\n",
      "Uploaded NYT 200109 (0.44 sec)\n",
      "Downloading NYT 200110\n",
      "Downloaded NYT 200110 (8.81 sec)\n",
      "Uploading NYT 200110\n",
      "Uploaded NYT 200110 (0.36 sec)\n",
      "Downloading NYT 200111\n",
      "Downloaded NYT 200111 (5.75 sec)\n",
      "Uploading NYT 200111\n",
      "Uploaded NYT 200111 (0.44 sec)\n",
      "Downloading NYT 200112\n",
      "Downloaded NYT 200112 (11.78 sec)\n",
      "Uploading NYT 200112\n",
      "Uploaded NYT 200112 (0.38 sec)\n",
      "Downloading NYT 200201\n",
      "Downloaded NYT 200201 (9.09 sec)\n",
      "Uploading NYT 200201\n",
      "Uploaded NYT 200201 (0.44 sec)\n",
      "Downloading NYT 200202\n",
      "Downloaded NYT 200202 (5.89 sec)\n",
      "Uploading NYT 200202\n",
      "Uploaded NYT 200202 (0.44 sec)\n",
      "Downloading NYT 200203\n",
      "No data returned for 200203 (5.54 sec)\n",
      "Downloading NYT 200204\n",
      "Downloaded NYT 200204 (18.02 sec)\n",
      "Uploading NYT 200204\n",
      "Uploaded NYT 200204 (0.37 sec)\n",
      "Downloading NYT 200205\n",
      "Downloaded NYT 200205 (7.04 sec)\n",
      "Uploading NYT 200205\n",
      "Uploaded NYT 200205 (0.42 sec)\n",
      "Downloading NYT 200206\n",
      "Downloaded NYT 200206 (7.13 sec)\n",
      "Uploading NYT 200206\n",
      "Uploaded NYT 200206 (0.41 sec)\n",
      "Downloading NYT 200207\n",
      "Downloaded NYT 200207 (6.30 sec)\n",
      "Uploading NYT 200207\n",
      "Uploaded NYT 200207 (0.43 sec)\n",
      "Downloading NYT 200208\n"
     ]
    }
   ],
   "source": [
    "nyt_manager.nyt_upload_all_articles(verbose=1)"
   ]
  },
  {
   "cell_type": "code",
   "execution_count": null,
   "id": "8c18e254",
   "metadata": {},
   "outputs": [],
   "source": []
  }
 ],
 "metadata": {
  "kernelspec": {
   "display_name": "Python 3 (ipykernel)",
   "language": "python",
   "name": "python3"
  },
  "language_info": {
   "codemirror_mode": {
    "name": "ipython",
    "version": 3
   },
   "file_extension": ".py",
   "mimetype": "text/x-python",
   "name": "python",
   "nbconvert_exporter": "python",
   "pygments_lexer": "ipython3",
   "version": "3.9.9"
  }
 },
 "nbformat": 4,
 "nbformat_minor": 5
}
