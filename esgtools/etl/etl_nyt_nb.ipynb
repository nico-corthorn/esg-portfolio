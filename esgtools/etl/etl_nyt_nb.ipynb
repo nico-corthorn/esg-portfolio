{
 "cells": [
  {
   "cell_type": "markdown",
   "id": "2986639b",
   "metadata": {},
   "source": [
    "## Import"
   ]
  },
  {
   "cell_type": "code",
   "execution_count": 1,
   "id": "0fefee68",
   "metadata": {},
   "outputs": [],
   "source": [
    "# External\n",
    "import os\n",
    "import sys\n",
    "import pandas as pd\n",
    "from datetime import datetime"
   ]
  },
  {
   "cell_type": "code",
   "execution_count": 2,
   "id": "117c90f2",
   "metadata": {},
   "outputs": [
    {
     "data": {
      "text/plain": [
       "('D:\\\\coding\\\\springboard\\\\capstone\\\\springboard-capstone-project\\\\app',\n",
       " 'D:\\\\coding\\\\springboard\\\\capstone\\\\springboard-capstone-project\\\\app\\\\etl')"
      ]
     },
     "execution_count": 2,
     "metadata": {},
     "output_type": "execute_result"
    }
   ],
   "source": [
    "module_path = os.path.abspath(os.path.join('..'))\n",
    "module_path, os.getcwd()"
   ]
  },
  {
   "cell_type": "code",
   "execution_count": 3,
   "id": "01ec04ec",
   "metadata": {},
   "outputs": [
    {
     "name": "stdout",
     "output_type": "stream",
     "text": [
      "\n",
      "Changing directory from:\n",
      "    D:\\coding\\springboard\\capstone\\springboard-capstone-project\\app\\etl \n",
      "to: \n",
      "    D:\\coding\\springboard\\capstone\\springboard-capstone-project\\app\n",
      "\n"
     ]
    }
   ],
   "source": [
    "if module_path not in sys.path:\n",
    "    print(f\"Adding {module_path} to sys.path\")\n",
    "    sys.path.append(module_path)\n",
    "if module_path != os.getcwd():\n",
    "    print(f\"\"\"\n",
    "Changing directory from:\n",
    "    {os.getcwd()} \n",
    "to: \n",
    "    {module_path}\n",
    "\"\"\"\n",
    "         )\n",
    "    os.chdir(module_path)"
   ]
  },
  {
   "cell_type": "code",
   "execution_count": 105,
   "id": "e38e6a74",
   "metadata": {},
   "outputs": [],
   "source": [
    "# Internal\n",
    "from etl import etl_nyt\n",
    "from utils import sql_manager"
   ]
  },
  {
   "cell_type": "code",
   "execution_count": 112,
   "id": "56f85913",
   "metadata": {},
   "outputs": [
    {
     "data": {
      "text/plain": [
       "<module 'utils.sql_manager' from 'D:\\\\coding\\\\springboard\\\\capstone\\\\springboard-capstone-project\\\\app\\\\utils\\\\sql_manager.py'>"
      ]
     },
     "execution_count": 112,
     "metadata": {},
     "output_type": "execute_result"
    }
   ],
   "source": [
    "import importlib\n",
    "importlib.reload(etl_nyt)\n",
    "importlib.reload(sql_manager)"
   ]
  },
  {
   "cell_type": "markdown",
   "id": "b1ff7f67",
   "metadata": {},
   "source": [
    "## Prototype"
   ]
  },
  {
   "cell_type": "code",
   "execution_count": 113,
   "id": "c384d8d9",
   "metadata": {},
   "outputs": [],
   "source": [
    "nyt_manager = etl_nyt.ManagerNYTdata(clean_tables=False)"
   ]
  },
  {
   "cell_type": "code",
   "execution_count": 114,
   "id": "d3ae3f11",
   "metadata": {},
   "outputs": [
    {
     "name": "stdout",
     "output_type": "stream",
     "text": [
      "Downloading NYT 200101\n",
      "No data returned for 200101 (7.62 sec)\n"
     ]
    }
   ],
   "source": [
    "nyt_manager.nyt_upload_one_month_articles(2001, 1, verbose=1)"
   ]
  },
  {
   "cell_type": "code",
   "execution_count": null,
   "id": "2f90346f",
   "metadata": {},
   "outputs": [
    {
     "name": "stdout",
     "output_type": "stream",
     "text": [
      "Downloading NYT 200101\n",
      "No data returned for 200101 (8.59 sec)\n",
      "Downloading NYT 200102\n",
      "No data returned for 200102 (9.58 sec)\n",
      "Downloading NYT 200103\n",
      "No data returned for 200103 (6.17 sec)\n",
      "Downloading NYT 200104\n",
      "No data returned for 200104 (7.91 sec)\n",
      "Downloading NYT 200105\n",
      "No data returned for 200105 (6.85 sec)\n",
      "Downloading NYT 200106\n",
      "No data returned for 200106 (6.88 sec)\n",
      "Downloading NYT 200107\n",
      "Downloaded NYT 200107 (20.60 sec)\n",
      "Uploading NYT 200107\n",
      "Uploaded NYT 200107 (1.29 sec)\n",
      "Downloading NYT 200108\n",
      "Downloaded NYT 200108 (9.82 sec)\n",
      "Uploading NYT 200108\n",
      "Uploaded NYT 200108 (0.42 sec)\n",
      "Downloading NYT 200109\n",
      "Downloaded NYT 200109 (6.64 sec)\n",
      "Uploading NYT 200109\n",
      "Uploaded NYT 200109 (0.44 sec)\n",
      "Downloading NYT 200110\n",
      "Downloaded NYT 200110 (8.81 sec)\n",
      "Uploading NYT 200110\n",
      "Uploaded NYT 200110 (0.36 sec)\n",
      "Downloading NYT 200111\n",
      "Downloaded NYT 200111 (5.75 sec)\n",
      "Uploading NYT 200111\n",
      "Uploaded NYT 200111 (0.44 sec)\n",
      "Downloading NYT 200112\n",
      "Downloaded NYT 200112 (11.78 sec)\n",
      "Uploading NYT 200112\n",
      "Uploaded NYT 200112 (0.38 sec)\n",
      "Downloading NYT 200201\n",
      "Downloaded NYT 200201 (9.09 sec)\n",
      "Uploading NYT 200201\n",
      "Uploaded NYT 200201 (0.44 sec)\n",
      "Downloading NYT 200202\n",
      "Downloaded NYT 200202 (5.89 sec)\n",
      "Uploading NYT 200202\n",
      "Uploaded NYT 200202 (0.44 sec)\n",
      "Downloading NYT 200203\n",
      "No data returned for 200203 (5.54 sec)\n",
      "Downloading NYT 200204\n",
      "Downloaded NYT 200204 (18.02 sec)\n",
      "Uploading NYT 200204\n",
      "Uploaded NYT 200204 (0.37 sec)\n",
      "Downloading NYT 200205\n",
      "Downloaded NYT 200205 (7.04 sec)\n",
      "Uploading NYT 200205\n",
      "Uploaded NYT 200205 (0.42 sec)\n",
      "Downloading NYT 200206\n",
      "Downloaded NYT 200206 (7.13 sec)\n",
      "Uploading NYT 200206\n",
      "Uploaded NYT 200206 (0.41 sec)\n",
      "Downloading NYT 200207\n",
      "Downloaded NYT 200207 (6.30 sec)\n",
      "Uploading NYT 200207\n",
      "Uploaded NYT 200207 (0.43 sec)\n",
      "Downloading NYT 200208\n"
     ]
    }
   ],
   "source": [
    "nyt_manager.nyt_upload_all_articles(verbose=1)"
   ]
  },
  {
   "cell_type": "code",
   "execution_count": null,
   "id": "8c18e254",
   "metadata": {},
   "outputs": [],
   "source": []
  }
 ],
 "metadata": {
  "kernelspec": {
   "display_name": "Python 3 (ipykernel)",
   "language": "python",
   "name": "python3"
  },
  "language_info": {
   "codemirror_mode": {
    "name": "ipython",
    "version": 3
   },
   "file_extension": ".py",
   "mimetype": "text/x-python",
   "name": "python",
   "nbconvert_exporter": "python",
   "pygments_lexer": "ipython3",
   "version": "3.9.5"
  }
 },
 "nbformat": 4,
 "nbformat_minor": 5
}
