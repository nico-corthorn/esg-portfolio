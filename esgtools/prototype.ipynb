{
 "cells": [
  {
   "cell_type": "code",
   "execution_count": 1,
   "id": "35a1abb8",
   "metadata": {},
   "outputs": [],
   "source": [
    "import os\n",
    "import csv\n",
    "import requests\n",
    "import zipfile\n",
    "import io\n",
    "import pandas as pd\n",
    "from datetime import datetime"
   ]
  },
  {
   "cell_type": "code",
   "execution_count": 4,
   "id": "a93a6bc9",
   "metadata": {},
   "outputs": [],
   "source": [
    "from etl import etl_alpha_api, etl_alpha_table\n",
    "from utils import sql_manager\n",
    "from utils import utils"
   ]
  },
  {
   "cell_type": "code",
   "execution_count": 8,
   "id": "122d901d",
   "metadata": {},
   "outputs": [],
   "source": [
    "api_key = os.environ.get('ALPHAVANTAGE_API_KEY')"
   ]
  },
  {
   "cell_type": "code",
   "execution_count": 6,
   "id": "6170fa95",
   "metadata": {},
   "outputs": [],
   "source": [
    "sql = sql_manager.ManagerSQL()"
   ]
  },
  {
   "cell_type": "code",
   "execution_count": 7,
   "id": "050715ab",
   "metadata": {},
   "outputs": [
    {
     "data": {
      "text/html": [
       "<div>\n",
       "<style scoped>\n",
       "    .dataframe tbody tr th:only-of-type {\n",
       "        vertical-align: middle;\n",
       "    }\n",
       "\n",
       "    .dataframe tbody tr th {\n",
       "        vertical-align: top;\n",
       "    }\n",
       "\n",
       "    .dataframe thead th {\n",
       "        text-align: right;\n",
       "    }\n",
       "</style>\n",
       "<table border=\"1\" class=\"dataframe\">\n",
       "  <thead>\n",
       "    <tr style=\"text-align: right;\">\n",
       "      <th></th>\n",
       "      <th>ticker</th>\n",
       "      <th>exchange</th>\n",
       "      <th>asset_type</th>\n",
       "      <th>price_currency</th>\n",
       "      <th>start_date</th>\n",
       "      <th>end_date</th>\n",
       "    </tr>\n",
       "  </thead>\n",
       "  <tbody>\n",
       "    <tr>\n",
       "      <th>0</th>\n",
       "      <td>000001</td>\n",
       "      <td>SHE</td>\n",
       "      <td>Stock</td>\n",
       "      <td>CNY</td>\n",
       "      <td>2007-01-04</td>\n",
       "      <td>2022-09-28</td>\n",
       "    </tr>\n",
       "    <tr>\n",
       "      <th>1</th>\n",
       "      <td>000002</td>\n",
       "      <td>SHE</td>\n",
       "      <td>Stock</td>\n",
       "      <td>CNY</td>\n",
       "      <td>2007-01-04</td>\n",
       "      <td>2022-09-28</td>\n",
       "    </tr>\n",
       "    <tr>\n",
       "      <th>2</th>\n",
       "      <td>000004</td>\n",
       "      <td>SHE</td>\n",
       "      <td>Stock</td>\n",
       "      <td>CNY</td>\n",
       "      <td>2007-08-31</td>\n",
       "      <td>2022-09-28</td>\n",
       "    </tr>\n",
       "    <tr>\n",
       "      <th>3</th>\n",
       "      <td>000005</td>\n",
       "      <td>SHE</td>\n",
       "      <td>Stock</td>\n",
       "      <td>CNY</td>\n",
       "      <td>2007-08-31</td>\n",
       "      <td>2022-09-28</td>\n",
       "    </tr>\n",
       "    <tr>\n",
       "      <th>4</th>\n",
       "      <td>000006</td>\n",
       "      <td>SHE</td>\n",
       "      <td>Stock</td>\n",
       "      <td>CNY</td>\n",
       "      <td>2007-01-04</td>\n",
       "      <td>2022-09-28</td>\n",
       "    </tr>\n",
       "    <tr>\n",
       "      <th>...</th>\n",
       "      <td>...</td>\n",
       "      <td>...</td>\n",
       "      <td>...</td>\n",
       "      <td>...</td>\n",
       "      <td>...</td>\n",
       "      <td>...</td>\n",
       "    </tr>\n",
       "    <tr>\n",
       "      <th>95</th>\n",
       "      <td>000425</td>\n",
       "      <td>SHE</td>\n",
       "      <td>Stock</td>\n",
       "      <td>CNY</td>\n",
       "      <td>2007-01-04</td>\n",
       "      <td>2022-09-28</td>\n",
       "    </tr>\n",
       "    <tr>\n",
       "      <th>96</th>\n",
       "      <td>000426</td>\n",
       "      <td>SHE</td>\n",
       "      <td>Stock</td>\n",
       "      <td>CNY</td>\n",
       "      <td>2007-08-30</td>\n",
       "      <td>2022-09-28</td>\n",
       "    </tr>\n",
       "    <tr>\n",
       "      <th>97</th>\n",
       "      <td>000428</td>\n",
       "      <td>SHE</td>\n",
       "      <td>Stock</td>\n",
       "      <td>CNY</td>\n",
       "      <td>2007-08-30</td>\n",
       "      <td>2022-09-28</td>\n",
       "    </tr>\n",
       "    <tr>\n",
       "      <th>98</th>\n",
       "      <td>000429</td>\n",
       "      <td>SHE</td>\n",
       "      <td>Stock</td>\n",
       "      <td>CNY</td>\n",
       "      <td>2007-01-04</td>\n",
       "      <td>2022-09-28</td>\n",
       "    </tr>\n",
       "    <tr>\n",
       "      <th>99</th>\n",
       "      <td>000430</td>\n",
       "      <td>SHE</td>\n",
       "      <td>Stock</td>\n",
       "      <td>CNY</td>\n",
       "      <td>2007-08-30</td>\n",
       "      <td>2022-09-28</td>\n",
       "    </tr>\n",
       "  </tbody>\n",
       "</table>\n",
       "<p>100 rows × 6 columns</p>\n",
       "</div>"
      ],
      "text/plain": [
       "    ticker exchange asset_type price_currency  start_date    end_date\n",
       "0   000001      SHE      Stock            CNY  2007-01-04  2022-09-28\n",
       "1   000002      SHE      Stock            CNY  2007-01-04  2022-09-28\n",
       "2   000004      SHE      Stock            CNY  2007-08-31  2022-09-28\n",
       "3   000005      SHE      Stock            CNY  2007-08-31  2022-09-28\n",
       "4   000006      SHE      Stock            CNY  2007-01-04  2022-09-28\n",
       "..     ...      ...        ...            ...         ...         ...\n",
       "95  000425      SHE      Stock            CNY  2007-01-04  2022-09-28\n",
       "96  000426      SHE      Stock            CNY  2007-08-30  2022-09-28\n",
       "97  000428      SHE      Stock            CNY  2007-08-30  2022-09-28\n",
       "98  000429      SHE      Stock            CNY  2007-01-04  2022-09-28\n",
       "99  000430      SHE      Stock            CNY  2007-08-30  2022-09-28\n",
       "\n",
       "[100 rows x 6 columns]"
      ]
     },
     "execution_count": 7,
     "metadata": {},
     "output_type": "execute_result"
    }
   ],
   "source": [
    "query = 'select * from assets_tiingo limit 100'\n",
    "sql.select_query(query)"
   ]
  },
  {
   "cell_type": "code",
   "execution_count": null,
   "id": "75e05c2b",
   "metadata": {},
   "outputs": [],
   "source": []
  },
  {
   "cell_type": "code",
   "execution_count": 9,
   "id": "f569f8da",
   "metadata": {},
   "outputs": [],
   "source": [
    "URL_BASE = 'https://www.alphavantage.co/query?function='"
   ]
  },
  {
   "cell_type": "code",
   "execution_count": 10,
   "id": "d06c98d2",
   "metadata": {},
   "outputs": [],
   "source": [
    "symbol = 'AMZN'"
   ]
  },
  {
   "cell_type": "code",
   "execution_count": 34,
   "id": "65ddac3e",
   "metadata": {},
   "outputs": [
    {
     "data": {
      "text/plain": [
       "'BALANCE_SHEET'"
      ]
     },
     "execution_count": 34,
     "metadata": {},
     "output_type": "execute_result"
    }
   ],
   "source": [
    "\"BALANCE_SHEET\""
   ]
  },
  {
   "cell_type": "code",
   "execution_count": 20,
   "id": "2a37758b",
   "metadata": {},
   "outputs": [],
   "source": [
    "url = '{URL_BASE}INCOME_STATEMENT&symbol={symbol}&apikey={api_key}'"
   ]
  },
  {
   "cell_type": "code",
   "execution_count": 21,
   "id": "5c2e67f7",
   "metadata": {},
   "outputs": [],
   "source": [
    "scraper = etl_alpha_api.AlphaScraper()"
   ]
  },
  {
   "cell_type": "code",
   "execution_count": 22,
   "id": "091b55a6",
   "metadata": {},
   "outputs": [
    {
     "name": "stdout",
     "output_type": "stream",
     "text": [
      "Remaining api requests: 74\n"
     ]
    }
   ],
   "source": [
    "download = scraper.hit_api(url, symbol=symbol)\n",
    "data_json = download.json()"
   ]
  },
  {
   "cell_type": "code",
   "execution_count": 23,
   "id": "9b0d2cba",
   "metadata": {},
   "outputs": [
    {
     "data": {
      "text/plain": [
       "dict_keys(['symbol', 'annualReports', 'quarterlyReports'])"
      ]
     },
     "execution_count": 23,
     "metadata": {},
     "output_type": "execute_result"
    }
   ],
   "source": [
    "data_json.keys()"
   ]
  },
  {
   "cell_type": "code",
   "execution_count": 24,
   "id": "f47d86b6",
   "metadata": {},
   "outputs": [
    {
     "data": {
      "text/plain": [
       "[{'fiscalDateEnding': '2021-12-31',\n",
       "  'reportedCurrency': 'USD',\n",
       "  'grossProfit': '126928000000',\n",
       "  'totalRevenue': '467958000000',\n",
       "  'costOfRevenue': '341030000000',\n",
       "  'costofGoodsAndServicesSold': '272344000000',\n",
       "  'operatingIncome': '24879000000',\n",
       "  'sellingGeneralAndAdministrative': '58274000000',\n",
       "  'researchAndDevelopment': '56052000000',\n",
       "  'operatingExpenses': '69686000000',\n",
       "  'investmentIncomeNet': '448000000',\n",
       "  'netInterestIncome': '-1809000000',\n",
       "  'interestIncome': '448000000',\n",
       "  'interestExpense': '1809000000',\n",
       "  'nonInterestIncome': '469767000000',\n",
       "  'otherNonOperatingIncome': '14633000000',\n",
       "  'depreciation': '22900000000',\n",
       "  'depreciationAndAmortization': '10412000000',\n",
       "  'incomeBeforeTax': '38164000000',\n",
       "  'incomeTaxExpense': '4800000000',\n",
       "  'interestAndDebtExpense': '1809000000',\n",
       "  'netIncomeFromContinuingOperations': '33355000000',\n",
       "  'comprehensiveIncomeNetOfTax': '32168000000',\n",
       "  'ebit': '39973000000',\n",
       "  'ebitda': '50385000000',\n",
       "  'netIncome': '33364000000'},\n",
       " {'fiscalDateEnding': '2020-12-31',\n",
       "  'reportedCurrency': 'USD',\n",
       "  'grossProfit': '102560000000',\n",
       "  'totalRevenue': '384452000000',\n",
       "  'costOfRevenue': '281892000000',\n",
       "  'costofGoodsAndServicesSold': '233307000000',\n",
       "  'operatingIncome': '22899000000',\n",
       "  'sellingGeneralAndAdministrative': '39576000000',\n",
       "  'researchAndDevelopment': '42740000000',\n",
       "  'operatingExpenses': '49985000000',\n",
       "  'investmentIncomeNet': '555000000',\n",
       "  'netInterestIncome': '-1647000000',\n",
       "  'interestIncome': '555000000',\n",
       "  'interestExpense': '1647000000',\n",
       "  'nonInterestIncome': '386099000000',\n",
       "  'otherNonOperatingIncome': '2371000000',\n",
       "  'depreciation': '16200000000',\n",
       "  'depreciationAndAmortization': '9009000000',\n",
       "  'incomeBeforeTax': '24231000000',\n",
       "  'incomeTaxExpense': '2900000000',\n",
       "  'interestAndDebtExpense': '1647000000',\n",
       "  'netIncomeFromContinuingOperations': '21331000000',\n",
       "  'comprehensiveIncomeNetOfTax': '22137000000',\n",
       "  'ebit': '25878000000',\n",
       "  'ebitda': '34887000000',\n",
       "  'netIncome': '21331000000'},\n",
       " {'fiscalDateEnding': '2019-12-31',\n",
       "  'reportedCurrency': 'USD',\n",
       "  'grossProfit': '67626000000',\n",
       "  'totalRevenue': '278902000000',\n",
       "  'costOfRevenue': '211276000000',\n",
       "  'costofGoodsAndServicesSold': '165536000000',\n",
       "  'operatingIncome': '14541000000',\n",
       "  'sellingGeneralAndAdministrative': '35081000000',\n",
       "  'researchAndDevelopment': '35931000000',\n",
       "  'operatingExpenses': '46941000000',\n",
       "  'investmentIncomeNet': '832000000',\n",
       "  'netInterestIncome': '-1600000000',\n",
       "  'interestIncome': '832000000',\n",
       "  'interestExpense': '1600000000',\n",
       "  'nonInterestIncome': '280502000000',\n",
       "  'otherNonOperatingIncome': '203000000',\n",
       "  'depreciation': '15100000000',\n",
       "  'depreciationAndAmortization': '10659000000',\n",
       "  'incomeBeforeTax': '13988000000',\n",
       "  'incomeTaxExpense': '2400000000',\n",
       "  'interestAndDebtExpense': '1600000000',\n",
       "  'netIncomeFromContinuingOperations': '11588000000',\n",
       "  'comprehensiveIncomeNetOfTax': '11637000000',\n",
       "  'ebit': '15588000000',\n",
       "  'ebitda': '26247000000',\n",
       "  'netIncome': '11588000000'},\n",
       " {'fiscalDateEnding': '2018-12-31',\n",
       "  'reportedCurrency': 'USD',\n",
       "  'grossProfit': '65283000000',\n",
       "  'totalRevenue': '231264000000',\n",
       "  'costOfRevenue': '165981000000',\n",
       "  'costofGoodsAndServicesSold': '139156000000',\n",
       "  'operatingIncome': '12421000000',\n",
       "  'sellingGeneralAndAdministrative': '26350000000',\n",
       "  'researchAndDevelopment': '28837000000',\n",
       "  'operatingExpenses': '27999000000',\n",
       "  'investmentIncomeNet': '440000000',\n",
       "  'netInterestIncome': '-1417000000',\n",
       "  'interestIncome': '440000000',\n",
       "  'interestExpense': '1417000000',\n",
       "  'nonInterestIncome': '232681000000',\n",
       "  'otherNonOperatingIncome': '-183000000',\n",
       "  'depreciation': '12138000000',\n",
       "  'depreciationAndAmortization': '475000000',\n",
       "  'incomeBeforeTax': '11270000000',\n",
       "  'incomeTaxExpense': '1197000000',\n",
       "  'interestAndDebtExpense': '1417000000',\n",
       "  'netIncomeFromContinuingOperations': '10073000000',\n",
       "  'comprehensiveIncomeNetOfTax': '9526000000',\n",
       "  'ebit': '12687000000',\n",
       "  'ebitda': '13162000000',\n",
       "  'netIncome': '10073000000'},\n",
       " {'fiscalDateEnding': '2017-12-31',\n",
       "  'reportedCurrency': 'USD',\n",
       "  'grossProfit': '51222000000',\n",
       "  'totalRevenue': '177265000000',\n",
       "  'costOfRevenue': '126043000000',\n",
       "  'costofGoodsAndServicesSold': '111934000000',\n",
       "  'operatingIncome': '4106000000',\n",
       "  'sellingGeneralAndAdministrative': '13743000000',\n",
       "  'researchAndDevelopment': '22620000000',\n",
       "  'operatingExpenses': '14949000000',\n",
       "  'investmentIncomeNet': '202000000',\n",
       "  'netInterestIncome': '-848000000',\n",
       "  'interestIncome': '202000000',\n",
       "  'interestExpense': '848000000',\n",
       "  'nonInterestIncome': '247000000',\n",
       "  'otherNonOperatingIncome': '346000000',\n",
       "  'depreciation': '8800000000',\n",
       "  'depreciationAndAmortization': '366000000',\n",
       "  'incomeBeforeTax': '3802000000',\n",
       "  'incomeTaxExpense': '769000000',\n",
       "  'interestAndDebtExpense': '848000000',\n",
       "  'netIncomeFromContinuingOperations': '3033000000',\n",
       "  'comprehensiveIncomeNetOfTax': '3534000000',\n",
       "  'ebit': '4650000000',\n",
       "  'ebitda': '5016000000',\n",
       "  'netIncome': '3033000000'}]"
      ]
     },
     "execution_count": 24,
     "metadata": {},
     "output_type": "execute_result"
    }
   ],
   "source": [
    "data_json['annualReports']"
   ]
  },
  {
   "cell_type": "code",
   "execution_count": 29,
   "id": "0f7137d4",
   "metadata": {},
   "outputs": [],
   "source": [
    "def f(s: str, **kwargs):\n",
    "    print(kwargs)\n",
    "    print(s.format(**kwargs))"
   ]
  },
  {
   "cell_type": "code",
   "execution_count": 30,
   "id": "aabc6a4f",
   "metadata": {},
   "outputs": [],
   "source": [
    "my_s = \"Mi perro {perro} se comió al gato {gato}\""
   ]
  },
  {
   "cell_type": "code",
   "execution_count": 31,
   "id": "5faf316b",
   "metadata": {},
   "outputs": [
    {
     "data": {
      "text/plain": [
       "'Mi perro {perro} se comió al gato {gato}'"
      ]
     },
     "execution_count": 31,
     "metadata": {},
     "output_type": "execute_result"
    }
   ],
   "source": [
    "my_s"
   ]
  },
  {
   "cell_type": "code",
   "execution_count": 32,
   "id": "dd04f645",
   "metadata": {},
   "outputs": [
    {
     "name": "stdout",
     "output_type": "stream",
     "text": [
      "{'perro': 'Rayo', 'gato': 'Nermal'}\n",
      "Mi perro Rayo se comió al gato Nermal\n"
     ]
    }
   ],
   "source": [
    "f(my_s, perro='Rayo', gato='Nermal')"
   ]
  },
  {
   "cell_type": "code",
   "execution_count": 33,
   "id": "15b2767b",
   "metadata": {},
   "outputs": [
    {
     "data": {
      "text/plain": [
       "'Mi perro Toronja se comió al gato Garfield'"
      ]
     },
     "execution_count": 33,
     "metadata": {},
     "output_type": "execute_result"
    }
   ],
   "source": [
    "my_s.format(perro='Toronja', gato='Garfield')"
   ]
  },
  {
   "cell_type": "code",
   "execution_count": null,
   "id": "1322993a",
   "metadata": {},
   "outputs": [],
   "source": []
  }
 ],
 "metadata": {
  "kernelspec": {
   "display_name": "Python 3.9.9 ('folio')",
   "language": "python",
   "name": "python3"
  },
  "language_info": {
   "codemirror_mode": {
    "name": "ipython",
    "version": 3
   },
   "file_extension": ".py",
   "mimetype": "text/x-python",
   "name": "python",
   "nbconvert_exporter": "python",
   "pygments_lexer": "ipython3",
   "version": "3.9.9"
  },
  "vscode": {
   "interpreter": {
    "hash": "f2bd02bd6104e8c93478263f8f264ce69d4d01bccd31e376e8e839b5885da85a"
   }
  }
 },
 "nbformat": 4,
 "nbformat_minor": 5
}
