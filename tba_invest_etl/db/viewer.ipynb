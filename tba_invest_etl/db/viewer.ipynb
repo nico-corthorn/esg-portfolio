{
 "cells": [
  {
   "cell_type": "code",
   "execution_count": 1,
   "metadata": {},
   "outputs": [],
   "source": [
    "import os\n",
    "import pandas as pd\n",
    "import itertools\n",
    "import csv\n",
    "from os import listdir\n",
    "from os.path import isfile, join\n",
    "from tba_invest_etl.utils import sql_manager\n",
    "\n",
    "pd.set_option('display.max_rows', 100)\n",
    "pd.set_option('display.max_columns', 100)"
   ]
  },
  {
   "cell_type": "code",
   "execution_count": 2,
   "metadata": {},
   "outputs": [],
   "source": [
    "def get_table_schema(table_name, sql):\n",
    "\n",
    "    table_name = \"prices_wrds\"\n",
    "\n",
    "    q = \"\"\"                              \n",
    "    SELECT column_name, data_type, is_nullable\n",
    "    FROM information_schema.columns\n",
    "    WHERE table_name = %s;\n",
    "    \"\"\"\n",
    "\n",
    "    cur = sql.cursor\n",
    "    cur.execute(q, (table_name,))\n",
    "    table_schema_list = cur.fetchall()\n",
    "    table_schema = pd.DataFrame(table_schema_list, columns=[\"column_name\", \"data_type\", \"is_nullable\"])\n",
    "\n",
    "    return table_schema\n",
    "    \n",
    "def convert_integer(df, table_schema):\n",
    "    col_int = table_schema.loc[table_schema.data_type == 'integer']['column_name']\n",
    "    for col in col_int:\n",
    "        df.loc[~df[col].isnull(), col] = df.loc[~df[col].isnull(), col].astype(float)\n",
    "\n",
    "def convert_numeric(df, table_schema):\n",
    "    col_numeric = table_schema.loc[table_schema.data_type.isin(['numeric', 'real'])]['column_name']\n",
    "    for col in col_numeric:\n",
    "        data = df.loc[~df[col].isnull(), col]\n",
    "        try:\n",
    "            data = data.str.replace(',', '')\n",
    "        except:\n",
    "            pass\n",
    "        df.loc[~df[col].isnull(), col] = data.astype(float)\n",
    "\n",
    "def convert_date_columns(df):\n",
    "    col_dt = [col for col in df.columns if col.endswith('dt')]\n",
    "    for col in col_dt:\n",
    "        df.loc[~df[col].isnull(), col] = df.loc[~df[col].isnull(), col].astype(str).str[:8]"
   ]
  },
  {
   "cell_type": "code",
   "execution_count": 3,
   "metadata": {},
   "outputs": [],
   "source": [
    "path = \"data/crsp_prices.csv\"\n",
    "#path = \"data/fin_ratios.csv\""
   ]
  },
  {
   "cell_type": "code",
   "execution_count": 4,
   "metadata": {},
   "outputs": [],
   "source": [
    "def row_count(path):\n",
    "    with open(path) as f:\n",
    "        for i, l in enumerate(f):\n",
    "            pass\n",
    "    return i"
   ]
  },
  {
   "cell_type": "code",
   "execution_count": 5,
   "metadata": {},
   "outputs": [
    {
     "data": {
      "text/plain": [
       "101150729"
      ]
     },
     "execution_count": 5,
     "metadata": {},
     "output_type": "execute_result"
    }
   ],
   "source": [
    "#n_rows = row_count(path)\n",
    "n_rows = 101150729\n",
    "n_rows"
   ]
  },
  {
   "cell_type": "code",
   "execution_count": 146,
   "metadata": {},
   "outputs": [
    {
     "data": {
      "text/plain": [
       "['PERMNO',\n",
       " 'PrimaryExch',\n",
       " 'SecurityNm',\n",
       " 'Ticker',\n",
       " 'PERMCO',\n",
       " 'IssuerNm',\n",
       " 'YYYYMMDD',\n",
       " 'DlyCalDt',\n",
       " 'DlyDelFlg',\n",
       " 'DlyPrc',\n",
       " 'DlyPrcFlg',\n",
       " 'DlyCap',\n",
       " 'DlyCapFlg',\n",
       " 'DlyPrevPrc',\n",
       " 'DlyPrevPrcFlg',\n",
       " 'DlyPrevDt',\n",
       " 'DlyPrevCap',\n",
       " 'DlyPrevCapFlg',\n",
       " 'DlyRet',\n",
       " 'DlyRetx',\n",
       " 'DlyRetI',\n",
       " 'DlyRetMissFlg',\n",
       " 'DlyRetDurFlg',\n",
       " 'DlyOrdDivAmt',\n",
       " 'DlyNonOrdDivAmt',\n",
       " 'DlyFacPrc',\n",
       " 'DlyDistRetFlg',\n",
       " 'DlyVol',\n",
       " 'DlyClose',\n",
       " 'DlyLow',\n",
       " 'DlyHigh',\n",
       " 'DlyBid',\n",
       " 'DlyAsk',\n",
       " 'DlyOpen',\n",
       " 'DlyNumTrd',\n",
       " 'DlyMMCnt',\n",
       " 'DlyPrcVol',\n",
       " 'ShrStartDt',\n",
       " 'ShrEndDt',\n",
       " 'ShrOut',\n",
       " 'ShrSource',\n",
       " 'ShrFacType',\n",
       " 'ShrAdrFlg',\n",
       " 'DisExDt',\n",
       " 'DisSeqNbr',\n",
       " 'DisOrdinaryFlg',\n",
       " 'DisType',\n",
       " 'DisFreqType',\n",
       " 'DisPaymentType',\n",
       " 'DisDetailType',\n",
       " 'DisTaxType',\n",
       " 'DisOrigCurType',\n",
       " 'DisDivAmt',\n",
       " 'DisFacPr',\n",
       " 'DisFacShr',\n",
       " 'DisDeclareDt',\n",
       " 'DisRecordDt',\n",
       " 'DisPayDt',\n",
       " 'DisPERMNO',\n",
       " 'DisPERMCO']"
      ]
     },
     "execution_count": 146,
     "metadata": {},
     "output_type": "execute_result"
    }
   ],
   "source": [
    "with open(path) as f:\n",
    "    cols = next(itertools.islice(csv.reader(f), 0, 1))\n",
    "cols"
   ]
  },
  {
   "cell_type": "code",
   "execution_count": 147,
   "metadata": {},
   "outputs": [
    {
     "data": {
      "text/html": [
       "<div>\n",
       "<style scoped>\n",
       "    .dataframe tbody tr th:only-of-type {\n",
       "        vertical-align: middle;\n",
       "    }\n",
       "\n",
       "    .dataframe tbody tr th {\n",
       "        vertical-align: top;\n",
       "    }\n",
       "\n",
       "    .dataframe thead th {\n",
       "        text-align: right;\n",
       "    }\n",
       "</style>\n",
       "<table border=\"1\" class=\"dataframe\">\n",
       "  <thead>\n",
       "    <tr style=\"text-align: right;\">\n",
       "      <th></th>\n",
       "      <th>column_name</th>\n",
       "      <th>data_type</th>\n",
       "      <th>is_nullable</th>\n",
       "    </tr>\n",
       "  </thead>\n",
       "  <tbody>\n",
       "    <tr>\n",
       "      <th>0</th>\n",
       "      <td>permno</td>\n",
       "      <td>character varying</td>\n",
       "      <td>YES</td>\n",
       "    </tr>\n",
       "    <tr>\n",
       "      <th>1</th>\n",
       "      <td>primaryexch</td>\n",
       "      <td>character varying</td>\n",
       "      <td>YES</td>\n",
       "    </tr>\n",
       "    <tr>\n",
       "      <th>2</th>\n",
       "      <td>securitynm</td>\n",
       "      <td>text</td>\n",
       "      <td>YES</td>\n",
       "    </tr>\n",
       "    <tr>\n",
       "      <th>3</th>\n",
       "      <td>ticker</td>\n",
       "      <td>character varying</td>\n",
       "      <td>YES</td>\n",
       "    </tr>\n",
       "    <tr>\n",
       "      <th>4</th>\n",
       "      <td>permco</td>\n",
       "      <td>character varying</td>\n",
       "      <td>YES</td>\n",
       "    </tr>\n",
       "  </tbody>\n",
       "</table>\n",
       "</div>"
      ],
      "text/plain": [
       "   column_name          data_type is_nullable\n",
       "0       permno  character varying         YES\n",
       "1  primaryexch  character varying         YES\n",
       "2   securitynm               text         YES\n",
       "3       ticker  character varying         YES\n",
       "4       permco  character varying         YES"
      ]
     },
     "execution_count": 147,
     "metadata": {},
     "output_type": "execute_result"
    }
   ],
   "source": [
    "sql = sql_manager.ManagerSQL()\n",
    "table_name = \"prices_wrds\"\n",
    "table_schema = get_table_schema(table_name, sql)\n",
    "table_schema.head()"
   ]
  },
  {
   "cell_type": "code",
   "execution_count": 148,
   "metadata": {},
   "outputs": [
    {
     "data": {
      "text/plain": [
       "character varying    35\n",
       "numeric              14\n",
       "real                  9\n",
       "text                  2\n",
       "Name: data_type, dtype: int64"
      ]
     },
     "execution_count": 148,
     "metadata": {},
     "output_type": "execute_result"
    }
   ],
   "source": [
    "table_schema.data_type.value_counts()"
   ]
  },
  {
   "cell_type": "code",
   "execution_count": 6,
   "metadata": {},
   "outputs": [],
   "source": [
    "local_folder = \"data/crsp_prices\"\n",
    "filename = \"crsp_prices_{}.csv\""
   ]
  },
  {
   "cell_type": "code",
   "execution_count": 150,
   "metadata": {},
   "outputs": [
    {
     "name": "stderr",
     "output_type": "stream",
     "text": [
      "/Users/nace/local/conda/envs/folio/lib/python3.9/site-packages/IPython/core/interactiveshell.py:3191: DtypeWarning: Columns (21,41,45,46,47,48,49,50,51) have mixed types.Specify dtype option on import or set low_memory=False.\n",
      "  if await self.run_code(code, result, async_=asy):\n"
     ]
    },
    {
     "name": "stdout",
     "output_type": "stream",
     "text": [
      "0\n",
      "000\n"
     ]
    },
    {
     "name": "stderr",
     "output_type": "stream",
     "text": [
      "/Users/nace/local/conda/envs/folio/lib/python3.9/site-packages/IPython/core/interactiveshell.py:3191: DtypeWarning: Columns (21,30,41) have mixed types.Specify dtype option on import or set low_memory=False.\n",
      "  if await self.run_code(code, result, async_=asy):\n"
     ]
    },
    {
     "name": "stdout",
     "output_type": "stream",
     "text": [
      "1\n",
      "001\n"
     ]
    },
    {
     "name": "stderr",
     "output_type": "stream",
     "text": [
      "/Users/nace/local/conda/envs/folio/lib/python3.9/site-packages/IPython/core/interactiveshell.py:3191: DtypeWarning: Columns (41,45,46,47,48,49,50,51) have mixed types.Specify dtype option on import or set low_memory=False.\n",
      "  if await self.run_code(code, result, async_=asy):\n"
     ]
    },
    {
     "name": "stdout",
     "output_type": "stream",
     "text": [
      "2\n",
      "002\n"
     ]
    },
    {
     "name": "stderr",
     "output_type": "stream",
     "text": [
      "/Users/nace/local/conda/envs/folio/lib/python3.9/site-packages/IPython/core/interactiveshell.py:3191: DtypeWarning: Columns (9,13,28,29,30,31,32,33,41,47,51) have mixed types.Specify dtype option on import or set low_memory=False.\n",
      "  if await self.run_code(code, result, async_=asy):\n"
     ]
    },
    {
     "name": "stdout",
     "output_type": "stream",
     "text": [
      "3\n",
      "003\n"
     ]
    },
    {
     "name": "stderr",
     "output_type": "stream",
     "text": [
      "/Users/nace/local/conda/envs/folio/lib/python3.9/site-packages/IPython/core/interactiveshell.py:3191: DtypeWarning: Columns (21,41,47,51) have mixed types.Specify dtype option on import or set low_memory=False.\n",
      "  if await self.run_code(code, result, async_=asy):\n"
     ]
    },
    {
     "name": "stdout",
     "output_type": "stream",
     "text": [
      "4\n",
      "004\n"
     ]
    },
    {
     "name": "stderr",
     "output_type": "stream",
     "text": [
      "/Users/nace/local/conda/envs/folio/lib/python3.9/site-packages/IPython/core/interactiveshell.py:3191: DtypeWarning: Columns (3,21,41,45,46,47,48,49,50,51) have mixed types.Specify dtype option on import or set low_memory=False.\n",
      "  if await self.run_code(code, result, async_=asy):\n"
     ]
    },
    {
     "name": "stdout",
     "output_type": "stream",
     "text": [
      "5\n",
      "005\n"
     ]
    },
    {
     "name": "stderr",
     "output_type": "stream",
     "text": [
      "/Users/nace/local/conda/envs/folio/lib/python3.9/site-packages/IPython/core/interactiveshell.py:3191: DtypeWarning: Columns (41,47,51) have mixed types.Specify dtype option on import or set low_memory=False.\n",
      "  if await self.run_code(code, result, async_=asy):\n"
     ]
    },
    {
     "name": "stdout",
     "output_type": "stream",
     "text": [
      "6\n",
      "006\n"
     ]
    },
    {
     "name": "stderr",
     "output_type": "stream",
     "text": [
      "/Users/nace/local/conda/envs/folio/lib/python3.9/site-packages/IPython/core/interactiveshell.py:3191: DtypeWarning: Columns (9,13,21,28,29,30,31,32,33,41,47,51) have mixed types.Specify dtype option on import or set low_memory=False.\n",
      "  if await self.run_code(code, result, async_=asy):\n"
     ]
    },
    {
     "name": "stdout",
     "output_type": "stream",
     "text": [
      "7\n",
      "007\n"
     ]
    },
    {
     "name": "stderr",
     "output_type": "stream",
     "text": [
      "/Users/nace/local/conda/envs/folio/lib/python3.9/site-packages/IPython/core/interactiveshell.py:3191: DtypeWarning: Columns (41) have mixed types.Specify dtype option on import or set low_memory=False.\n",
      "  if await self.run_code(code, result, async_=asy):\n"
     ]
    },
    {
     "name": "stdout",
     "output_type": "stream",
     "text": [
      "8\n",
      "008\n",
      "9\n",
      "009\n",
      "10\n",
      "010\n",
      "11\n",
      "011\n"
     ]
    },
    {
     "name": "stderr",
     "output_type": "stream",
     "text": [
      "/Users/nace/local/conda/envs/folio/lib/python3.9/site-packages/IPython/core/interactiveshell.py:3191: DtypeWarning: Columns (9,13,28,29,30,31,32,33,41) have mixed types.Specify dtype option on import or set low_memory=False.\n",
      "  if await self.run_code(code, result, async_=asy):\n"
     ]
    },
    {
     "name": "stdout",
     "output_type": "stream",
     "text": [
      "12\n",
      "012\n",
      "13\n",
      "013\n"
     ]
    },
    {
     "name": "stderr",
     "output_type": "stream",
     "text": [
      "/Users/nace/local/conda/envs/folio/lib/python3.9/site-packages/IPython/core/interactiveshell.py:3191: DtypeWarning: Columns (21,41) have mixed types.Specify dtype option on import or set low_memory=False.\n",
      "  if await self.run_code(code, result, async_=asy):\n"
     ]
    },
    {
     "name": "stdout",
     "output_type": "stream",
     "text": [
      "14\n",
      "014\n",
      "15\n",
      "015\n"
     ]
    },
    {
     "name": "stderr",
     "output_type": "stream",
     "text": [
      "/Users/nace/local/conda/envs/folio/lib/python3.9/site-packages/IPython/core/interactiveshell.py:3191: DtypeWarning: Columns (30,41) have mixed types.Specify dtype option on import or set low_memory=False.\n",
      "  if await self.run_code(code, result, async_=asy):\n"
     ]
    },
    {
     "name": "stdout",
     "output_type": "stream",
     "text": [
      "16\n",
      "016\n"
     ]
    },
    {
     "name": "stderr",
     "output_type": "stream",
     "text": [
      "/Users/nace/local/conda/envs/folio/lib/python3.9/site-packages/IPython/core/interactiveshell.py:3191: DtypeWarning: Columns (9,13,21,28,29,30,31,32,33,41) have mixed types.Specify dtype option on import or set low_memory=False.\n",
      "  if await self.run_code(code, result, async_=asy):\n"
     ]
    },
    {
     "name": "stdout",
     "output_type": "stream",
     "text": [
      "17\n",
      "017\n",
      "18\n",
      "018\n",
      "19\n",
      "019\n"
     ]
    },
    {
     "name": "stderr",
     "output_type": "stream",
     "text": [
      "/Users/nace/local/conda/envs/folio/lib/python3.9/site-packages/IPython/core/interactiveshell.py:3191: DtypeWarning: Columns (21,33,41) have mixed types.Specify dtype option on import or set low_memory=False.\n",
      "  if await self.run_code(code, result, async_=asy):\n"
     ]
    },
    {
     "name": "stdout",
     "output_type": "stream",
     "text": [
      "20\n",
      "020\n",
      "21\n",
      "021\n"
     ]
    },
    {
     "name": "stderr",
     "output_type": "stream",
     "text": [
      "/Users/nace/local/conda/envs/folio/lib/python3.9/site-packages/IPython/core/interactiveshell.py:3191: DtypeWarning: Columns (3,21,30,41) have mixed types.Specify dtype option on import or set low_memory=False.\n",
      "  if await self.run_code(code, result, async_=asy):\n"
     ]
    },
    {
     "name": "stdout",
     "output_type": "stream",
     "text": [
      "22\n",
      "022\n",
      "23\n",
      "023\n",
      "24\n",
      "024\n",
      "25\n",
      "025\n",
      "26\n",
      "026\n",
      "27\n",
      "027\n"
     ]
    },
    {
     "name": "stderr",
     "output_type": "stream",
     "text": [
      "/Users/nace/local/conda/envs/folio/lib/python3.9/site-packages/IPython/core/interactiveshell.py:3191: DtypeWarning: Columns (21,30,41,45,46,47,48,49,50,51) have mixed types.Specify dtype option on import or set low_memory=False.\n",
      "  if await self.run_code(code, result, async_=asy):\n"
     ]
    },
    {
     "name": "stdout",
     "output_type": "stream",
     "text": [
      "28\n",
      "028\n",
      "29\n",
      "029\n",
      "30\n",
      "030\n",
      "31\n",
      "031\n",
      "32\n",
      "032\n"
     ]
    },
    {
     "name": "stderr",
     "output_type": "stream",
     "text": [
      "/Users/nace/local/conda/envs/folio/lib/python3.9/site-packages/IPython/core/interactiveshell.py:3191: DtypeWarning: Columns (21) have mixed types.Specify dtype option on import or set low_memory=False.\n",
      "  if await self.run_code(code, result, async_=asy):\n"
     ]
    },
    {
     "name": "stdout",
     "output_type": "stream",
     "text": [
      "33\n",
      "033\n",
      "34\n",
      "034\n",
      "35\n",
      "035\n",
      "36\n",
      "036\n",
      "37\n",
      "037\n",
      "38\n",
      "038\n",
      "39\n",
      "039\n"
     ]
    },
    {
     "name": "stderr",
     "output_type": "stream",
     "text": [
      "/Users/nace/local/conda/envs/folio/lib/python3.9/site-packages/IPython/core/interactiveshell.py:3191: DtypeWarning: Columns (9,13,21,24,28,29,30,31,32,33,41) have mixed types.Specify dtype option on import or set low_memory=False.\n",
      "  if await self.run_code(code, result, async_=asy):\n"
     ]
    },
    {
     "name": "stdout",
     "output_type": "stream",
     "text": [
      "40\n",
      "040\n",
      "41\n",
      "041\n",
      "42\n",
      "042\n",
      "43\n",
      "043\n"
     ]
    },
    {
     "name": "stderr",
     "output_type": "stream",
     "text": [
      "/Users/nace/local/conda/envs/folio/lib/python3.9/site-packages/IPython/core/interactiveshell.py:3191: DtypeWarning: Columns (9,13,32,41) have mixed types.Specify dtype option on import or set low_memory=False.\n",
      "  if await self.run_code(code, result, async_=asy):\n"
     ]
    },
    {
     "name": "stdout",
     "output_type": "stream",
     "text": [
      "44\n",
      "044\n",
      "45\n",
      "045\n",
      "46\n",
      "046\n",
      "47\n",
      "047\n",
      "48\n",
      "048\n",
      "49\n",
      "049\n",
      "50\n",
      "050\n",
      "51\n",
      "051\n",
      "52\n",
      "052\n",
      "53\n",
      "053\n",
      "54\n",
      "054\n",
      "55\n",
      "055\n",
      "56\n",
      "056\n",
      "57\n",
      "057\n",
      "58\n",
      "058\n",
      "59\n",
      "059\n",
      "60\n",
      "060\n",
      "61\n",
      "061\n",
      "62\n",
      "062\n",
      "63\n",
      "063\n",
      "64\n",
      "064\n",
      "65\n",
      "065\n",
      "66\n",
      "066\n"
     ]
    },
    {
     "name": "stderr",
     "output_type": "stream",
     "text": [
      "/Users/nace/local/conda/envs/folio/lib/python3.9/site-packages/IPython/core/interactiveshell.py:3191: DtypeWarning: Columns (9,13,21,28,29,30,31,32,41,47,51) have mixed types.Specify dtype option on import or set low_memory=False.\n",
      "  if await self.run_code(code, result, async_=asy):\n"
     ]
    },
    {
     "name": "stdout",
     "output_type": "stream",
     "text": [
      "67\n",
      "067\n",
      "68\n",
      "068\n",
      "69\n",
      "069\n",
      "70\n",
      "070\n",
      "71\n",
      "071\n",
      "72\n",
      "072\n",
      "73\n",
      "073\n",
      "74\n",
      "074\n",
      "75\n",
      "075\n",
      "76\n",
      "076\n",
      "77\n",
      "077\n"
     ]
    },
    {
     "name": "stderr",
     "output_type": "stream",
     "text": [
      "/Users/nace/local/conda/envs/folio/lib/python3.9/site-packages/IPython/core/interactiveshell.py:3191: DtypeWarning: Columns (47,51) have mixed types.Specify dtype option on import or set low_memory=False.\n",
      "  if await self.run_code(code, result, async_=asy):\n"
     ]
    },
    {
     "name": "stdout",
     "output_type": "stream",
     "text": [
      "78\n",
      "078\n"
     ]
    },
    {
     "name": "stderr",
     "output_type": "stream",
     "text": [
      "/Users/nace/local/conda/envs/folio/lib/python3.9/site-packages/IPython/core/interactiveshell.py:3191: DtypeWarning: Columns (9,13,21,28,29,30,31,32,33,41,45,46,47,48,49,50,51) have mixed types.Specify dtype option on import or set low_memory=False.\n",
      "  if await self.run_code(code, result, async_=asy):\n"
     ]
    },
    {
     "name": "stdout",
     "output_type": "stream",
     "text": [
      "79\n",
      "079\n"
     ]
    },
    {
     "name": "stderr",
     "output_type": "stream",
     "text": [
      "/Users/nace/local/conda/envs/folio/lib/python3.9/site-packages/IPython/core/interactiveshell.py:3191: DtypeWarning: Columns (9,11,13,14,16,17,28,29,30,31,32,33,41,45,46,47,48,49,50,51) have mixed types.Specify dtype option on import or set low_memory=False.\n",
      "  if await self.run_code(code, result, async_=asy):\n"
     ]
    },
    {
     "name": "stdout",
     "output_type": "stream",
     "text": [
      "80\n",
      "080\n",
      "81\n",
      "081\n",
      "82\n",
      "082\n"
     ]
    },
    {
     "name": "stderr",
     "output_type": "stream",
     "text": [
      "/Users/nace/local/conda/envs/folio/lib/python3.9/site-packages/IPython/core/interactiveshell.py:3191: DtypeWarning: Columns (9,13,21,24,28,29,30,31,32,33,41,45,46,47,48,49,50,51,52) have mixed types.Specify dtype option on import or set low_memory=False.\n",
      "  if await self.run_code(code, result, async_=asy):\n"
     ]
    },
    {
     "name": "stdout",
     "output_type": "stream",
     "text": [
      "83\n",
      "083\n"
     ]
    },
    {
     "name": "stderr",
     "output_type": "stream",
     "text": [
      "/Users/nace/local/conda/envs/folio/lib/python3.9/site-packages/IPython/core/interactiveshell.py:3191: DtypeWarning: Columns (9,13,28,29,30,31,32,33,41,47) have mixed types.Specify dtype option on import or set low_memory=False.\n",
      "  if await self.run_code(code, result, async_=asy):\n"
     ]
    },
    {
     "name": "stdout",
     "output_type": "stream",
     "text": [
      "84\n",
      "084\n",
      "85\n",
      "085\n",
      "86\n",
      "086\n",
      "87\n",
      "087\n",
      "88\n",
      "088\n",
      "89\n",
      "089\n",
      "90\n",
      "090\n",
      "91\n",
      "091\n",
      "92\n",
      "092\n",
      "93\n",
      "093\n",
      "94\n",
      "094\n",
      "95\n",
      "095\n",
      "96\n",
      "096\n",
      "97\n",
      "097\n",
      "98\n",
      "098\n",
      "99\n",
      "099\n",
      "100\n",
      "100\n",
      "101\n",
      "101\n"
     ]
    }
   ],
   "source": [
    "# Divide csv into smaller csv\n",
    "for i, chunk in enumerate(pd.read_csv(path, chunksize=1000000)):\n",
    "    print(i)\n",
    "    ii = f'00{i}'[-3:]\n",
    "    print(ii)\n",
    "    local_path = os.path.join(local_folder, filename.format(ii))\n",
    "    chunk.columns = [col.lower() for col in chunk.columns]\n",
    "    convert_integer(chunk, table_schema)\n",
    "    convert_numeric(chunk, table_schema)\n",
    "    convert_date_columns(chunk)\n",
    "    chunk.to_csv(local_path, index=False)"
   ]
  },
  {
   "cell_type": "code",
   "execution_count": 110,
   "metadata": {},
   "outputs": [
    {
     "data": {
      "text/plain": [
       "['crsp_prices_0.csv',\n",
       " 'crsp_prices_1.csv',\n",
       " 'crsp_prices_2.csv',\n",
       " 'crsp_prices_3.csv',\n",
       " 'crsp_prices_4.csv']"
      ]
     },
     "execution_count": 110,
     "metadata": {},
     "output_type": "execute_result"
    }
   ],
   "source": [
    "filenames = [f for f in listdir(local_folder) if isfile(join(local_folder, f))]\n",
    "filenames_nbr = [int(filename[12:].replace('.csv','')) for filename in filenames]\n",
    "filenames = [x for _, x in sorted(zip(filenames_nbr, filenames), key=lambda pair: pair[0])]\n",
    "filenames[:5]"
   ]
  },
  {
   "cell_type": "code",
   "execution_count": 118,
   "metadata": {},
   "outputs": [
    {
     "name": "stdout",
     "output_type": "stream",
     "text": [
      "crsp_prices_1.csv\n"
     ]
    },
    {
     "name": "stderr",
     "output_type": "stream",
     "text": [
      "/Users/nace/local/conda/envs/folio/lib/python3.9/site-packages/IPython/core/interactiveshell.py:3251: DtypeWarning: Columns (21,30,41) have mixed types.Specify dtype option on import or set low_memory=False.\n",
      "  exec(code_obj, self.user_global_ns, self.user_ns)\n"
     ]
    },
    {
     "name": "stdout",
     "output_type": "stream",
     "text": [
      "before     PERMNO PrimaryExch                         SecurityNm Ticker  PERMCO  \\\n",
      "0   10259           Q  SIGMA DESIGNS INC; COM NONE; CONS   SIGM    8187   \n",
      "1   10259           Q  SIGMA DESIGNS INC; COM NONE; CONS   SIGM    8187   \n",
      "2   10259           Q  SIGMA DESIGNS INC; COM NONE; CONS   SIGM    8187   \n",
      "3   10259           Q  SIGMA DESIGNS INC; COM NONE; CONS   SIGM    8187   \n",
      "4   10259           Q  SIGMA DESIGNS INC; COM NONE; CONS   SIGM    8187   \n",
      "\n",
      "            IssuerNm  YYYYMMDD  DlyCalDt DlyDelFlg  DlyPrc DlyPrcFlg  \\\n",
      "0  SIGMA DESIGNS INC  20170731  20170731         N    6.50        TR   \n",
      "1  SIGMA DESIGNS INC  20170801  20170801         N    6.55        TR   \n",
      "2  SIGMA DESIGNS INC  20170802  20170802         N    6.50        TR   \n",
      "3  SIGMA DESIGNS INC  20170803  20170803         N    6.25        TR   \n",
      "4  SIGMA DESIGNS INC  20170804  20170804         N    6.25        TR   \n",
      "\n",
      "       DlyCap DlyCapFlg  DlyPrevPrc DlyPrevPrcFlg   DlyPrevDt  DlyPrevCap  \\\n",
      "0  250,217.50        BP        6.50            TR  20170728.0  250,217.50   \n",
      "1  252,142.25        BP        6.50            TR  20170731.0  250,217.50   \n",
      "2  250,217.50        BP        6.55            TR  20170801.0  252,142.25   \n",
      "3  240,593.75        BP        6.50            TR  20170802.0  250,217.50   \n",
      "4  240,593.75        BP        6.25            TR  20170803.0  240,593.75   \n",
      "\n",
      "  DlyPrevCapFlg    DlyRet   DlyRetx  DlyRetI DlyRetMissFlg DlyRetDurFlg  \\\n",
      "0            PB  0.000000  0.000000      0.0           NaN           D3   \n",
      "1            PB  0.007692  0.007692      0.0           NaN           D1   \n",
      "2            PB -0.007634 -0.007634      0.0           NaN           D1   \n",
      "3            PB -0.038462 -0.038462      0.0           NaN           D1   \n",
      "4            PB  0.000000  0.000000      0.0           NaN           D1   \n",
      "\n",
      "   DlyOrdDivAmt  DlyNonOrdDivAmt  DlyFacPrc DlyDistRetFlg    DlyVol  DlyClose  \\\n",
      "0           0.0              0.0        1.0            NO  129017.0      6.50   \n",
      "1           0.0              0.0        1.0            NO  127701.0      6.55   \n",
      "2           0.0              0.0        1.0            NO  123007.0      6.50   \n",
      "3           0.0              0.0        1.0            NO  224073.0      6.25   \n",
      "4           0.0              0.0        1.0            NO  184447.0      6.25   \n",
      "\n",
      "   DlyLow DlyHigh  DlyBid  DlyAsk  DlyOpen  DlyNumTrd  DlyMMCnt   DlyPrcVol  \\\n",
      "0    6.45    6.55    6.50    6.55     6.50      831.0      50.0   838610.50   \n",
      "1    6.45     6.6    6.55    6.60     6.50      900.0      50.0   836441.55   \n",
      "2    6.45     6.6    6.45    6.50     6.50     1062.0      50.0   799545.50   \n",
      "3    6.20     6.5    6.25    6.30     6.45     1657.0      50.0  1400456.25   \n",
      "4    6.15    6.35    6.20    6.25     6.25     1249.0      50.0  1152793.75   \n",
      "\n",
      "   ShrStartDt    ShrEndDt   ShrOut ShrSource ShrFacType ShrAdrFlg  DisExDt  \\\n",
      "0  20170728.0  20170830.0  38495.0       OBS        NaN         N      NaN   \n",
      "1  20170728.0  20170830.0  38495.0       OBS        NaN         N      NaN   \n",
      "2  20170728.0  20170830.0  38495.0       OBS        NaN         N      NaN   \n",
      "3  20170728.0  20170830.0  38495.0       OBS        NaN         N      NaN   \n",
      "4  20170728.0  20170830.0  38495.0       OBS        NaN         N      NaN   \n",
      "\n",
      "   DisSeqNbr DisOrdinaryFlg DisType DisFreqType DisPaymentType DisDetailType  \\\n",
      "0        NaN            NaN     NaN         NaN            NaN           NaN   \n",
      "1        NaN            NaN     NaN         NaN            NaN           NaN   \n",
      "2        NaN            NaN     NaN         NaN            NaN           NaN   \n",
      "3        NaN            NaN     NaN         NaN            NaN           NaN   \n",
      "4        NaN            NaN     NaN         NaN            NaN           NaN   \n",
      "\n",
      "  DisTaxType DisOrigCurType  DisDivAmt  DisFacPr  DisFacShr  DisDeclareDt  \\\n",
      "0        NaN            NaN        NaN       NaN        NaN           NaN   \n",
      "1        NaN            NaN        NaN       NaN        NaN           NaN   \n",
      "2        NaN            NaN        NaN       NaN        NaN           NaN   \n",
      "3        NaN            NaN        NaN       NaN        NaN           NaN   \n",
      "4        NaN            NaN        NaN       NaN        NaN           NaN   \n",
      "\n",
      "   DisRecordDt  DisPayDt  DisPERMNO  DisPERMCO  \n",
      "0          NaN       NaN        NaN        NaN  \n",
      "1          NaN       NaN        NaN        NaN  \n",
      "2          NaN       NaN        NaN        NaN  \n",
      "3          NaN       NaN        NaN        NaN  \n",
      "4          NaN       NaN        NaN        NaN  \n",
      "permno\n",
      "permco\n",
      "dlymmcnt\n",
      "shrout\n",
      "dispermno\n",
      "dispermco\n",
      "dlycap\n",
      "dlyprevprc\n",
      "dlyprevcap\n",
      "dlyorddivamt\n",
      "dlynonorddivamt\n",
      "dlyclose\n",
      "dlylow\n",
      "dlyhigh\n",
      "dlybid\n",
      "dlyask\n",
      "dlyopen\n",
      "dlynumtrd\n",
      "dlyprcvol\n",
      "dlycaldt\n",
      "dlyprevdt\n",
      "shrstartdt\n",
      "shrenddt\n",
      "disexdt\n",
      "disdeclaredt\n",
      "disrecorddt\n",
      "dispaydt\n",
      "after      permno primaryexch                         securitynm ticker  permco  \\\n",
      "0  10259.0           Q  SIGMA DESIGNS INC; COM NONE; CONS   SIGM  8187.0   \n",
      "1  10259.0           Q  SIGMA DESIGNS INC; COM NONE; CONS   SIGM  8187.0   \n",
      "2  10259.0           Q  SIGMA DESIGNS INC; COM NONE; CONS   SIGM  8187.0   \n",
      "3  10259.0           Q  SIGMA DESIGNS INC; COM NONE; CONS   SIGM  8187.0   \n",
      "4  10259.0           Q  SIGMA DESIGNS INC; COM NONE; CONS   SIGM  8187.0   \n",
      "\n",
      "            issuernm  yyyymmdd  dlycaldt dlydelflg  dlyprc dlyprcflg  \\\n",
      "0  SIGMA DESIGNS INC  20170731  20170731         N    6.50        TR   \n",
      "1  SIGMA DESIGNS INC  20170801  20170801         N    6.55        TR   \n",
      "2  SIGMA DESIGNS INC  20170802  20170802         N    6.50        TR   \n",
      "3  SIGMA DESIGNS INC  20170803  20170803         N    6.25        TR   \n",
      "4  SIGMA DESIGNS INC  20170804  20170804         N    6.25        TR   \n",
      "\n",
      "      dlycap dlycapflg  dlyprevprc dlyprevprcflg dlyprevdt dlyprevcap  \\\n",
      "0   250217.5        BP        6.50            TR  20170728   250217.5   \n",
      "1  252142.25        BP        6.50            TR  20170731   250217.5   \n",
      "2   250217.5        BP        6.55            TR  20170801  252142.25   \n",
      "3  240593.75        BP        6.50            TR  20170802   250217.5   \n",
      "4  240593.75        BP        6.25            TR  20170803  240593.75   \n",
      "\n",
      "  dlyprevcapflg    dlyret   dlyretx  dlyreti dlyretmissflg dlyretdurflg  \\\n",
      "0            PB  0.000000  0.000000      0.0           NaN           D3   \n",
      "1            PB  0.007692  0.007692      0.0           NaN           D1   \n",
      "2            PB -0.007634 -0.007634      0.0           NaN           D1   \n",
      "3            PB -0.038462 -0.038462      0.0           NaN           D1   \n",
      "4            PB  0.000000  0.000000      0.0           NaN           D1   \n",
      "\n",
      "   dlyorddivamt  dlynonorddivamt  dlyfacprc dlydistretflg    dlyvol  dlyclose  \\\n",
      "0           0.0              0.0        1.0            NO  129017.0      6.50   \n",
      "1           0.0              0.0        1.0            NO  127701.0      6.55   \n",
      "2           0.0              0.0        1.0            NO  123007.0      6.50   \n",
      "3           0.0              0.0        1.0            NO  224073.0      6.25   \n",
      "4           0.0              0.0        1.0            NO  184447.0      6.25   \n",
      "\n",
      "   dlylow dlyhigh  dlybid  dlyask  dlyopen  dlynumtrd  dlymmcnt   dlyprcvol  \\\n",
      "0    6.45     NaN    6.50    6.55     6.50      831.0      50.0   838610.50   \n",
      "1    6.45     NaN    6.55    6.60     6.50      900.0      50.0   836441.55   \n",
      "2    6.45     NaN    6.45    6.50     6.50     1062.0      50.0   799545.50   \n",
      "3    6.20     NaN    6.25    6.30     6.45     1657.0      50.0  1400456.25   \n",
      "4    6.15     NaN    6.20    6.25     6.25     1249.0      50.0  1152793.75   \n",
      "\n",
      "  shrstartdt  shrenddt   shrout shrsource shrfactype shradrflg disexdt  \\\n",
      "0   20170728  20170830  38495.0       OBS        NaN         N     NaN   \n",
      "1   20170728  20170830  38495.0       OBS        NaN         N     NaN   \n",
      "2   20170728  20170830  38495.0       OBS        NaN         N     NaN   \n",
      "3   20170728  20170830  38495.0       OBS        NaN         N     NaN   \n",
      "4   20170728  20170830  38495.0       OBS        NaN         N     NaN   \n",
      "\n",
      "   disseqnbr disordinaryflg distype disfreqtype dispaymenttype disdetailtype  \\\n",
      "0        NaN            NaN     NaN         NaN            NaN           NaN   \n",
      "1        NaN            NaN     NaN         NaN            NaN           NaN   \n",
      "2        NaN            NaN     NaN         NaN            NaN           NaN   \n",
      "3        NaN            NaN     NaN         NaN            NaN           NaN   \n",
      "4        NaN            NaN     NaN         NaN            NaN           NaN   \n",
      "\n",
      "  distaxtype disorigcurtype  disdivamt  disfacpr  disfacshr disdeclaredt  \\\n",
      "0        NaN            NaN        NaN       NaN        NaN          NaN   \n",
      "1        NaN            NaN        NaN       NaN        NaN          NaN   \n",
      "2        NaN            NaN        NaN       NaN        NaN          NaN   \n",
      "3        NaN            NaN        NaN       NaN        NaN          NaN   \n",
      "4        NaN            NaN        NaN       NaN        NaN          NaN   \n",
      "\n",
      "  disrecorddt dispaydt  dispermno  dispermco  \n",
      "0         NaN      NaN        NaN        NaN  \n",
      "1         NaN      NaN        NaN        NaN  \n",
      "2         NaN      NaN        NaN        NaN  \n",
      "3         NaN      NaN        NaN        NaN  \n",
      "4         NaN      NaN        NaN        NaN  \n"
     ]
    },
    {
     "ename": "KeyboardInterrupt",
     "evalue": "",
     "output_type": "error",
     "traceback": [
      "\u001b[0;31m---------------------------------------------------------------------------\u001b[0m",
      "\u001b[0;31mKeyboardInterrupt\u001b[0m                         Traceback (most recent call last)",
      "\u001b[1;32m/Users/nace/dev/esg-portfolio/db/viewer.ipynb Cell 12'\u001b[0m in \u001b[0;36m<module>\u001b[0;34m\u001b[0m\n\u001b[1;32m      <a href='vscode-notebook-cell:/Users/nace/dev/esg-portfolio/db/viewer.ipynb#ch0000057?line=8'>9</a>\u001b[0m convert_date_columns(df)\n\u001b[1;32m     <a href='vscode-notebook-cell:/Users/nace/dev/esg-portfolio/db/viewer.ipynb#ch0000057?line=9'>10</a>\u001b[0m \u001b[39mprint\u001b[39m(\u001b[39m'\u001b[39m\u001b[39mafter \u001b[39m\u001b[39m'\u001b[39m, df\u001b[39m.\u001b[39mhead())\n\u001b[0;32m---> <a href='vscode-notebook-cell:/Users/nace/dev/esg-portfolio/db/viewer.ipynb#ch0000057?line=10'>11</a>\u001b[0m sql\u001b[39m.\u001b[39;49mupload_df_chunks(\u001b[39m\"\u001b[39;49m\u001b[39mprices_wrds\u001b[39;49m\u001b[39m\"\u001b[39;49m, df, chunk_size\u001b[39m=\u001b[39;49m\u001b[39m100\u001b[39;49m)\n\u001b[1;32m     <a href='vscode-notebook-cell:/Users/nace/dev/esg-portfolio/db/viewer.ipynb#ch0000057?line=11'>12</a>\u001b[0m \u001b[39mprint\u001b[39m(\u001b[39mf\u001b[39m\u001b[39m'\u001b[39m\u001b[39mDone with \u001b[39m\u001b[39m{\u001b[39;00mfilename\u001b[39m}\u001b[39;00m\u001b[39m'\u001b[39m)\n",
      "File \u001b[0;32m~/local/conda/envs/folio/lib/python3.9/site-packages/tba_invest_etl/utils/sql_manager.py:113\u001b[0m, in \u001b[0;36mManagerSQL.upload_df_chunks\u001b[0;34m(self, table, df, chunk_size)\u001b[0m\n\u001b[1;32m    <a href='file:///Users/nace/local/conda/envs/folio/lib/python3.9/site-packages/tba_invest_etl/utils/sql_manager.py?line=110'>111</a>\u001b[0m chunks \u001b[39m=\u001b[39m [ind[i:i \u001b[39m+\u001b[39m chunk_size] \u001b[39mfor\u001b[39;00m i \u001b[39min\u001b[39;00m \u001b[39mrange\u001b[39m(\u001b[39m0\u001b[39m, \u001b[39mlen\u001b[39m(ind), chunk_size)]\n\u001b[1;32m    <a href='file:///Users/nace/local/conda/envs/folio/lib/python3.9/site-packages/tba_invest_etl/utils/sql_manager.py?line=111'>112</a>\u001b[0m \u001b[39mfor\u001b[39;00m chunk \u001b[39min\u001b[39;00m chunks:\n\u001b[0;32m--> <a href='file:///Users/nace/local/conda/envs/folio/lib/python3.9/site-packages/tba_invest_etl/utils/sql_manager.py?line=112'>113</a>\u001b[0m     df\u001b[39m.\u001b[39;49mloc[chunk, :]\u001b[39m.\u001b[39;49mto_sql(name\u001b[39m=\u001b[39;49mtable, con\u001b[39m=\u001b[39;49m\u001b[39mself\u001b[39;49m\u001b[39m.\u001b[39;49mcon, if_exists\u001b[39m=\u001b[39;49m\u001b[39m'\u001b[39;49m\u001b[39mappend\u001b[39;49m\u001b[39m'\u001b[39;49m, index\u001b[39m=\u001b[39;49m\u001b[39mFalse\u001b[39;49;00m)\n",
      "File \u001b[0;32m~/local/conda/envs/folio/lib/python3.9/site-packages/pandas/core/generic.py:2872\u001b[0m, in \u001b[0;36mNDFrame.to_sql\u001b[0;34m(self, name, con, schema, if_exists, index, index_label, chunksize, dtype, method)\u001b[0m\n\u001b[1;32m   <a href='file:///Users/nace/local/conda/envs/folio/lib/python3.9/site-packages/pandas/core/generic.py?line=2733'>2734</a>\u001b[0m \u001b[39m\"\"\"\u001b[39;00m\n\u001b[1;32m   <a href='file:///Users/nace/local/conda/envs/folio/lib/python3.9/site-packages/pandas/core/generic.py?line=2734'>2735</a>\u001b[0m \u001b[39mWrite records stored in a DataFrame to a SQL database.\u001b[39;00m\n\u001b[1;32m   <a href='file:///Users/nace/local/conda/envs/folio/lib/python3.9/site-packages/pandas/core/generic.py?line=2735'>2736</a>\u001b[0m \n\u001b[0;32m   (...)\u001b[0m\n\u001b[1;32m   <a href='file:///Users/nace/local/conda/envs/folio/lib/python3.9/site-packages/pandas/core/generic.py?line=2867'>2868</a>\u001b[0m \u001b[39m[(1,), (None,), (2,)]\u001b[39;00m\n\u001b[1;32m   <a href='file:///Users/nace/local/conda/envs/folio/lib/python3.9/site-packages/pandas/core/generic.py?line=2868'>2869</a>\u001b[0m \u001b[39m\"\"\"\u001b[39;00m\n\u001b[1;32m   <a href='file:///Users/nace/local/conda/envs/folio/lib/python3.9/site-packages/pandas/core/generic.py?line=2869'>2870</a>\u001b[0m \u001b[39mfrom\u001b[39;00m \u001b[39mpandas\u001b[39;00m\u001b[39m.\u001b[39;00m\u001b[39mio\u001b[39;00m \u001b[39mimport\u001b[39;00m sql\n\u001b[0;32m-> <a href='file:///Users/nace/local/conda/envs/folio/lib/python3.9/site-packages/pandas/core/generic.py?line=2871'>2872</a>\u001b[0m sql\u001b[39m.\u001b[39;49mto_sql(\n\u001b[1;32m   <a href='file:///Users/nace/local/conda/envs/folio/lib/python3.9/site-packages/pandas/core/generic.py?line=2872'>2873</a>\u001b[0m     \u001b[39mself\u001b[39;49m,\n\u001b[1;32m   <a href='file:///Users/nace/local/conda/envs/folio/lib/python3.9/site-packages/pandas/core/generic.py?line=2873'>2874</a>\u001b[0m     name,\n\u001b[1;32m   <a href='file:///Users/nace/local/conda/envs/folio/lib/python3.9/site-packages/pandas/core/generic.py?line=2874'>2875</a>\u001b[0m     con,\n\u001b[1;32m   <a href='file:///Users/nace/local/conda/envs/folio/lib/python3.9/site-packages/pandas/core/generic.py?line=2875'>2876</a>\u001b[0m     schema\u001b[39m=\u001b[39;49mschema,\n\u001b[1;32m   <a href='file:///Users/nace/local/conda/envs/folio/lib/python3.9/site-packages/pandas/core/generic.py?line=2876'>2877</a>\u001b[0m     if_exists\u001b[39m=\u001b[39;49mif_exists,\n\u001b[1;32m   <a href='file:///Users/nace/local/conda/envs/folio/lib/python3.9/site-packages/pandas/core/generic.py?line=2877'>2878</a>\u001b[0m     index\u001b[39m=\u001b[39;49mindex,\n\u001b[1;32m   <a href='file:///Users/nace/local/conda/envs/folio/lib/python3.9/site-packages/pandas/core/generic.py?line=2878'>2879</a>\u001b[0m     index_label\u001b[39m=\u001b[39;49mindex_label,\n\u001b[1;32m   <a href='file:///Users/nace/local/conda/envs/folio/lib/python3.9/site-packages/pandas/core/generic.py?line=2879'>2880</a>\u001b[0m     chunksize\u001b[39m=\u001b[39;49mchunksize,\n\u001b[1;32m   <a href='file:///Users/nace/local/conda/envs/folio/lib/python3.9/site-packages/pandas/core/generic.py?line=2880'>2881</a>\u001b[0m     dtype\u001b[39m=\u001b[39;49mdtype,\n\u001b[1;32m   <a href='file:///Users/nace/local/conda/envs/folio/lib/python3.9/site-packages/pandas/core/generic.py?line=2881'>2882</a>\u001b[0m     method\u001b[39m=\u001b[39;49mmethod,\n\u001b[1;32m   <a href='file:///Users/nace/local/conda/envs/folio/lib/python3.9/site-packages/pandas/core/generic.py?line=2882'>2883</a>\u001b[0m )\n",
      "File \u001b[0;32m~/local/conda/envs/folio/lib/python3.9/site-packages/pandas/io/sql.py:717\u001b[0m, in \u001b[0;36mto_sql\u001b[0;34m(frame, name, con, schema, if_exists, index, index_label, chunksize, dtype, method, engine, **engine_kwargs)\u001b[0m\n\u001b[1;32m    <a href='file:///Users/nace/local/conda/envs/folio/lib/python3.9/site-packages/pandas/io/sql.py?line=711'>712</a>\u001b[0m \u001b[39melif\u001b[39;00m \u001b[39mnot\u001b[39;00m \u001b[39misinstance\u001b[39m(frame, DataFrame):\n\u001b[1;32m    <a href='file:///Users/nace/local/conda/envs/folio/lib/python3.9/site-packages/pandas/io/sql.py?line=712'>713</a>\u001b[0m     \u001b[39mraise\u001b[39;00m \u001b[39mNotImplementedError\u001b[39;00m(\n\u001b[1;32m    <a href='file:///Users/nace/local/conda/envs/folio/lib/python3.9/site-packages/pandas/io/sql.py?line=713'>714</a>\u001b[0m         \u001b[39m\"\u001b[39m\u001b[39m'\u001b[39m\u001b[39mframe\u001b[39m\u001b[39m'\u001b[39m\u001b[39m argument should be either a Series or a DataFrame\u001b[39m\u001b[39m\"\u001b[39m\n\u001b[1;32m    <a href='file:///Users/nace/local/conda/envs/folio/lib/python3.9/site-packages/pandas/io/sql.py?line=714'>715</a>\u001b[0m     )\n\u001b[0;32m--> <a href='file:///Users/nace/local/conda/envs/folio/lib/python3.9/site-packages/pandas/io/sql.py?line=716'>717</a>\u001b[0m pandas_sql\u001b[39m.\u001b[39;49mto_sql(\n\u001b[1;32m    <a href='file:///Users/nace/local/conda/envs/folio/lib/python3.9/site-packages/pandas/io/sql.py?line=717'>718</a>\u001b[0m     frame,\n\u001b[1;32m    <a href='file:///Users/nace/local/conda/envs/folio/lib/python3.9/site-packages/pandas/io/sql.py?line=718'>719</a>\u001b[0m     name,\n\u001b[1;32m    <a href='file:///Users/nace/local/conda/envs/folio/lib/python3.9/site-packages/pandas/io/sql.py?line=719'>720</a>\u001b[0m     if_exists\u001b[39m=\u001b[39;49mif_exists,\n\u001b[1;32m    <a href='file:///Users/nace/local/conda/envs/folio/lib/python3.9/site-packages/pandas/io/sql.py?line=720'>721</a>\u001b[0m     index\u001b[39m=\u001b[39;49mindex,\n\u001b[1;32m    <a href='file:///Users/nace/local/conda/envs/folio/lib/python3.9/site-packages/pandas/io/sql.py?line=721'>722</a>\u001b[0m     index_label\u001b[39m=\u001b[39;49mindex_label,\n\u001b[1;32m    <a href='file:///Users/nace/local/conda/envs/folio/lib/python3.9/site-packages/pandas/io/sql.py?line=722'>723</a>\u001b[0m     schema\u001b[39m=\u001b[39;49mschema,\n\u001b[1;32m    <a href='file:///Users/nace/local/conda/envs/folio/lib/python3.9/site-packages/pandas/io/sql.py?line=723'>724</a>\u001b[0m     chunksize\u001b[39m=\u001b[39;49mchunksize,\n\u001b[1;32m    <a href='file:///Users/nace/local/conda/envs/folio/lib/python3.9/site-packages/pandas/io/sql.py?line=724'>725</a>\u001b[0m     dtype\u001b[39m=\u001b[39;49mdtype,\n\u001b[1;32m    <a href='file:///Users/nace/local/conda/envs/folio/lib/python3.9/site-packages/pandas/io/sql.py?line=725'>726</a>\u001b[0m     method\u001b[39m=\u001b[39;49mmethod,\n\u001b[1;32m    <a href='file:///Users/nace/local/conda/envs/folio/lib/python3.9/site-packages/pandas/io/sql.py?line=726'>727</a>\u001b[0m     engine\u001b[39m=\u001b[39;49mengine,\n\u001b[1;32m    <a href='file:///Users/nace/local/conda/envs/folio/lib/python3.9/site-packages/pandas/io/sql.py?line=727'>728</a>\u001b[0m     \u001b[39m*\u001b[39;49m\u001b[39m*\u001b[39;49mengine_kwargs,\n\u001b[1;32m    <a href='file:///Users/nace/local/conda/envs/folio/lib/python3.9/site-packages/pandas/io/sql.py?line=728'>729</a>\u001b[0m )\n",
      "File \u001b[0;32m~/local/conda/envs/folio/lib/python3.9/site-packages/pandas/io/sql.py:1761\u001b[0m, in \u001b[0;36mSQLDatabase.to_sql\u001b[0;34m(self, frame, name, if_exists, index, index_label, schema, chunksize, dtype, method, engine, **engine_kwargs)\u001b[0m\n\u001b[1;32m   <a href='file:///Users/nace/local/conda/envs/folio/lib/python3.9/site-packages/pandas/io/sql.py?line=1748'>1749</a>\u001b[0m sql_engine \u001b[39m=\u001b[39m get_engine(engine)\n\u001b[1;32m   <a href='file:///Users/nace/local/conda/envs/folio/lib/python3.9/site-packages/pandas/io/sql.py?line=1750'>1751</a>\u001b[0m table \u001b[39m=\u001b[39m \u001b[39mself\u001b[39m\u001b[39m.\u001b[39mprep_table(\n\u001b[1;32m   <a href='file:///Users/nace/local/conda/envs/folio/lib/python3.9/site-packages/pandas/io/sql.py?line=1751'>1752</a>\u001b[0m     frame\u001b[39m=\u001b[39mframe,\n\u001b[1;32m   <a href='file:///Users/nace/local/conda/envs/folio/lib/python3.9/site-packages/pandas/io/sql.py?line=1752'>1753</a>\u001b[0m     name\u001b[39m=\u001b[39mname,\n\u001b[0;32m   (...)\u001b[0m\n\u001b[1;32m   <a href='file:///Users/nace/local/conda/envs/folio/lib/python3.9/site-packages/pandas/io/sql.py?line=1757'>1758</a>\u001b[0m     dtype\u001b[39m=\u001b[39mdtype,\n\u001b[1;32m   <a href='file:///Users/nace/local/conda/envs/folio/lib/python3.9/site-packages/pandas/io/sql.py?line=1758'>1759</a>\u001b[0m )\n\u001b[0;32m-> <a href='file:///Users/nace/local/conda/envs/folio/lib/python3.9/site-packages/pandas/io/sql.py?line=1760'>1761</a>\u001b[0m sql_engine\u001b[39m.\u001b[39;49minsert_records(\n\u001b[1;32m   <a href='file:///Users/nace/local/conda/envs/folio/lib/python3.9/site-packages/pandas/io/sql.py?line=1761'>1762</a>\u001b[0m     table\u001b[39m=\u001b[39;49mtable,\n\u001b[1;32m   <a href='file:///Users/nace/local/conda/envs/folio/lib/python3.9/site-packages/pandas/io/sql.py?line=1762'>1763</a>\u001b[0m     con\u001b[39m=\u001b[39;49m\u001b[39mself\u001b[39;49m\u001b[39m.\u001b[39;49mconnectable,\n\u001b[1;32m   <a href='file:///Users/nace/local/conda/envs/folio/lib/python3.9/site-packages/pandas/io/sql.py?line=1763'>1764</a>\u001b[0m     frame\u001b[39m=\u001b[39;49mframe,\n\u001b[1;32m   <a href='file:///Users/nace/local/conda/envs/folio/lib/python3.9/site-packages/pandas/io/sql.py?line=1764'>1765</a>\u001b[0m     name\u001b[39m=\u001b[39;49mname,\n\u001b[1;32m   <a href='file:///Users/nace/local/conda/envs/folio/lib/python3.9/site-packages/pandas/io/sql.py?line=1765'>1766</a>\u001b[0m     index\u001b[39m=\u001b[39;49mindex,\n\u001b[1;32m   <a href='file:///Users/nace/local/conda/envs/folio/lib/python3.9/site-packages/pandas/io/sql.py?line=1766'>1767</a>\u001b[0m     schema\u001b[39m=\u001b[39;49mschema,\n\u001b[1;32m   <a href='file:///Users/nace/local/conda/envs/folio/lib/python3.9/site-packages/pandas/io/sql.py?line=1767'>1768</a>\u001b[0m     chunksize\u001b[39m=\u001b[39;49mchunksize,\n\u001b[1;32m   <a href='file:///Users/nace/local/conda/envs/folio/lib/python3.9/site-packages/pandas/io/sql.py?line=1768'>1769</a>\u001b[0m     method\u001b[39m=\u001b[39;49mmethod,\n\u001b[1;32m   <a href='file:///Users/nace/local/conda/envs/folio/lib/python3.9/site-packages/pandas/io/sql.py?line=1769'>1770</a>\u001b[0m     \u001b[39m*\u001b[39;49m\u001b[39m*\u001b[39;49mengine_kwargs,\n\u001b[1;32m   <a href='file:///Users/nace/local/conda/envs/folio/lib/python3.9/site-packages/pandas/io/sql.py?line=1770'>1771</a>\u001b[0m )\n\u001b[1;32m   <a href='file:///Users/nace/local/conda/envs/folio/lib/python3.9/site-packages/pandas/io/sql.py?line=1772'>1773</a>\u001b[0m \u001b[39mself\u001b[39m\u001b[39m.\u001b[39mcheck_case_sensitive(name\u001b[39m=\u001b[39mname, schema\u001b[39m=\u001b[39mschema)\n",
      "File \u001b[0;32m~/local/conda/envs/folio/lib/python3.9/site-packages/pandas/io/sql.py:1340\u001b[0m, in \u001b[0;36mSQLAlchemyEngine.insert_records\u001b[0;34m(self, table, con, frame, name, index, schema, chunksize, method, **engine_kwargs)\u001b[0m\n\u001b[1;32m   <a href='file:///Users/nace/local/conda/envs/folio/lib/python3.9/site-packages/pandas/io/sql.py?line=1336'>1337</a>\u001b[0m \u001b[39mfrom\u001b[39;00m \u001b[39msqlalchemy\u001b[39;00m \u001b[39mimport\u001b[39;00m exc\n\u001b[1;32m   <a href='file:///Users/nace/local/conda/envs/folio/lib/python3.9/site-packages/pandas/io/sql.py?line=1338'>1339</a>\u001b[0m \u001b[39mtry\u001b[39;00m:\n\u001b[0;32m-> <a href='file:///Users/nace/local/conda/envs/folio/lib/python3.9/site-packages/pandas/io/sql.py?line=1339'>1340</a>\u001b[0m     table\u001b[39m.\u001b[39;49minsert(chunksize\u001b[39m=\u001b[39;49mchunksize, method\u001b[39m=\u001b[39;49mmethod)\n\u001b[1;32m   <a href='file:///Users/nace/local/conda/envs/folio/lib/python3.9/site-packages/pandas/io/sql.py?line=1340'>1341</a>\u001b[0m \u001b[39mexcept\u001b[39;00m exc\u001b[39m.\u001b[39mSQLAlchemyError \u001b[39mas\u001b[39;00m err:\n\u001b[1;32m   <a href='file:///Users/nace/local/conda/envs/folio/lib/python3.9/site-packages/pandas/io/sql.py?line=1341'>1342</a>\u001b[0m     \u001b[39m# GH34431\u001b[39;00m\n\u001b[1;32m   <a href='file:///Users/nace/local/conda/envs/folio/lib/python3.9/site-packages/pandas/io/sql.py?line=1342'>1343</a>\u001b[0m     \u001b[39m# https://stackoverflow.com/a/67358288/6067848\u001b[39;00m\n\u001b[1;32m   <a href='file:///Users/nace/local/conda/envs/folio/lib/python3.9/site-packages/pandas/io/sql.py?line=1343'>1344</a>\u001b[0m     msg \u001b[39m=\u001b[39m \u001b[39mr\u001b[39m\u001b[39m\"\"\"\u001b[39m\u001b[39m(\u001b[39m\u001b[39m\\\u001b[39m\u001b[39m(1054, \u001b[39m\u001b[39m\"\u001b[39m\u001b[39mUnknown column \u001b[39m\u001b[39m'\u001b[39m\u001b[39minf(e0)?\u001b[39m\u001b[39m'\u001b[39m\u001b[39m in \u001b[39m\u001b[39m'\u001b[39m\u001b[39mfield list\u001b[39m\u001b[39m'\u001b[39m\u001b[39m\"\u001b[39m\u001b[39m\\\u001b[39m\u001b[39m))(?#\u001b[39m\n\u001b[1;32m   <a href='file:///Users/nace/local/conda/envs/folio/lib/python3.9/site-packages/pandas/io/sql.py?line=1344'>1345</a>\u001b[0m \u001b[39m    )|inf can not be used with MySQL\u001b[39m\u001b[39m\"\"\"\u001b[39m\n",
      "File \u001b[0;32m~/local/conda/envs/folio/lib/python3.9/site-packages/pandas/io/sql.py:967\u001b[0m, in \u001b[0;36mSQLTable.insert\u001b[0;34m(self, chunksize, method)\u001b[0m\n\u001b[1;32m    <a href='file:///Users/nace/local/conda/envs/folio/lib/python3.9/site-packages/pandas/io/sql.py?line=963'>964</a>\u001b[0m     \u001b[39mbreak\u001b[39;00m\n\u001b[1;32m    <a href='file:///Users/nace/local/conda/envs/folio/lib/python3.9/site-packages/pandas/io/sql.py?line=965'>966</a>\u001b[0m chunk_iter \u001b[39m=\u001b[39m \u001b[39mzip\u001b[39m(\u001b[39m*\u001b[39m[arr[start_i:end_i] \u001b[39mfor\u001b[39;00m arr \u001b[39min\u001b[39;00m data_list])\n\u001b[0;32m--> <a href='file:///Users/nace/local/conda/envs/folio/lib/python3.9/site-packages/pandas/io/sql.py?line=966'>967</a>\u001b[0m exec_insert(conn, keys, chunk_iter)\n",
      "File \u001b[0;32m~/local/conda/envs/folio/lib/python3.9/site-packages/pandas/io/sql.py:882\u001b[0m, in \u001b[0;36mSQLTable._execute_insert\u001b[0;34m(self, conn, keys, data_iter)\u001b[0m\n\u001b[1;32m    <a href='file:///Users/nace/local/conda/envs/folio/lib/python3.9/site-packages/pandas/io/sql.py?line=869'>870</a>\u001b[0m \u001b[39m\"\"\"\u001b[39;00m\n\u001b[1;32m    <a href='file:///Users/nace/local/conda/envs/folio/lib/python3.9/site-packages/pandas/io/sql.py?line=870'>871</a>\u001b[0m \u001b[39mExecute SQL statement inserting data\u001b[39;00m\n\u001b[1;32m    <a href='file:///Users/nace/local/conda/envs/folio/lib/python3.9/site-packages/pandas/io/sql.py?line=871'>872</a>\u001b[0m \n\u001b[0;32m   (...)\u001b[0m\n\u001b[1;32m    <a href='file:///Users/nace/local/conda/envs/folio/lib/python3.9/site-packages/pandas/io/sql.py?line=878'>879</a>\u001b[0m \u001b[39m   Each item contains a list of values to be inserted\u001b[39;00m\n\u001b[1;32m    <a href='file:///Users/nace/local/conda/envs/folio/lib/python3.9/site-packages/pandas/io/sql.py?line=879'>880</a>\u001b[0m \u001b[39m\"\"\"\u001b[39;00m\n\u001b[1;32m    <a href='file:///Users/nace/local/conda/envs/folio/lib/python3.9/site-packages/pandas/io/sql.py?line=880'>881</a>\u001b[0m data \u001b[39m=\u001b[39m [\u001b[39mdict\u001b[39m(\u001b[39mzip\u001b[39m(keys, row)) \u001b[39mfor\u001b[39;00m row \u001b[39min\u001b[39;00m data_iter]\n\u001b[0;32m--> <a href='file:///Users/nace/local/conda/envs/folio/lib/python3.9/site-packages/pandas/io/sql.py?line=881'>882</a>\u001b[0m conn\u001b[39m.\u001b[39;49mexecute(\u001b[39mself\u001b[39;49m\u001b[39m.\u001b[39;49mtable\u001b[39m.\u001b[39;49minsert(), data)\n",
      "File \u001b[0;32m~/local/conda/envs/folio/lib/python3.9/site-packages/sqlalchemy/engine/base.py:1306\u001b[0m, in \u001b[0;36mConnection.execute\u001b[0;34m(self, statement, *multiparams, **params)\u001b[0m\n\u001b[1;32m   <a href='file:///Users/nace/local/conda/envs/folio/lib/python3.9/site-packages/sqlalchemy/engine/base.py?line=1301'>1302</a>\u001b[0m     util\u001b[39m.\u001b[39mraise_(\n\u001b[1;32m   <a href='file:///Users/nace/local/conda/envs/folio/lib/python3.9/site-packages/sqlalchemy/engine/base.py?line=1302'>1303</a>\u001b[0m         exc\u001b[39m.\u001b[39mObjectNotExecutableError(statement), replace_context\u001b[39m=\u001b[39merr\n\u001b[1;32m   <a href='file:///Users/nace/local/conda/envs/folio/lib/python3.9/site-packages/sqlalchemy/engine/base.py?line=1303'>1304</a>\u001b[0m     )\n\u001b[1;32m   <a href='file:///Users/nace/local/conda/envs/folio/lib/python3.9/site-packages/sqlalchemy/engine/base.py?line=1304'>1305</a>\u001b[0m \u001b[39melse\u001b[39;00m:\n\u001b[0;32m-> <a href='file:///Users/nace/local/conda/envs/folio/lib/python3.9/site-packages/sqlalchemy/engine/base.py?line=1305'>1306</a>\u001b[0m     \u001b[39mreturn\u001b[39;00m meth(\u001b[39mself\u001b[39;49m, multiparams, params, _EMPTY_EXECUTION_OPTS)\n",
      "File \u001b[0;32m~/local/conda/envs/folio/lib/python3.9/site-packages/sqlalchemy/sql/elements.py:325\u001b[0m, in \u001b[0;36mClauseElement._execute_on_connection\u001b[0;34m(self, connection, multiparams, params, execution_options, _force)\u001b[0m\n\u001b[1;32m    <a href='file:///Users/nace/local/conda/envs/folio/lib/python3.9/site-packages/sqlalchemy/sql/elements.py?line=320'>321</a>\u001b[0m \u001b[39mdef\u001b[39;00m \u001b[39m_execute_on_connection\u001b[39m(\n\u001b[1;32m    <a href='file:///Users/nace/local/conda/envs/folio/lib/python3.9/site-packages/sqlalchemy/sql/elements.py?line=321'>322</a>\u001b[0m     \u001b[39mself\u001b[39m, connection, multiparams, params, execution_options, _force\u001b[39m=\u001b[39m\u001b[39mFalse\u001b[39;00m\n\u001b[1;32m    <a href='file:///Users/nace/local/conda/envs/folio/lib/python3.9/site-packages/sqlalchemy/sql/elements.py?line=322'>323</a>\u001b[0m ):\n\u001b[1;32m    <a href='file:///Users/nace/local/conda/envs/folio/lib/python3.9/site-packages/sqlalchemy/sql/elements.py?line=323'>324</a>\u001b[0m     \u001b[39mif\u001b[39;00m _force \u001b[39mor\u001b[39;00m \u001b[39mself\u001b[39m\u001b[39m.\u001b[39msupports_execution:\n\u001b[0;32m--> <a href='file:///Users/nace/local/conda/envs/folio/lib/python3.9/site-packages/sqlalchemy/sql/elements.py?line=324'>325</a>\u001b[0m         \u001b[39mreturn\u001b[39;00m connection\u001b[39m.\u001b[39;49m_execute_clauseelement(\n\u001b[1;32m    <a href='file:///Users/nace/local/conda/envs/folio/lib/python3.9/site-packages/sqlalchemy/sql/elements.py?line=325'>326</a>\u001b[0m             \u001b[39mself\u001b[39;49m, multiparams, params, execution_options\n\u001b[1;32m    <a href='file:///Users/nace/local/conda/envs/folio/lib/python3.9/site-packages/sqlalchemy/sql/elements.py?line=326'>327</a>\u001b[0m         )\n\u001b[1;32m    <a href='file:///Users/nace/local/conda/envs/folio/lib/python3.9/site-packages/sqlalchemy/sql/elements.py?line=327'>328</a>\u001b[0m     \u001b[39melse\u001b[39;00m:\n\u001b[1;32m    <a href='file:///Users/nace/local/conda/envs/folio/lib/python3.9/site-packages/sqlalchemy/sql/elements.py?line=328'>329</a>\u001b[0m         \u001b[39mraise\u001b[39;00m exc\u001b[39m.\u001b[39mObjectNotExecutableError(\u001b[39mself\u001b[39m)\n",
      "File \u001b[0;32m~/local/conda/envs/folio/lib/python3.9/site-packages/sqlalchemy/engine/base.py:1498\u001b[0m, in \u001b[0;36mConnection._execute_clauseelement\u001b[0;34m(self, elem, multiparams, params, execution_options)\u001b[0m\n\u001b[1;32m   <a href='file:///Users/nace/local/conda/envs/folio/lib/python3.9/site-packages/sqlalchemy/engine/base.py?line=1485'>1486</a>\u001b[0m compiled_cache \u001b[39m=\u001b[39m execution_options\u001b[39m.\u001b[39mget(\n\u001b[1;32m   <a href='file:///Users/nace/local/conda/envs/folio/lib/python3.9/site-packages/sqlalchemy/engine/base.py?line=1486'>1487</a>\u001b[0m     \u001b[39m\"\u001b[39m\u001b[39mcompiled_cache\u001b[39m\u001b[39m\"\u001b[39m, \u001b[39mself\u001b[39m\u001b[39m.\u001b[39mengine\u001b[39m.\u001b[39m_compiled_cache\n\u001b[1;32m   <a href='file:///Users/nace/local/conda/envs/folio/lib/python3.9/site-packages/sqlalchemy/engine/base.py?line=1487'>1488</a>\u001b[0m )\n\u001b[1;32m   <a href='file:///Users/nace/local/conda/envs/folio/lib/python3.9/site-packages/sqlalchemy/engine/base.py?line=1489'>1490</a>\u001b[0m compiled_sql, extracted_params, cache_hit \u001b[39m=\u001b[39m elem\u001b[39m.\u001b[39m_compile_w_cache(\n\u001b[1;32m   <a href='file:///Users/nace/local/conda/envs/folio/lib/python3.9/site-packages/sqlalchemy/engine/base.py?line=1490'>1491</a>\u001b[0m     dialect\u001b[39m=\u001b[39mdialect,\n\u001b[1;32m   <a href='file:///Users/nace/local/conda/envs/folio/lib/python3.9/site-packages/sqlalchemy/engine/base.py?line=1491'>1492</a>\u001b[0m     compiled_cache\u001b[39m=\u001b[39mcompiled_cache,\n\u001b[0;32m   (...)\u001b[0m\n\u001b[1;32m   <a href='file:///Users/nace/local/conda/envs/folio/lib/python3.9/site-packages/sqlalchemy/engine/base.py?line=1495'>1496</a>\u001b[0m     linting\u001b[39m=\u001b[39m\u001b[39mself\u001b[39m\u001b[39m.\u001b[39mdialect\u001b[39m.\u001b[39mcompiler_linting \u001b[39m|\u001b[39m compiler\u001b[39m.\u001b[39mWARN_LINTING,\n\u001b[1;32m   <a href='file:///Users/nace/local/conda/envs/folio/lib/python3.9/site-packages/sqlalchemy/engine/base.py?line=1496'>1497</a>\u001b[0m )\n\u001b[0;32m-> <a href='file:///Users/nace/local/conda/envs/folio/lib/python3.9/site-packages/sqlalchemy/engine/base.py?line=1497'>1498</a>\u001b[0m ret \u001b[39m=\u001b[39m \u001b[39mself\u001b[39;49m\u001b[39m.\u001b[39;49m_execute_context(\n\u001b[1;32m   <a href='file:///Users/nace/local/conda/envs/folio/lib/python3.9/site-packages/sqlalchemy/engine/base.py?line=1498'>1499</a>\u001b[0m     dialect,\n\u001b[1;32m   <a href='file:///Users/nace/local/conda/envs/folio/lib/python3.9/site-packages/sqlalchemy/engine/base.py?line=1499'>1500</a>\u001b[0m     dialect\u001b[39m.\u001b[39;49mexecution_ctx_cls\u001b[39m.\u001b[39;49m_init_compiled,\n\u001b[1;32m   <a href='file:///Users/nace/local/conda/envs/folio/lib/python3.9/site-packages/sqlalchemy/engine/base.py?line=1500'>1501</a>\u001b[0m     compiled_sql,\n\u001b[1;32m   <a href='file:///Users/nace/local/conda/envs/folio/lib/python3.9/site-packages/sqlalchemy/engine/base.py?line=1501'>1502</a>\u001b[0m     distilled_params,\n\u001b[1;32m   <a href='file:///Users/nace/local/conda/envs/folio/lib/python3.9/site-packages/sqlalchemy/engine/base.py?line=1502'>1503</a>\u001b[0m     execution_options,\n\u001b[1;32m   <a href='file:///Users/nace/local/conda/envs/folio/lib/python3.9/site-packages/sqlalchemy/engine/base.py?line=1503'>1504</a>\u001b[0m     compiled_sql,\n\u001b[1;32m   <a href='file:///Users/nace/local/conda/envs/folio/lib/python3.9/site-packages/sqlalchemy/engine/base.py?line=1504'>1505</a>\u001b[0m     distilled_params,\n\u001b[1;32m   <a href='file:///Users/nace/local/conda/envs/folio/lib/python3.9/site-packages/sqlalchemy/engine/base.py?line=1505'>1506</a>\u001b[0m     elem,\n\u001b[1;32m   <a href='file:///Users/nace/local/conda/envs/folio/lib/python3.9/site-packages/sqlalchemy/engine/base.py?line=1506'>1507</a>\u001b[0m     extracted_params,\n\u001b[1;32m   <a href='file:///Users/nace/local/conda/envs/folio/lib/python3.9/site-packages/sqlalchemy/engine/base.py?line=1507'>1508</a>\u001b[0m     cache_hit\u001b[39m=\u001b[39;49mcache_hit,\n\u001b[1;32m   <a href='file:///Users/nace/local/conda/envs/folio/lib/python3.9/site-packages/sqlalchemy/engine/base.py?line=1508'>1509</a>\u001b[0m )\n\u001b[1;32m   <a href='file:///Users/nace/local/conda/envs/folio/lib/python3.9/site-packages/sqlalchemy/engine/base.py?line=1509'>1510</a>\u001b[0m \u001b[39mif\u001b[39;00m has_events:\n\u001b[1;32m   <a href='file:///Users/nace/local/conda/envs/folio/lib/python3.9/site-packages/sqlalchemy/engine/base.py?line=1510'>1511</a>\u001b[0m     \u001b[39mself\u001b[39m\u001b[39m.\u001b[39mdispatch\u001b[39m.\u001b[39mafter_execute(\n\u001b[1;32m   <a href='file:///Users/nace/local/conda/envs/folio/lib/python3.9/site-packages/sqlalchemy/engine/base.py?line=1511'>1512</a>\u001b[0m         \u001b[39mself\u001b[39m,\n\u001b[1;32m   <a href='file:///Users/nace/local/conda/envs/folio/lib/python3.9/site-packages/sqlalchemy/engine/base.py?line=1512'>1513</a>\u001b[0m         elem,\n\u001b[0;32m   (...)\u001b[0m\n\u001b[1;32m   <a href='file:///Users/nace/local/conda/envs/folio/lib/python3.9/site-packages/sqlalchemy/engine/base.py?line=1516'>1517</a>\u001b[0m         ret,\n\u001b[1;32m   <a href='file:///Users/nace/local/conda/envs/folio/lib/python3.9/site-packages/sqlalchemy/engine/base.py?line=1517'>1518</a>\u001b[0m     )\n",
      "File \u001b[0;32m~/local/conda/envs/folio/lib/python3.9/site-packages/sqlalchemy/engine/base.py:1862\u001b[0m, in \u001b[0;36mConnection._execute_context\u001b[0;34m(self, dialect, constructor, statement, parameters, execution_options, *args, **kw)\u001b[0m\n\u001b[1;32m   <a href='file:///Users/nace/local/conda/envs/folio/lib/python3.9/site-packages/sqlalchemy/engine/base.py?line=1858'>1859</a>\u001b[0m             branched\u001b[39m.\u001b[39mclose()\n\u001b[1;32m   <a href='file:///Users/nace/local/conda/envs/folio/lib/python3.9/site-packages/sqlalchemy/engine/base.py?line=1860'>1861</a>\u001b[0m \u001b[39mexcept\u001b[39;00m \u001b[39mBaseException\u001b[39;00m \u001b[39mas\u001b[39;00m e:\n\u001b[0;32m-> <a href='file:///Users/nace/local/conda/envs/folio/lib/python3.9/site-packages/sqlalchemy/engine/base.py?line=1861'>1862</a>\u001b[0m     \u001b[39mself\u001b[39;49m\u001b[39m.\u001b[39;49m_handle_dbapi_exception(\n\u001b[1;32m   <a href='file:///Users/nace/local/conda/envs/folio/lib/python3.9/site-packages/sqlalchemy/engine/base.py?line=1862'>1863</a>\u001b[0m         e, statement, parameters, cursor, context\n\u001b[1;32m   <a href='file:///Users/nace/local/conda/envs/folio/lib/python3.9/site-packages/sqlalchemy/engine/base.py?line=1863'>1864</a>\u001b[0m     )\n\u001b[1;32m   <a href='file:///Users/nace/local/conda/envs/folio/lib/python3.9/site-packages/sqlalchemy/engine/base.py?line=1865'>1866</a>\u001b[0m \u001b[39mreturn\u001b[39;00m result\n",
      "File \u001b[0;32m~/local/conda/envs/folio/lib/python3.9/site-packages/sqlalchemy/engine/base.py:2047\u001b[0m, in \u001b[0;36mConnection._handle_dbapi_exception\u001b[0;34m(self, e, statement, parameters, cursor, context)\u001b[0m\n\u001b[1;32m   <a href='file:///Users/nace/local/conda/envs/folio/lib/python3.9/site-packages/sqlalchemy/engine/base.py?line=2042'>2043</a>\u001b[0m         util\u001b[39m.\u001b[39mraise_(\n\u001b[1;32m   <a href='file:///Users/nace/local/conda/envs/folio/lib/python3.9/site-packages/sqlalchemy/engine/base.py?line=2043'>2044</a>\u001b[0m             sqlalchemy_exception, with_traceback\u001b[39m=\u001b[39mexc_info[\u001b[39m2\u001b[39m], from_\u001b[39m=\u001b[39me\n\u001b[1;32m   <a href='file:///Users/nace/local/conda/envs/folio/lib/python3.9/site-packages/sqlalchemy/engine/base.py?line=2044'>2045</a>\u001b[0m         )\n\u001b[1;32m   <a href='file:///Users/nace/local/conda/envs/folio/lib/python3.9/site-packages/sqlalchemy/engine/base.py?line=2045'>2046</a>\u001b[0m     \u001b[39melse\u001b[39;00m:\n\u001b[0;32m-> <a href='file:///Users/nace/local/conda/envs/folio/lib/python3.9/site-packages/sqlalchemy/engine/base.py?line=2046'>2047</a>\u001b[0m         util\u001b[39m.\u001b[39;49mraise_(exc_info[\u001b[39m1\u001b[39;49m], with_traceback\u001b[39m=\u001b[39;49mexc_info[\u001b[39m2\u001b[39;49m])\n\u001b[1;32m   <a href='file:///Users/nace/local/conda/envs/folio/lib/python3.9/site-packages/sqlalchemy/engine/base.py?line=2048'>2049</a>\u001b[0m \u001b[39mfinally\u001b[39;00m:\n\u001b[1;32m   <a href='file:///Users/nace/local/conda/envs/folio/lib/python3.9/site-packages/sqlalchemy/engine/base.py?line=2049'>2050</a>\u001b[0m     \u001b[39mdel\u001b[39;00m \u001b[39mself\u001b[39m\u001b[39m.\u001b[39m_reentrant_error\n",
      "File \u001b[0;32m~/local/conda/envs/folio/lib/python3.9/site-packages/sqlalchemy/util/compat.py:207\u001b[0m, in \u001b[0;36mraise_\u001b[0;34m(***failed resolving arguments***)\u001b[0m\n\u001b[1;32m    <a href='file:///Users/nace/local/conda/envs/folio/lib/python3.9/site-packages/sqlalchemy/util/compat.py?line=203'>204</a>\u001b[0m     exception\u001b[39m.\u001b[39m__cause__ \u001b[39m=\u001b[39m replace_context\n\u001b[1;32m    <a href='file:///Users/nace/local/conda/envs/folio/lib/python3.9/site-packages/sqlalchemy/util/compat.py?line=205'>206</a>\u001b[0m \u001b[39mtry\u001b[39;00m:\n\u001b[0;32m--> <a href='file:///Users/nace/local/conda/envs/folio/lib/python3.9/site-packages/sqlalchemy/util/compat.py?line=206'>207</a>\u001b[0m     \u001b[39mraise\u001b[39;00m exception\n\u001b[1;32m    <a href='file:///Users/nace/local/conda/envs/folio/lib/python3.9/site-packages/sqlalchemy/util/compat.py?line=207'>208</a>\u001b[0m \u001b[39mfinally\u001b[39;00m:\n\u001b[1;32m    <a href='file:///Users/nace/local/conda/envs/folio/lib/python3.9/site-packages/sqlalchemy/util/compat.py?line=208'>209</a>\u001b[0m     \u001b[39m# credit to\u001b[39;00m\n\u001b[1;32m    <a href='file:///Users/nace/local/conda/envs/folio/lib/python3.9/site-packages/sqlalchemy/util/compat.py?line=209'>210</a>\u001b[0m     \u001b[39m# https://cosmicpercolator.com/2016/01/13/exception-leaks-in-python-2-and-3/\u001b[39;00m\n\u001b[1;32m    <a href='file:///Users/nace/local/conda/envs/folio/lib/python3.9/site-packages/sqlalchemy/util/compat.py?line=210'>211</a>\u001b[0m     \u001b[39m# as the __traceback__ object creates a cycle\u001b[39;00m\n\u001b[1;32m    <a href='file:///Users/nace/local/conda/envs/folio/lib/python3.9/site-packages/sqlalchemy/util/compat.py?line=211'>212</a>\u001b[0m     \u001b[39mdel\u001b[39;00m exception, replace_context, from_, with_traceback\n",
      "File \u001b[0;32m~/local/conda/envs/folio/lib/python3.9/site-packages/sqlalchemy/engine/base.py:1799\u001b[0m, in \u001b[0;36mConnection._execute_context\u001b[0;34m(self, dialect, constructor, statement, parameters, execution_options, *args, **kw)\u001b[0m\n\u001b[1;32m   <a href='file:///Users/nace/local/conda/envs/folio/lib/python3.9/site-packages/sqlalchemy/engine/base.py?line=1796'>1797</a>\u001b[0m                 \u001b[39mbreak\u001b[39;00m\n\u001b[1;32m   <a href='file:///Users/nace/local/conda/envs/folio/lib/python3.9/site-packages/sqlalchemy/engine/base.py?line=1797'>1798</a>\u001b[0m     \u001b[39mif\u001b[39;00m \u001b[39mnot\u001b[39;00m evt_handled:\n\u001b[0;32m-> <a href='file:///Users/nace/local/conda/envs/folio/lib/python3.9/site-packages/sqlalchemy/engine/base.py?line=1798'>1799</a>\u001b[0m         \u001b[39mself\u001b[39;49m\u001b[39m.\u001b[39;49mdialect\u001b[39m.\u001b[39;49mdo_executemany(\n\u001b[1;32m   <a href='file:///Users/nace/local/conda/envs/folio/lib/python3.9/site-packages/sqlalchemy/engine/base.py?line=1799'>1800</a>\u001b[0m             cursor, statement, parameters, context\n\u001b[1;32m   <a href='file:///Users/nace/local/conda/envs/folio/lib/python3.9/site-packages/sqlalchemy/engine/base.py?line=1800'>1801</a>\u001b[0m         )\n\u001b[1;32m   <a href='file:///Users/nace/local/conda/envs/folio/lib/python3.9/site-packages/sqlalchemy/engine/base.py?line=1801'>1802</a>\u001b[0m \u001b[39melif\u001b[39;00m \u001b[39mnot\u001b[39;00m parameters \u001b[39mand\u001b[39;00m context\u001b[39m.\u001b[39mno_parameters:\n\u001b[1;32m   <a href='file:///Users/nace/local/conda/envs/folio/lib/python3.9/site-packages/sqlalchemy/engine/base.py?line=1802'>1803</a>\u001b[0m     \u001b[39mif\u001b[39;00m \u001b[39mself\u001b[39m\u001b[39m.\u001b[39mdialect\u001b[39m.\u001b[39m_has_events:\n",
      "File \u001b[0;32m~/local/conda/envs/folio/lib/python3.9/site-packages/sqlalchemy/dialects/postgresql/psycopg2.py:951\u001b[0m, in \u001b[0;36mPGDialect_psycopg2.do_executemany\u001b[0;34m(self, cursor, statement, parameters, context)\u001b[0m\n\u001b[1;32m    <a href='file:///Users/nace/local/conda/envs/folio/lib/python3.9/site-packages/sqlalchemy/dialects/postgresql/psycopg2.py?line=948'>949</a>\u001b[0m         kwargs \u001b[39m=\u001b[39m {}\n\u001b[1;32m    <a href='file:///Users/nace/local/conda/envs/folio/lib/python3.9/site-packages/sqlalchemy/dialects/postgresql/psycopg2.py?line=949'>950</a>\u001b[0m     xtras \u001b[39m=\u001b[39m \u001b[39mself\u001b[39m\u001b[39m.\u001b[39m_psycopg2_extras()\n\u001b[0;32m--> <a href='file:///Users/nace/local/conda/envs/folio/lib/python3.9/site-packages/sqlalchemy/dialects/postgresql/psycopg2.py?line=950'>951</a>\u001b[0m     context\u001b[39m.\u001b[39m_psycopg2_fetched_rows \u001b[39m=\u001b[39m xtras\u001b[39m.\u001b[39;49mexecute_values(\n\u001b[1;32m    <a href='file:///Users/nace/local/conda/envs/folio/lib/python3.9/site-packages/sqlalchemy/dialects/postgresql/psycopg2.py?line=951'>952</a>\u001b[0m         cursor,\n\u001b[1;32m    <a href='file:///Users/nace/local/conda/envs/folio/lib/python3.9/site-packages/sqlalchemy/dialects/postgresql/psycopg2.py?line=952'>953</a>\u001b[0m         statement,\n\u001b[1;32m    <a href='file:///Users/nace/local/conda/envs/folio/lib/python3.9/site-packages/sqlalchemy/dialects/postgresql/psycopg2.py?line=953'>954</a>\u001b[0m         parameters,\n\u001b[1;32m    <a href='file:///Users/nace/local/conda/envs/folio/lib/python3.9/site-packages/sqlalchemy/dialects/postgresql/psycopg2.py?line=954'>955</a>\u001b[0m         template\u001b[39m=\u001b[39;49mexecutemany_values,\n\u001b[1;32m    <a href='file:///Users/nace/local/conda/envs/folio/lib/python3.9/site-packages/sqlalchemy/dialects/postgresql/psycopg2.py?line=955'>956</a>\u001b[0m         fetch\u001b[39m=\u001b[39;49m\u001b[39mbool\u001b[39;49m(context\u001b[39m.\u001b[39;49mcompiled\u001b[39m.\u001b[39;49mreturning),\n\u001b[1;32m    <a href='file:///Users/nace/local/conda/envs/folio/lib/python3.9/site-packages/sqlalchemy/dialects/postgresql/psycopg2.py?line=956'>957</a>\u001b[0m         \u001b[39m*\u001b[39;49m\u001b[39m*\u001b[39;49mkwargs\n\u001b[1;32m    <a href='file:///Users/nace/local/conda/envs/folio/lib/python3.9/site-packages/sqlalchemy/dialects/postgresql/psycopg2.py?line=957'>958</a>\u001b[0m     )\n\u001b[1;32m    <a href='file:///Users/nace/local/conda/envs/folio/lib/python3.9/site-packages/sqlalchemy/dialects/postgresql/psycopg2.py?line=959'>960</a>\u001b[0m \u001b[39melif\u001b[39;00m \u001b[39mself\u001b[39m\u001b[39m.\u001b[39mexecutemany_mode \u001b[39m&\u001b[39m EXECUTEMANY_BATCH:\n\u001b[1;32m    <a href='file:///Users/nace/local/conda/envs/folio/lib/python3.9/site-packages/sqlalchemy/dialects/postgresql/psycopg2.py?line=960'>961</a>\u001b[0m     \u001b[39mif\u001b[39;00m \u001b[39mself\u001b[39m\u001b[39m.\u001b[39mexecutemany_batch_page_size:\n",
      "File \u001b[0;32m~/local/conda/envs/folio/lib/python3.9/site-packages/psycopg2/extras.py:1270\u001b[0m, in \u001b[0;36mexecute_values\u001b[0;34m(cur, sql, argslist, template, page_size, fetch)\u001b[0m\n\u001b[1;32m   <a href='file:///Users/nace/local/conda/envs/folio/lib/python3.9/site-packages/psycopg2/extras.py?line=1267'>1268</a>\u001b[0m     parts\u001b[39m.\u001b[39mappend(\u001b[39mb\u001b[39m\u001b[39m'\u001b[39m\u001b[39m,\u001b[39m\u001b[39m'\u001b[39m)\n\u001b[1;32m   <a href='file:///Users/nace/local/conda/envs/folio/lib/python3.9/site-packages/psycopg2/extras.py?line=1268'>1269</a>\u001b[0m parts[\u001b[39m-\u001b[39m\u001b[39m1\u001b[39m:] \u001b[39m=\u001b[39m post\n\u001b[0;32m-> <a href='file:///Users/nace/local/conda/envs/folio/lib/python3.9/site-packages/psycopg2/extras.py?line=1269'>1270</a>\u001b[0m cur\u001b[39m.\u001b[39;49mexecute(\u001b[39mb\u001b[39;49m\u001b[39m'\u001b[39;49m\u001b[39m'\u001b[39;49m\u001b[39m.\u001b[39;49mjoin(parts))\n\u001b[1;32m   <a href='file:///Users/nace/local/conda/envs/folio/lib/python3.9/site-packages/psycopg2/extras.py?line=1270'>1271</a>\u001b[0m \u001b[39mif\u001b[39;00m fetch:\n\u001b[1;32m   <a href='file:///Users/nace/local/conda/envs/folio/lib/python3.9/site-packages/psycopg2/extras.py?line=1271'>1272</a>\u001b[0m     result\u001b[39m.\u001b[39mextend(cur\u001b[39m.\u001b[39mfetchall())\n",
      "File \u001b[0;32m~/local/conda/envs/folio/lib/python3.9/encodings/utf_8.py:15\u001b[0m, in \u001b[0;36mdecode\u001b[0;34m(input, errors)\u001b[0m\n\u001b[1;32m     <a href='file:///Users/nace/local/conda/envs/folio/lib/python3.9/encodings/utf_8.py?line=10'>11</a>\u001b[0m \u001b[39m### Codec APIs\u001b[39;00m\n\u001b[1;32m     <a href='file:///Users/nace/local/conda/envs/folio/lib/python3.9/encodings/utf_8.py?line=12'>13</a>\u001b[0m encode \u001b[39m=\u001b[39m codecs\u001b[39m.\u001b[39mutf_8_encode\n\u001b[0;32m---> <a href='file:///Users/nace/local/conda/envs/folio/lib/python3.9/encodings/utf_8.py?line=14'>15</a>\u001b[0m \u001b[39mdef\u001b[39;00m \u001b[39mdecode\u001b[39m(\u001b[39minput\u001b[39m, errors\u001b[39m=\u001b[39m\u001b[39m'\u001b[39m\u001b[39mstrict\u001b[39m\u001b[39m'\u001b[39m):\n\u001b[1;32m     <a href='file:///Users/nace/local/conda/envs/folio/lib/python3.9/encodings/utf_8.py?line=15'>16</a>\u001b[0m     \u001b[39mreturn\u001b[39;00m codecs\u001b[39m.\u001b[39mutf_8_decode(\u001b[39minput\u001b[39m, errors, \u001b[39mTrue\u001b[39;00m)\n\u001b[1;32m     <a href='file:///Users/nace/local/conda/envs/folio/lib/python3.9/encodings/utf_8.py?line=17'>18</a>\u001b[0m \u001b[39mclass\u001b[39;00m \u001b[39mIncrementalEncoder\u001b[39;00m(codecs\u001b[39m.\u001b[39mIncrementalEncoder):\n",
      "\u001b[0;31mKeyboardInterrupt\u001b[0m: "
     ]
    }
   ],
   "source": [
    "for filename in filenames[1:]:\n",
    "    print(filename)\n",
    "    local_path = os.path.join(local_folder, filename)\n",
    "    df = pd.read_csv(local_path)\n",
    "    print('before ', df.head())\n",
    "    df.columns = [col.lower() for col in df.columns]\n",
    "    convert_integer(df, table_schema)\n",
    "    convert_numeric(df, table_schema)\n",
    "    convert_date_columns(df)\n",
    "    print('after ', df.head())\n",
    "    sql.upload_df_chunks(\"prices_wrds\", df, chunk_size=100)\n",
    "    print(f'Done with {filename}')"
   ]
  },
  {
   "cell_type": "code",
   "execution_count": 115,
   "metadata": {},
   "outputs": [],
   "source": [
    "col_int = table_schema.loc[table_schema.data_type == 'integer']['column_name']"
   ]
  },
  {
   "cell_type": "code",
   "execution_count": 116,
   "metadata": {},
   "outputs": [
    {
     "data": {
      "text/html": [
       "<div>\n",
       "<style scoped>\n",
       "    .dataframe tbody tr th:only-of-type {\n",
       "        vertical-align: middle;\n",
       "    }\n",
       "\n",
       "    .dataframe tbody tr th {\n",
       "        vertical-align: top;\n",
       "    }\n",
       "\n",
       "    .dataframe thead th {\n",
       "        text-align: right;\n",
       "    }\n",
       "</style>\n",
       "<table border=\"1\" class=\"dataframe\">\n",
       "  <thead>\n",
       "    <tr style=\"text-align: right;\">\n",
       "      <th></th>\n",
       "      <th>permno</th>\n",
       "      <th>permco</th>\n",
       "      <th>dlymmcnt</th>\n",
       "      <th>shrout</th>\n",
       "      <th>dispermno</th>\n",
       "      <th>dispermco</th>\n",
       "    </tr>\n",
       "  </thead>\n",
       "  <tbody>\n",
       "    <tr>\n",
       "      <th>0</th>\n",
       "      <td>10259</td>\n",
       "      <td>8187</td>\n",
       "      <td>50.0</td>\n",
       "      <td>38495.0</td>\n",
       "      <td>NaN</td>\n",
       "      <td>NaN</td>\n",
       "    </tr>\n",
       "    <tr>\n",
       "      <th>1</th>\n",
       "      <td>10259</td>\n",
       "      <td>8187</td>\n",
       "      <td>50.0</td>\n",
       "      <td>38495.0</td>\n",
       "      <td>NaN</td>\n",
       "      <td>NaN</td>\n",
       "    </tr>\n",
       "    <tr>\n",
       "      <th>2</th>\n",
       "      <td>10259</td>\n",
       "      <td>8187</td>\n",
       "      <td>50.0</td>\n",
       "      <td>38495.0</td>\n",
       "      <td>NaN</td>\n",
       "      <td>NaN</td>\n",
       "    </tr>\n",
       "    <tr>\n",
       "      <th>3</th>\n",
       "      <td>10259</td>\n",
       "      <td>8187</td>\n",
       "      <td>50.0</td>\n",
       "      <td>38495.0</td>\n",
       "      <td>NaN</td>\n",
       "      <td>NaN</td>\n",
       "    </tr>\n",
       "    <tr>\n",
       "      <th>4</th>\n",
       "      <td>10259</td>\n",
       "      <td>8187</td>\n",
       "      <td>50.0</td>\n",
       "      <td>38495.0</td>\n",
       "      <td>NaN</td>\n",
       "      <td>NaN</td>\n",
       "    </tr>\n",
       "    <tr>\n",
       "      <th>...</th>\n",
       "      <td>...</td>\n",
       "      <td>...</td>\n",
       "      <td>...</td>\n",
       "      <td>...</td>\n",
       "      <td>...</td>\n",
       "      <td>...</td>\n",
       "    </tr>\n",
       "    <tr>\n",
       "      <th>999995</th>\n",
       "      <td>10563</td>\n",
       "      <td>8472</td>\n",
       "      <td>28.0</td>\n",
       "      <td>11996.0</td>\n",
       "      <td>NaN</td>\n",
       "      <td>NaN</td>\n",
       "    </tr>\n",
       "    <tr>\n",
       "      <th>999996</th>\n",
       "      <td>10563</td>\n",
       "      <td>8472</td>\n",
       "      <td>28.0</td>\n",
       "      <td>11996.0</td>\n",
       "      <td>NaN</td>\n",
       "      <td>NaN</td>\n",
       "    </tr>\n",
       "    <tr>\n",
       "      <th>999997</th>\n",
       "      <td>10563</td>\n",
       "      <td>8472</td>\n",
       "      <td>26.0</td>\n",
       "      <td>11996.0</td>\n",
       "      <td>NaN</td>\n",
       "      <td>NaN</td>\n",
       "    </tr>\n",
       "    <tr>\n",
       "      <th>999998</th>\n",
       "      <td>10563</td>\n",
       "      <td>8472</td>\n",
       "      <td>28.0</td>\n",
       "      <td>11996.0</td>\n",
       "      <td>NaN</td>\n",
       "      <td>NaN</td>\n",
       "    </tr>\n",
       "    <tr>\n",
       "      <th>999999</th>\n",
       "      <td>10563</td>\n",
       "      <td>8472</td>\n",
       "      <td>27.0</td>\n",
       "      <td>11996.0</td>\n",
       "      <td>NaN</td>\n",
       "      <td>NaN</td>\n",
       "    </tr>\n",
       "  </tbody>\n",
       "</table>\n",
       "<p>1000000 rows × 6 columns</p>\n",
       "</div>"
      ],
      "text/plain": [
       "        permno  permco  dlymmcnt   shrout  dispermno  dispermco\n",
       "0        10259    8187      50.0  38495.0        NaN        NaN\n",
       "1        10259    8187      50.0  38495.0        NaN        NaN\n",
       "2        10259    8187      50.0  38495.0        NaN        NaN\n",
       "3        10259    8187      50.0  38495.0        NaN        NaN\n",
       "4        10259    8187      50.0  38495.0        NaN        NaN\n",
       "...        ...     ...       ...      ...        ...        ...\n",
       "999995   10563    8472      28.0  11996.0        NaN        NaN\n",
       "999996   10563    8472      28.0  11996.0        NaN        NaN\n",
       "999997   10563    8472      26.0  11996.0        NaN        NaN\n",
       "999998   10563    8472      28.0  11996.0        NaN        NaN\n",
       "999999   10563    8472      27.0  11996.0        NaN        NaN\n",
       "\n",
       "[1000000 rows x 6 columns]"
      ]
     },
     "execution_count": 116,
     "metadata": {},
     "output_type": "execute_result"
    }
   ],
   "source": [
    "df[col_int]\n",
    "# numeric(14, 2): dlycap\n",
    "# "
   ]
  },
  {
   "cell_type": "code",
   "execution_count": 9,
   "metadata": {},
   "outputs": [
    {
     "data": {
      "text/plain": [
       "86835810    624\n",
       "25365110    624\n",
       "14912310    624\n",
       "77571110    624\n",
       "82654610    624\n",
       "           ... \n",
       "37229820      1\n",
       "14170630      1\n",
       "87073T10      1\n",
       "37193310      1\n",
       "13910110      1\n",
       "Name: cusip, Length: 30856, dtype: int64"
      ]
     },
     "execution_count": 9,
     "metadata": {},
     "output_type": "execute_result"
    }
   ],
   "source": [
    "df.cusip.value_counts()"
   ]
  },
  {
   "cell_type": "code",
   "execution_count": 11,
   "metadata": {},
   "outputs": [],
   "source": [
    "local_path = os.path.join(local_folder, 'crsp_prices_000.csv')"
   ]
  },
  {
   "cell_type": "code",
   "execution_count": 12,
   "metadata": {},
   "outputs": [
    {
     "data": {
      "text/plain": [
       "'data/crsp_prices/crsp_prices_000.csv'"
      ]
     },
     "execution_count": 12,
     "metadata": {},
     "output_type": "execute_result"
    }
   ],
   "source": [
    "local_path"
   ]
  },
  {
   "cell_type": "code",
   "execution_count": 13,
   "metadata": {},
   "outputs": [
    {
     "name": "stderr",
     "output_type": "stream",
     "text": [
      "/Users/nace/local/conda/envs/folio/lib/python3.9/site-packages/IPython/core/interactiveshell.py:3251: DtypeWarning: Columns (21,41,45,46,47,48,49,50,51) have mixed types.Specify dtype option on import or set low_memory=False.\n",
      "  exec(code_obj, self.user_global_ns, self.user_ns)\n"
     ]
    }
   ],
   "source": [
    "df = pd.read_csv(local_path)"
   ]
  },
  {
   "cell_type": "code",
   "execution_count": null,
   "metadata": {},
   "outputs": [],
   "source": [
    "# permno int NOT NULL,\n",
    "# date timestamp without time zone NOT NULL,\n",
    "# ticker varchar(20),\n",
    "# prc float NOT NULL,\n",
    "# vol int,\n",
    "# ret float NOT NULL,\n",
    "# shrout int NOT NULL,"
   ]
  },
  {
   "cell_type": "code",
   "execution_count": 15,
   "metadata": {},
   "outputs": [
    {
     "data": {
      "text/plain": [
       "Index(['permno', 'primaryexch', 'securitynm', 'ticker', 'permco', 'issuernm',\n",
       "       'yyyymmdd', 'dlycaldt', 'dlydelflg', 'dlyprc', 'dlyprcflg', 'dlycap',\n",
       "       'dlycapflg', 'dlyprevprc', 'dlyprevprcflg', 'dlyprevdt', 'dlyprevcap',\n",
       "       'dlyprevcapflg', 'dlyret', 'dlyretx', 'dlyreti', 'dlyretmissflg',\n",
       "       'dlyretdurflg', 'dlyorddivamt', 'dlynonorddivamt', 'dlyfacprc',\n",
       "       'dlydistretflg', 'dlyvol', 'dlyclose', 'dlylow', 'dlyhigh', 'dlybid',\n",
       "       'dlyask', 'dlyopen', 'dlynumtrd', 'dlymmcnt', 'dlyprcvol', 'shrstartdt',\n",
       "       'shrenddt', 'shrout', 'shrsource', 'shrfactype', 'shradrflg', 'disexdt',\n",
       "       'disseqnbr', 'disordinaryflg', 'distype', 'disfreqtype',\n",
       "       'dispaymenttype', 'disdetailtype', 'distaxtype', 'disorigcurtype',\n",
       "       'disdivamt', 'disfacpr', 'disfacshr', 'disdeclaredt', 'disrecorddt',\n",
       "       'dispaydt', 'dispermno', 'dispermco'],\n",
       "      dtype='object')"
      ]
     },
     "execution_count": 15,
     "metadata": {},
     "output_type": "execute_result"
    }
   ],
   "source": [
    "df.columns\n",
    "# 'permno', 'primaryexch', 'ticker', 'issuernm', 'dlycaldt', 'dlyprc', 'dlyclose'"
   ]
  },
  {
   "cell_type": "code",
   "execution_count": 31,
   "metadata": {},
   "outputs": [],
   "source": [
    "cols_keep = ['permno', 'primaryexch', 'ticker', 'issuernm', 'dlycaldt', 'dlyprc', \n",
    "    'dlybid', 'dlyask', 'dlyvol', 'dlyret', 'shrout']"
   ]
  },
  {
   "cell_type": "code",
   "execution_count": 32,
   "metadata": {},
   "outputs": [
    {
     "data": {
      "text/html": [
       "<div>\n",
       "<style scoped>\n",
       "    .dataframe tbody tr th:only-of-type {\n",
       "        vertical-align: middle;\n",
       "    }\n",
       "\n",
       "    .dataframe tbody tr th {\n",
       "        vertical-align: top;\n",
       "    }\n",
       "\n",
       "    .dataframe thead th {\n",
       "        text-align: right;\n",
       "    }\n",
       "</style>\n",
       "<table border=\"1\" class=\"dataframe\">\n",
       "  <thead>\n",
       "    <tr style=\"text-align: right;\">\n",
       "      <th></th>\n",
       "      <th>permno</th>\n",
       "      <th>primaryexch</th>\n",
       "      <th>ticker</th>\n",
       "      <th>issuernm</th>\n",
       "      <th>dlycaldt</th>\n",
       "      <th>dlyprc</th>\n",
       "      <th>dlybid</th>\n",
       "      <th>dlyask</th>\n",
       "      <th>dlyvol</th>\n",
       "      <th>dlyret</th>\n",
       "      <th>shrout</th>\n",
       "    </tr>\n",
       "  </thead>\n",
       "  <tbody>\n",
       "    <tr>\n",
       "      <th>0</th>\n",
       "      <td>10000</td>\n",
       "      <td>Q</td>\n",
       "      <td>OMFGA</td>\n",
       "      <td>OPTIMUM MANUFACTURING INC</td>\n",
       "      <td>19860107</td>\n",
       "      <td>2.5625</td>\n",
       "      <td>2.375</td>\n",
       "      <td>2.750</td>\n",
       "      <td>1000.0</td>\n",
       "      <td>NaN</td>\n",
       "      <td>3680.0</td>\n",
       "    </tr>\n",
       "    <tr>\n",
       "      <th>1</th>\n",
       "      <td>10000</td>\n",
       "      <td>Q</td>\n",
       "      <td>OMFGA</td>\n",
       "      <td>OPTIMUM MANUFACTURING INC</td>\n",
       "      <td>19860108</td>\n",
       "      <td>2.5000</td>\n",
       "      <td>2.375</td>\n",
       "      <td>2.625</td>\n",
       "      <td>12800.0</td>\n",
       "      <td>-0.024390</td>\n",
       "      <td>3680.0</td>\n",
       "    </tr>\n",
       "    <tr>\n",
       "      <th>2</th>\n",
       "      <td>10000</td>\n",
       "      <td>Q</td>\n",
       "      <td>OMFGA</td>\n",
       "      <td>OPTIMUM MANUFACTURING INC</td>\n",
       "      <td>19860109</td>\n",
       "      <td>2.5000</td>\n",
       "      <td>2.375</td>\n",
       "      <td>2.625</td>\n",
       "      <td>1400.0</td>\n",
       "      <td>0.000000</td>\n",
       "      <td>3680.0</td>\n",
       "    </tr>\n",
       "    <tr>\n",
       "      <th>3</th>\n",
       "      <td>10000</td>\n",
       "      <td>Q</td>\n",
       "      <td>OMFGA</td>\n",
       "      <td>OPTIMUM MANUFACTURING INC</td>\n",
       "      <td>19860110</td>\n",
       "      <td>2.5000</td>\n",
       "      <td>2.375</td>\n",
       "      <td>2.625</td>\n",
       "      <td>8500.0</td>\n",
       "      <td>0.000000</td>\n",
       "      <td>3680.0</td>\n",
       "    </tr>\n",
       "    <tr>\n",
       "      <th>4</th>\n",
       "      <td>10000</td>\n",
       "      <td>Q</td>\n",
       "      <td>OMFGA</td>\n",
       "      <td>OPTIMUM MANUFACTURING INC</td>\n",
       "      <td>19860113</td>\n",
       "      <td>2.6250</td>\n",
       "      <td>2.500</td>\n",
       "      <td>2.750</td>\n",
       "      <td>5450.0</td>\n",
       "      <td>0.050000</td>\n",
       "      <td>3680.0</td>\n",
       "    </tr>\n",
       "    <tr>\n",
       "      <th>...</th>\n",
       "      <td>...</td>\n",
       "      <td>...</td>\n",
       "      <td>...</td>\n",
       "      <td>...</td>\n",
       "      <td>...</td>\n",
       "      <td>...</td>\n",
       "      <td>...</td>\n",
       "      <td>...</td>\n",
       "      <td>...</td>\n",
       "      <td>...</td>\n",
       "      <td>...</td>\n",
       "    </tr>\n",
       "    <tr>\n",
       "      <th>999995</th>\n",
       "      <td>10259</td>\n",
       "      <td>Q</td>\n",
       "      <td>SIGM</td>\n",
       "      <td>SIGMA DESIGNS INC</td>\n",
       "      <td>20170724</td>\n",
       "      <td>6.1500</td>\n",
       "      <td>6.100</td>\n",
       "      <td>6.150</td>\n",
       "      <td>128092.0</td>\n",
       "      <td>0.000000</td>\n",
       "      <td>38212.0</td>\n",
       "    </tr>\n",
       "    <tr>\n",
       "      <th>999996</th>\n",
       "      <td>10259</td>\n",
       "      <td>Q</td>\n",
       "      <td>SIGM</td>\n",
       "      <td>SIGMA DESIGNS INC</td>\n",
       "      <td>20170725</td>\n",
       "      <td>6.1000</td>\n",
       "      <td>6.100</td>\n",
       "      <td>6.150</td>\n",
       "      <td>203401.0</td>\n",
       "      <td>-0.008130</td>\n",
       "      <td>38212.0</td>\n",
       "    </tr>\n",
       "    <tr>\n",
       "      <th>999997</th>\n",
       "      <td>10259</td>\n",
       "      <td>Q</td>\n",
       "      <td>SIGM</td>\n",
       "      <td>SIGMA DESIGNS INC</td>\n",
       "      <td>20170726</td>\n",
       "      <td>6.7000</td>\n",
       "      <td>6.650</td>\n",
       "      <td>6.700</td>\n",
       "      <td>601663.0</td>\n",
       "      <td>0.098361</td>\n",
       "      <td>38212.0</td>\n",
       "    </tr>\n",
       "    <tr>\n",
       "      <th>999998</th>\n",
       "      <td>10259</td>\n",
       "      <td>Q</td>\n",
       "      <td>SIGM</td>\n",
       "      <td>SIGMA DESIGNS INC</td>\n",
       "      <td>20170727</td>\n",
       "      <td>6.5500</td>\n",
       "      <td>6.550</td>\n",
       "      <td>6.600</td>\n",
       "      <td>300517.0</td>\n",
       "      <td>-0.022388</td>\n",
       "      <td>38212.0</td>\n",
       "    </tr>\n",
       "    <tr>\n",
       "      <th>999999</th>\n",
       "      <td>10259</td>\n",
       "      <td>Q</td>\n",
       "      <td>SIGM</td>\n",
       "      <td>SIGMA DESIGNS INC</td>\n",
       "      <td>20170728</td>\n",
       "      <td>6.5000</td>\n",
       "      <td>6.500</td>\n",
       "      <td>6.550</td>\n",
       "      <td>113917.0</td>\n",
       "      <td>-0.007634</td>\n",
       "      <td>38495.0</td>\n",
       "    </tr>\n",
       "  </tbody>\n",
       "</table>\n",
       "<p>1000000 rows × 11 columns</p>\n",
       "</div>"
      ],
      "text/plain": [
       "        permno primaryexch ticker                   issuernm  dlycaldt  \\\n",
       "0        10000           Q  OMFGA  OPTIMUM MANUFACTURING INC  19860107   \n",
       "1        10000           Q  OMFGA  OPTIMUM MANUFACTURING INC  19860108   \n",
       "2        10000           Q  OMFGA  OPTIMUM MANUFACTURING INC  19860109   \n",
       "3        10000           Q  OMFGA  OPTIMUM MANUFACTURING INC  19860110   \n",
       "4        10000           Q  OMFGA  OPTIMUM MANUFACTURING INC  19860113   \n",
       "...        ...         ...    ...                        ...       ...   \n",
       "999995   10259           Q   SIGM          SIGMA DESIGNS INC  20170724   \n",
       "999996   10259           Q   SIGM          SIGMA DESIGNS INC  20170725   \n",
       "999997   10259           Q   SIGM          SIGMA DESIGNS INC  20170726   \n",
       "999998   10259           Q   SIGM          SIGMA DESIGNS INC  20170727   \n",
       "999999   10259           Q   SIGM          SIGMA DESIGNS INC  20170728   \n",
       "\n",
       "        dlyprc  dlybid  dlyask    dlyvol    dlyret   shrout  \n",
       "0       2.5625   2.375   2.750    1000.0       NaN   3680.0  \n",
       "1       2.5000   2.375   2.625   12800.0 -0.024390   3680.0  \n",
       "2       2.5000   2.375   2.625    1400.0  0.000000   3680.0  \n",
       "3       2.5000   2.375   2.625    8500.0  0.000000   3680.0  \n",
       "4       2.6250   2.500   2.750    5450.0  0.050000   3680.0  \n",
       "...        ...     ...     ...       ...       ...      ...  \n",
       "999995  6.1500   6.100   6.150  128092.0  0.000000  38212.0  \n",
       "999996  6.1000   6.100   6.150  203401.0 -0.008130  38212.0  \n",
       "999997  6.7000   6.650   6.700  601663.0  0.098361  38212.0  \n",
       "999998  6.5500   6.550   6.600  300517.0 -0.022388  38212.0  \n",
       "999999  6.5000   6.500   6.550  113917.0 -0.007634  38495.0  \n",
       "\n",
       "[1000000 rows x 11 columns]"
      ]
     },
     "execution_count": 32,
     "metadata": {},
     "output_type": "execute_result"
    }
   ],
   "source": [
    "df[cols_keep]"
   ]
  },
  {
   "cell_type": "code",
   "execution_count": 35,
   "metadata": {},
   "outputs": [],
   "source": [
    "cols_drop = [col for col in df.columns if col not in cols_keep]"
   ]
  },
  {
   "cell_type": "code",
   "execution_count": 36,
   "metadata": {},
   "outputs": [
    {
     "data": {
      "text/plain": [
       "['securitynm',\n",
       " 'permco',\n",
       " 'yyyymmdd',\n",
       " 'dlydelflg',\n",
       " 'dlyprcflg',\n",
       " 'dlycap',\n",
       " 'dlycapflg',\n",
       " 'dlyprevprc',\n",
       " 'dlyprevprcflg',\n",
       " 'dlyprevdt',\n",
       " 'dlyprevcap',\n",
       " 'dlyprevcapflg',\n",
       " 'dlyretx',\n",
       " 'dlyreti',\n",
       " 'dlyretmissflg',\n",
       " 'dlyretdurflg',\n",
       " 'dlyorddivamt',\n",
       " 'dlynonorddivamt',\n",
       " 'dlyfacprc',\n",
       " 'dlydistretflg',\n",
       " 'dlyclose',\n",
       " 'dlylow',\n",
       " 'dlyhigh',\n",
       " 'dlyopen',\n",
       " 'dlynumtrd',\n",
       " 'dlymmcnt',\n",
       " 'dlyprcvol',\n",
       " 'shrstartdt',\n",
       " 'shrenddt',\n",
       " 'shrsource',\n",
       " 'shrfactype',\n",
       " 'shradrflg',\n",
       " 'disexdt',\n",
       " 'disseqnbr',\n",
       " 'disordinaryflg',\n",
       " 'distype',\n",
       " 'disfreqtype',\n",
       " 'dispaymenttype',\n",
       " 'disdetailtype',\n",
       " 'distaxtype',\n",
       " 'disorigcurtype',\n",
       " 'disdivamt',\n",
       " 'disfacpr',\n",
       " 'disfacshr',\n",
       " 'disdeclaredt',\n",
       " 'disrecorddt',\n",
       " 'dispaydt',\n",
       " 'dispermno',\n",
       " 'dispermco']"
      ]
     },
     "execution_count": 36,
     "metadata": {},
     "output_type": "execute_result"
    }
   ],
   "source": [
    "cols_drop"
   ]
  },
  {
   "cell_type": "code",
   "execution_count": null,
   "metadata": {},
   "outputs": [],
   "source": []
  },
  {
   "cell_type": "code",
   "execution_count": 39,
   "metadata": {},
   "outputs": [
    {
     "name": "stdout",
     "output_type": "stream",
     "text": [
      "ALTER TABLE prices_wrds\n",
      "DROP COLUMN yyyymmdd,\n",
      "DROP COLUMN dlydelflg,\n",
      "DROP COLUMN dlyprcflg,\n",
      "DROP COLUMN dlycap,\n",
      "DROP COLUMN dlycapflg,\n",
      "DROP COLUMN dlyprevprc,\n",
      "DROP COLUMN dlyprevprcflg,\n",
      "DROP COLUMN dlyprevdt,\n",
      "DROP COLUMN dlyprevcap,\n",
      "DROP COLUMN dlyprevcapflg,\n",
      "DROP COLUMN dlyretx,\n",
      "DROP COLUMN dlyreti,\n",
      "DROP COLUMN dlyretmissflg,\n",
      "DROP COLUMN dlyretdurflg,\n",
      "DROP COLUMN dlyorddivamt,\n",
      "DROP COLUMN dlynonorddivamt,\n",
      "DROP COLUMN dlyfacprc,\n",
      "DROP COLUMN dlydistretflg,\n",
      "DROP COLUMN dlyclose,\n",
      "DROP COLUMN dlylow,\n",
      "DROP COLUMN dlyhigh,\n",
      "DROP COLUMN dlyopen,\n",
      "DROP COLUMN dlynumtrd,\n",
      "DROP COLUMN dlymmcnt,\n",
      "DROP COLUMN dlyprcvol,\n",
      "DROP COLUMN shrstartdt,\n",
      "DROP COLUMN shrenddt,\n",
      "DROP COLUMN shrsource,\n",
      "DROP COLUMN shrfactype,\n",
      "DROP COLUMN shradrflg,\n",
      "DROP COLUMN disexdt,\n",
      "DROP COLUMN disseqnbr,\n",
      "DROP COLUMN disordinaryflg,\n",
      "DROP COLUMN distype,\n",
      "DROP COLUMN disfreqtype,\n",
      "DROP COLUMN dispaymenttype,\n",
      "DROP COLUMN disdetailtype,\n",
      "DROP COLUMN distaxtype,\n",
      "DROP COLUMN disorigcurtype,\n",
      "DROP COLUMN disdivamt,\n",
      "DROP COLUMN disfacpr,\n",
      "DROP COLUMN disfacshr,\n",
      "DROP COLUMN disdeclaredt,\n",
      "DROP COLUMN disrecorddt,\n",
      "DROP COLUMN dispaydt,\n",
      "DROP COLUMN dispermno,\n",
      "DROP COLUMN dispermco\n"
     ]
    }
   ],
   "source": [
    "print(\"ALTER TABLE prices_wrds\\n\" + \",\\n\".join([f\"DROP COLUMN {col}\" for col in cols_drop[2:]]))"
   ]
  },
  {
   "cell_type": "code",
   "execution_count": null,
   "metadata": {},
   "outputs": [],
   "source": [
    "ALTER TABLE prices_wrds  \n",
    "DROP COLUMN securitynm,\n",
    "DROP COLUMN permco;"
   ]
  },
  {
   "cell_type": "code",
   "execution_count": 18,
   "metadata": {},
   "outputs": [
    {
     "data": {
      "text/html": [
       "<div>\n",
       "<style scoped>\n",
       "    .dataframe tbody tr th:only-of-type {\n",
       "        vertical-align: middle;\n",
       "    }\n",
       "\n",
       "    .dataframe tbody tr th {\n",
       "        vertical-align: top;\n",
       "    }\n",
       "\n",
       "    .dataframe thead th {\n",
       "        text-align: right;\n",
       "    }\n",
       "</style>\n",
       "<table border=\"1\" class=\"dataframe\">\n",
       "  <thead>\n",
       "    <tr style=\"text-align: right;\">\n",
       "      <th></th>\n",
       "      <th>permno</th>\n",
       "      <th>primaryexch</th>\n",
       "      <th>securitynm</th>\n",
       "      <th>ticker</th>\n",
       "      <th>permco</th>\n",
       "      <th>issuernm</th>\n",
       "      <th>yyyymmdd</th>\n",
       "      <th>dlycaldt</th>\n",
       "      <th>dlydelflg</th>\n",
       "      <th>dlyprc</th>\n",
       "      <th>dlyprcflg</th>\n",
       "      <th>dlycap</th>\n",
       "      <th>dlycapflg</th>\n",
       "      <th>dlyprevprc</th>\n",
       "      <th>dlyprevprcflg</th>\n",
       "      <th>dlyprevdt</th>\n",
       "      <th>dlyprevcap</th>\n",
       "      <th>dlyprevcapflg</th>\n",
       "      <th>dlyret</th>\n",
       "      <th>dlyretx</th>\n",
       "      <th>dlyreti</th>\n",
       "      <th>dlyretmissflg</th>\n",
       "      <th>dlyretdurflg</th>\n",
       "      <th>dlyorddivamt</th>\n",
       "      <th>dlynonorddivamt</th>\n",
       "      <th>dlyfacprc</th>\n",
       "      <th>dlydistretflg</th>\n",
       "      <th>dlyvol</th>\n",
       "      <th>dlyclose</th>\n",
       "      <th>dlylow</th>\n",
       "      <th>dlyhigh</th>\n",
       "      <th>dlybid</th>\n",
       "      <th>dlyask</th>\n",
       "      <th>dlyopen</th>\n",
       "      <th>dlynumtrd</th>\n",
       "      <th>dlymmcnt</th>\n",
       "      <th>dlyprcvol</th>\n",
       "      <th>shrstartdt</th>\n",
       "      <th>shrenddt</th>\n",
       "      <th>shrout</th>\n",
       "      <th>shrsource</th>\n",
       "      <th>shrfactype</th>\n",
       "      <th>shradrflg</th>\n",
       "      <th>disexdt</th>\n",
       "      <th>disseqnbr</th>\n",
       "      <th>disordinaryflg</th>\n",
       "      <th>distype</th>\n",
       "      <th>disfreqtype</th>\n",
       "      <th>dispaymenttype</th>\n",
       "      <th>disdetailtype</th>\n",
       "      <th>distaxtype</th>\n",
       "      <th>disorigcurtype</th>\n",
       "      <th>disdivamt</th>\n",
       "      <th>disfacpr</th>\n",
       "      <th>disfacshr</th>\n",
       "      <th>disdeclaredt</th>\n",
       "      <th>disrecorddt</th>\n",
       "      <th>dispaydt</th>\n",
       "      <th>dispermno</th>\n",
       "      <th>dispermco</th>\n",
       "    </tr>\n",
       "  </thead>\n",
       "  <tbody>\n",
       "  </tbody>\n",
       "</table>\n",
       "</div>"
      ],
      "text/plain": [
       "Empty DataFrame\n",
       "Columns: [permno, primaryexch, securitynm, ticker, permco, issuernm, yyyymmdd, dlycaldt, dlydelflg, dlyprc, dlyprcflg, dlycap, dlycapflg, dlyprevprc, dlyprevprcflg, dlyprevdt, dlyprevcap, dlyprevcapflg, dlyret, dlyretx, dlyreti, dlyretmissflg, dlyretdurflg, dlyorddivamt, dlynonorddivamt, dlyfacprc, dlydistretflg, dlyvol, dlyclose, dlylow, dlyhigh, dlybid, dlyask, dlyopen, dlynumtrd, dlymmcnt, dlyprcvol, shrstartdt, shrenddt, shrout, shrsource, shrfactype, shradrflg, disexdt, disseqnbr, disordinaryflg, distype, disfreqtype, dispaymenttype, disdetailtype, distaxtype, disorigcurtype, disdivamt, disfacpr, disfacshr, disdeclaredt, disrecorddt, dispaydt, dispermno, dispermco]\n",
       "Index: []"
      ]
     },
     "execution_count": 18,
     "metadata": {},
     "output_type": "execute_result"
    }
   ],
   "source": [
    "df.loc[df.yyyymmdd != df.dlycaldt]"
   ]
  },
  {
   "cell_type": "code",
   "execution_count": null,
   "metadata": {},
   "outputs": [],
   "source": []
  }
 ],
 "metadata": {
  "interpreter": {
   "hash": "0bcf91ff9cf4ca5ddbc8ce8bb327cca6da24963e98c1bc18ab77da1053c9115d"
  },
  "kernelspec": {
   "display_name": "Python 3.9.9 ('folio')",
   "language": "python",
   "name": "python3"
  },
  "language_info": {
   "codemirror_mode": {
    "name": "ipython",
    "version": 3
   },
   "file_extension": ".py",
   "mimetype": "text/x-python",
   "name": "python",
   "nbconvert_exporter": "python",
   "pygments_lexer": "ipython3",
   "version": "3.9.9"
  },
  "orig_nbformat": 4
 },
 "nbformat": 4,
 "nbformat_minor": 2
}
